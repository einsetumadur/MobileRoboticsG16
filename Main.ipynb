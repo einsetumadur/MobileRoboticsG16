{
 "cells": [
  {
   "cell_type": "code",
   "execution_count": null,
   "metadata": {},
   "outputs": [],
   "source": [
    "# Global variables\n",
    "global client \n",
    "global node\n",
    "\n",
    "#import librairies\n",
    "import time\n",
    "import numpy as np\n",
    "import math\n",
    "from tdmclient import ClientAsync\n",
    "\n",
    "# import local libraries \n",
    "from src.Vision import vision as vs\n",
    "from src.Local_Nav import local_navigation as ln\n",
    "from src.Motion_Control import thymio\n",
    "#\n",
    "#"
   ]
  },
  {
   "cell_type": "code",
   "execution_count": null,
   "metadata": {},
   "outputs": [],
   "source": [
    "\n",
    "\n",
    "client = ClientAsync()\n",
    "node = await client.wait_for_node() #_ = protected #__ = private = shouldn't access node outside of the class\n",
    "await node.lock()"
   ]
  },
  {
   "cell_type": "code",
   "execution_count": null,
   "metadata": {},
   "outputs": [],
   "source": [
    "print(client)\n",
    "node.set_variables(ln.motors(100,-100))\n",
    "while True:\n",
    "    values = await thymio.get_proximity_values(client)\n",
    "    print(values)"
   ]
  },
  {
   "cell_type": "code",
   "execution_count": null,
   "metadata": {},
   "outputs": [],
   "source": [
    "#MAIN CODE 1: \n",
    "\n",
    "#parameters\n",
    "path_step=0 #This is the index of where we are in the path.\n",
    "\n",
    "local_obstacle=False\n",
    "threshold_obst=3500\n",
    "\n",
    "\n",
    "#to implement in a different way thanks to filtering : \n",
    "robot_position=1\n",
    "end_position=2\n",
    "\n",
    "async def main():\n",
    "    global local_obstacle\n",
    "    \n",
    "    while(robot_position!=end_position):\n",
    "        sens = await thymio.get_proximity_values()\n",
    "        if (sum(sens[i] > threshold_obst for i in range(0, 5)) > 0):\n",
    "            local_obstacle = True\n",
    "            start_time = time.time()\n",
    "\n",
    "        if(local_obstacle):\n",
    "            sens = await thymio.get_proximity_values()\n",
    "            #sens=list(node[\"prox.horizontal\"])\n",
    "            await ln.local_navigation()\n",
    "            local_obstacle=False\n",
    "        \n",
    "        #if(find_index_path_if_close(path_coord,b,epsilon) and time.time-start_time>2): \n",
    "            #path_step=find_index_path_if_close(path_coord, position_robot, epsilon)\n",
    "            #local_navigation=False\n",
    "\n",
    "        if not local_obstacle: \n",
    "            node.send_set_variables(thymio.motors(50, 50))\n",
    "            #Function input : absolute velocity wanted ; output wheel velocity\n",
    "            #u=speed along x axis\n",
    "            #v=speed along y axis\n",
    "            #apply compute wheel velocity to robot in the while loop\n",
    "            pass\n",
    "\n",
    "await main()\n",
    "\n",
    "await node.unlock()"
   ]
  }
 ],
 "metadata": {
  "kernelspec": {
   "display_name": "Python 3",
   "language": "python",
   "name": "python3"
  },
  "language_info": {
   "codemirror_mode": {
    "name": "ipython",
    "version": 3
   },
   "file_extension": ".py",
   "mimetype": "text/x-python",
   "name": "python",
   "nbconvert_exporter": "python",
   "pygments_lexer": "ipython3",
   "version": "3.12.0"
  }
 },
 "nbformat": 4,
 "nbformat_minor": 2
}
