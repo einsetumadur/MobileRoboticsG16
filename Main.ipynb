{
 "cells": [
  {
   "cell_type": "code",
   "execution_count": 5,
   "metadata": {},
   "outputs": [],
   "source": [
    "#Alternative : \n",
    "#import files\n",
    "#from local_navigation import prox\n",
    "#import class\n",
    "#from thymioV2 import thymio_robot\n",
    "#import librairies\n",
    "import time\n",
    "import numpy as np\n",
    "import math \n",
    "import cv2\n"
   ]
  },
  {
   "cell_type": "code",
   "execution_count": 6,
   "metadata": {},
   "outputs": [
    {
     "ename": "ConnectionRefusedError",
     "evalue": "[WinError 10061] Aucune connexion n’a pu être établie car l’ordinateur cible l’a expressément refusée",
     "output_type": "error",
     "traceback": [
      "\u001b[1;31m---------------------------------------------------------------------------\u001b[0m",
      "\u001b[1;31mConnectionRefusedError\u001b[0m                    Traceback (most recent call last)",
      "\u001b[1;32mc:\\Users\\jujud\\Documents\\MobileRoboticsG16\\Main.ipynb Cell 2\u001b[0m line \u001b[0;36m2\n\u001b[0;32m      <a href='vscode-notebook-cell:/c%3A/Users/jujud/Documents/MobileRoboticsG16/Main.ipynb#W1sZmlsZQ%3D%3D?line=0'>1</a>\u001b[0m \u001b[39mfrom\u001b[39;00m \u001b[39mtdmclient\u001b[39;00m \u001b[39mimport\u001b[39;00m ClientAsync\n\u001b[1;32m----> <a href='vscode-notebook-cell:/c%3A/Users/jujud/Documents/MobileRoboticsG16/Main.ipynb#W1sZmlsZQ%3D%3D?line=1'>2</a>\u001b[0m client \u001b[39m=\u001b[39m ClientAsync()\n\u001b[0;32m      <a href='vscode-notebook-cell:/c%3A/Users/jujud/Documents/MobileRoboticsG16/Main.ipynb#W1sZmlsZQ%3D%3D?line=2'>3</a>\u001b[0m node \u001b[39m=\u001b[39m \u001b[39mawait\u001b[39;00m client\u001b[39m.\u001b[39mwait_for_node() \u001b[39m#_ = protected #__ = private = shouldn't access node outside of the class\u001b[39;00m\n\u001b[0;32m      <a href='vscode-notebook-cell:/c%3A/Users/jujud/Documents/MobileRoboticsG16/Main.ipynb#W1sZmlsZQ%3D%3D?line=3'>4</a>\u001b[0m \u001b[39mawait\u001b[39;00m node\u001b[39m.\u001b[39mlock()\n",
      "File \u001b[1;32mc:\\Users\\jujud\\AppData\\Local\\Programs\\Python\\Python311\\Lib\\site-packages\\tdmclient\\clientasync.py:42\u001b[0m, in \u001b[0;36mClientAsync.__init__\u001b[1;34m(self, node_class, **kwargs)\u001b[0m\n\u001b[0;32m     41\u001b[0m \u001b[39mdef\u001b[39;00m \u001b[39m__init__\u001b[39m(\u001b[39mself\u001b[39m, node_class\u001b[39m=\u001b[39m\u001b[39mNone\u001b[39;00m, \u001b[39m*\u001b[39m\u001b[39m*\u001b[39mkwargs):\n\u001b[1;32m---> 42\u001b[0m     \u001b[39msuper\u001b[39;49m(ClientAsync, \u001b[39mself\u001b[39;49m)\u001b[39m.\u001b[39;49m\u001b[39m__init__\u001b[39;49m(\u001b[39m*\u001b[39;49m\u001b[39m*\u001b[39;49mkwargs)\n\u001b[0;32m     43\u001b[0m     \u001b[39mself\u001b[39m\u001b[39m.\u001b[39mnode_class \u001b[39m=\u001b[39m node_class \u001b[39mor\u001b[39;00m tdmclient\u001b[39m.\u001b[39mClientAsyncCacheNode\n",
      "File \u001b[1;32mc:\\Users\\jujud\\AppData\\Local\\Programs\\Python\\Python311\\Lib\\site-packages\\tdmclient\\client.py:98\u001b[0m, in \u001b[0;36mClient.__init__\u001b[1;34m(self, zeroconf, zeroconf_all, tdm_ws, tdm_addr, tdm_port, tdm_transport, password, **kwargs)\u001b[0m\n\u001b[0;32m     96\u001b[0m \u001b[39mif\u001b[39;00m \u001b[39mself\u001b[39m\u001b[39m.\u001b[39mdebug \u001b[39m>\u001b[39m\u001b[39m=\u001b[39m \u001b[39m1\u001b[39m \u001b[39mand\u001b[39;00m \u001b[39mself\u001b[39m\u001b[39m.\u001b[39mtdm_transport \u001b[39mis\u001b[39;00m \u001b[39mNone\u001b[39;00m:\n\u001b[0;32m     97\u001b[0m         \u001b[39mprint\u001b[39m(\u001b[39mf\u001b[39m\u001b[39m\"\u001b[39m\u001b[39mTDM \u001b[39m\u001b[39m{\u001b[39;00m\u001b[39mself\u001b[39m\u001b[39m.\u001b[39mtdm_addr\u001b[39m}\u001b[39;00m\u001b[39m:\u001b[39m\u001b[39m{\u001b[39;00m\u001b[39mself\u001b[39m\u001b[39m.\u001b[39mtdm_port\u001b[39m}\u001b[39;00m\u001b[39m\"\u001b[39m)\n\u001b[1;32m---> 98\u001b[0m \u001b[39mself\u001b[39;49m\u001b[39m.\u001b[39;49mconnect()\n\u001b[0;32m     99\u001b[0m \u001b[39mself\u001b[39m\u001b[39m.\u001b[39msend_handshake(password)\n",
      "File \u001b[1;32mc:\\Users\\jujud\\AppData\\Local\\Programs\\Python\\Python311\\Lib\\site-packages\\tdmclient\\client.py:112\u001b[0m, in \u001b[0;36mClient.connect\u001b[1;34m(self)\u001b[0m\n\u001b[0;32m    110\u001b[0m     \u001b[39mself\u001b[39m\u001b[39m.\u001b[39mtdm \u001b[39m=\u001b[39m TDMConnectionWS(\u001b[39mself\u001b[39m\u001b[39m.\u001b[39mtdm_addr, \u001b[39mself\u001b[39m\u001b[39m.\u001b[39mtdm_ws_port)\n\u001b[0;32m    111\u001b[0m \u001b[39melse\u001b[39;00m:\n\u001b[1;32m--> 112\u001b[0m     \u001b[39mself\u001b[39m\u001b[39m.\u001b[39mtdm \u001b[39m=\u001b[39m TDMConnection(\u001b[39mself\u001b[39;49m\u001b[39m.\u001b[39;49mtdm_addr, \u001b[39mself\u001b[39;49m\u001b[39m.\u001b[39;49mtdm_port)\n",
      "File \u001b[1;32mc:\\Users\\jujud\\AppData\\Local\\Programs\\Python\\Python311\\Lib\\site-packages\\tdmclient\\tcp.py:104\u001b[0m, in \u001b[0;36mTDMConnection.__init__\u001b[1;34m(self, host, port, debug)\u001b[0m\n\u001b[0;32m    101\u001b[0m     \u001b[39mdef\u001b[39;00m \u001b[39mwrite\u001b[39m(\u001b[39mself\u001b[39m, b):\n\u001b[0;32m    102\u001b[0m         \u001b[39mself\u001b[39m\u001b[39m.\u001b[39msocket\u001b[39m.\u001b[39msendall(b)\n\u001b[1;32m--> 104\u001b[0m \u001b[39mself\u001b[39m\u001b[39m.\u001b[39mio \u001b[39m=\u001b[39m TCPClientIO(host, port)\n\u001b[0;32m    105\u001b[0m \u001b[39mself\u001b[39m\u001b[39m.\u001b[39mdebug \u001b[39m=\u001b[39m debug\n\u001b[0;32m    106\u001b[0m \u001b[39mself\u001b[39m\u001b[39m.\u001b[39mtimeout \u001b[39m=\u001b[39m \u001b[39m3\u001b[39m\n",
      "File \u001b[1;32mc:\\Users\\jujud\\AppData\\Local\\Programs\\Python\\Python311\\Lib\\site-packages\\tdmclient\\tcp.py:96\u001b[0m, in \u001b[0;36mTDMConnection.__init__.<locals>.TCPClientIO.__init__\u001b[1;34m(self, host, port)\u001b[0m\n\u001b[0;32m     94\u001b[0m \u001b[39mdef\u001b[39;00m \u001b[39m__init__\u001b[39m(\u001b[39mself\u001b[39m, host, port):\n\u001b[0;32m     95\u001b[0m     \u001b[39mself\u001b[39m\u001b[39m.\u001b[39msocket \u001b[39m=\u001b[39m socket\u001b[39m.\u001b[39msocket(socket\u001b[39m.\u001b[39mAF_INET, socket\u001b[39m.\u001b[39mSOCK_STREAM)\n\u001b[1;32m---> 96\u001b[0m     \u001b[39mself\u001b[39;49m\u001b[39m.\u001b[39;49msocket\u001b[39m.\u001b[39;49mconnect((host, port))\n",
      "\u001b[1;31mConnectionRefusedError\u001b[0m: [WinError 10061] Aucune connexion n’a pu être établie car l’ordinateur cible l’a expressément refusée"
     ]
    }
   ],
   "source": [
    "from tdmclient import ClientAsync\n",
    "client = ClientAsync()\n",
    "node = await client.wait_for_node() #_ = protected #__ = private = shouldn't access node outside of the class\n",
    "await node.lock()"
   ]
  },
  {
   "cell_type": "code",
   "execution_count": 8,
   "metadata": {},
   "outputs": [],
   "source": [
    "from src.Motion_Control import thymio as th\n",
    "from src.Global_Nav import helpers_global as gb\n",
    "from src.Vision import vision as vs\n",
    "#from src.Vision import vision_test as vs2\n",
    "\n"
   ]
  },
  {
   "cell_type": "code",
   "execution_count": 9,
   "metadata": {},
   "outputs": [
    {
     "name": "stdout",
     "output_type": "stream",
     "text": [
      "-1.5707963267948966\n"
     ]
    }
   ],
   "source": [
    "await th.move_to_goal(client, [2,4, 3*np.pi/4], [4,5], 100)\n"
   ]
  },
  {
   "cell_type": "code",
   "execution_count": 8,
   "metadata": {},
   "outputs": [],
   "source": [
    "await th.move_forward(client, 100, 2)"
   ]
  },
  {
   "cell_type": "code",
   "execution_count": 19,
   "metadata": {},
   "outputs": [],
   "source": [
    "await th.stop_motor(node )"
   ]
  },
  {
   "cell_type": "code",
   "execution_count": 7,
   "metadata": {},
   "outputs": [
    {
     "data": {
      "text/plain": [
       "array([3, 4, 5])"
      ]
     },
     "execution_count": 7,
     "metadata": {},
     "output_type": "execute_result"
    }
   ],
   "source": [
    "x =[3,4]\n",
    "y = [5]\n",
    "w = np.append(x, y)\n",
    "w"
   ]
  },
  {
   "cell_type": "code",
   "execution_count": 8,
   "metadata": {},
   "outputs": [],
   "source": [
    "MAP_SHAPE = (1000,700)\n",
    "REFRAME = True "
   ]
  },
  {
   "cell_type": "code",
   "execution_count": 5,
   "metadata": {},
   "outputs": [
    {
     "ename": "NameError",
     "evalue": "name 'MAP_SHAPE' is not defined",
     "output_type": "error",
     "traceback": [
      "\u001b[1;31m---------------------------------------------------------------------------\u001b[0m",
      "\u001b[1;31mNameError\u001b[0m                                 Traceback (most recent call last)",
      "\u001b[1;32mc:\\Users\\jujud\\Documents\\MobileRoboticsG16\\Main.ipynb Cell 9\u001b[0m line \u001b[0;36m7\n\u001b[0;32m      <a href='vscode-notebook-cell:/c%3A/Users/jujud/Documents/MobileRoboticsG16/Main.ipynb#X15sZmlsZQ%3D%3D?line=4'>5</a>\u001b[0m \u001b[39mwhile\u001b[39;00m \u001b[39mTrue\u001b[39;00m:\n\u001b[0;32m      <a href='vscode-notebook-cell:/c%3A/Users/jujud/Documents/MobileRoboticsG16/Main.ipynb#X15sZmlsZQ%3D%3D?line=5'>6</a>\u001b[0m     ret,frame \u001b[39m=\u001b[39m cap\u001b[39m.\u001b[39mread()\n\u001b[1;32m----> <a href='vscode-notebook-cell:/c%3A/Users/jujud/Documents/MobileRoboticsG16/Main.ipynb#X15sZmlsZQ%3D%3D?line=6'>7</a>\u001b[0m     Tmap \u001b[39m=\u001b[39m vs\u001b[39m.\u001b[39mget_warp(cap,MAP_SHAPE,\u001b[39m10\u001b[39m,\u001b[39m1\u001b[39m)\n\u001b[0;32m      <a href='vscode-notebook-cell:/c%3A/Users/jujud/Documents/MobileRoboticsG16/Main.ipynb#X15sZmlsZQ%3D%3D?line=7'>8</a>\u001b[0m     \u001b[39mif\u001b[39;00m ret:\n\u001b[0;32m      <a href='vscode-notebook-cell:/c%3A/Users/jujud/Documents/MobileRoboticsG16/Main.ipynb#X15sZmlsZQ%3D%3D?line=8'>9</a>\u001b[0m         \u001b[39m# maps capture to map\u001b[39;00m\n\u001b[0;32m     <a href='vscode-notebook-cell:/c%3A/Users/jujud/Documents/MobileRoboticsG16/Main.ipynb#X15sZmlsZQ%3D%3D?line=9'>10</a>\u001b[0m         \u001b[39mif\u001b[39;00m REFRAME:\n",
      "\u001b[1;31mNameError\u001b[0m: name 'MAP_SHAPE' is not defined"
     ]
    }
   ],
   "source": [
    "MAP_SHAPE = (1000,700)\n",
    "REFRAME = True \n",
    "cap = cv2.VideoCapture(0)\n",
    "\n",
    "ret,frame = cap.read()\n",
    "path = vs.get_grid_fixed_map(frame,(35,50),50)\n",
    "while True:\n",
    "    ret,frame = cap.read()\n",
    "    Tmap = vs.get_warp(cap,MAP_SHAPE,10,1)\n",
    "    if ret:\n",
    "        # maps capture to map\n",
    "        if REFRAME:\n",
    "            frame = cv2.warpPerspective(frame,Tmap,MAP_SHAPE)\n",
    "        # maps BGR to HLS color space for simplicity\n",
    "        HLS = cv2.cvtColor(frame, cv2.COLOR_BGR2HLS_FULL)\n",
    "\n",
    "        bool_pos ,center,scale,orient = vs.get_Robot_position_orientation(HLS, [5,5])\n",
    "        center_idx = th.convert_to_idx(center, 2)\n",
    "        if gb.test_if_goal(center, path[-1]):\n",
    "             break\n",
    "\n",
    "        check_point = gb.next_checkpoint(path, center_idx)\n",
    "        await th.move_to_goal(client, np.append(center, orient), check_point, 100)\n",
    "\n",
    "\n",
    "\n",
    "    "
   ]
  },
  {
   "cell_type": "code",
   "execution_count": 11,
   "metadata": {},
   "outputs": [
    {
     "data": {
      "text/plain": [
       "{'error_code': 2}"
      ]
     },
     "execution_count": 11,
     "metadata": {},
     "output_type": "execute_result"
    }
   ],
   "source": [
    "#To unlock the Robot\n",
    "await node.unlock()"
   ]
  },
  {
   "cell_type": "code",
   "execution_count": null,
   "metadata": {},
   "outputs": [],
   "source": [
    "#Thymio control functions \n",
    "def motors(l_speed=500, r_speed=500):\n",
    "    return {\n",
    "        \"motor.left.target\": [l_speed],\n",
    "        \"motor.right.target\": [r_speed],\n",
    "    }\n",
    "\n",
    "async def forward(node, motor_speed):\n",
    "    await node.set_variables(motors(motor_speed,motor_speed))\n",
    "\n",
    "async def motorset(node,motor_speed_left,motor_speed_right):\n",
    "    await node.set_variables(motors(motor_speed_left,motor_speed_right))\n",
    "\n",
    "async def rotate(node,theta, motor_speed): #theta is in radians\n",
    "    direction_rot=(theta>=0)-(theta<0)\n",
    "    await node.set_variables(motors(motor_speed*direction_rot, -motor_speed*direction_rot))\n",
    "    # wait time to get theta 1.44 is the factor to correct\n",
    "    time=(theta)*100/motor_speed*1.44\n",
    "    await(client.sleep(time))\n",
    "    # stop the robot\n",
    "    await node.set_variables(motors(0, 0))\n",
    "\n",
    "async def stop_motor(node):\n",
    "    await node.set_variables(motors(0,0))\n",
    "\n",
    "async def get_proximity_values(node):\n",
    "    # Wait for the Thymio node\n",
    "    node = await client.wait_for_node()\n",
    "    # Wait for the proximity sensor variables\n",
    "    await node.wait_for_variables({\"prox.horizontal\"})\n",
    "    # Get the proximity values : v: Stands for \"variables\" and is used to access the cached variable values.\n",
    "    proximity_values = node.v.prox.horizontal\n",
    "    # Return the value of the front proximity sensor (index 2)\n",
    "    return proximity_values[0:5]\n",
    "\n",
    "# Run the asynchronous function and print the result\n",
    "proximity_values = await get_proximity_values(node)\n",
    "print(f\"Front Proximity Sensor Value: {proximity_values}\")\n",
    "#await rotate(np.pi,100)\n"
   ]
  },
  {
   "cell_type": "code",
   "execution_count": null,
   "metadata": {},
   "outputs": [],
   "source": [
    "#Navigation control\n",
    "#find_index if robot abs coord is close enough to a position of the A*paths\n",
    "def find_index_path_if_close(path_coord, position_robot, epsilon):\n",
    "    # Displacement vector\n",
    "    vect_disp = path_coord - position_robot\n",
    "\n",
    "    # Calculate the distance between the robot's position and the path\n",
    "    dist = np.sqrt(vect_disp[:, 0]**2 + vect_disp[:, 1]**2)\n",
    "    \n",
    "    # Find indices where the distance is less than epsilon\n",
    "    indices = np.where(dist < epsilon)[0]\n",
    "    \n",
    "    if indices.size == 0:\n",
    "        # No indices found\n",
    "        #print(\"No indices found where the distance is less than epsilon.\")\n",
    "        return None\n",
    "    else:\n",
    "        # Return the first index\n",
    "        #print(indices)\n",
    "        return indices[0]"
   ]
  },
  {
   "cell_type": "code",
   "execution_count": null,
   "metadata": {},
   "outputs": [],
   "source": [
    "await stop_motor()"
   ]
  },
  {
   "cell_type": "code",
   "execution_count": null,
   "metadata": {},
   "outputs": [],
   "source": [
    "#local navigation\n",
    "\n",
    "state=1\n",
    "async def local_navigation2():\n",
    "    proximity_values = await get_proximity_values()\n",
    "    global state\n",
    "\n",
    "    w_l = [40,  20, -20, -20, -40,  30, -10, 8, 0]\n",
    "    \n",
    "    w_r = [-40, -20, -20,  20,  40, -10, 30, 0, 8]\n",
    "\n",
    "    # Scale factors for sensors and constant factor\n",
    "    sensor_scale = 2000\n",
    "    \n",
    "    x = [0,0,0,0,0,0,0,0,0]\n",
    "    \n",
    "    if state != 0:\n",
    "        for i in range(5):\n",
    "            # Get and scale inputs\n",
    "            x[i] = proximity_values[i] // sensor_scale\n",
    "        \n",
    "        y = [100,100]    \n",
    "        \n",
    "        for i in range(len(x)):    \n",
    "            # Compute outputs of neurons and set motor powers\n",
    "            y[0] = y[0] + x[i] * w_l[i]\n",
    "            y[1] = y[1] + x[i] * w_r[i]\n",
    "    else: \n",
    "        # In case we would like to stop the robot\n",
    "        y = [0,0] \n",
    "    \n",
    "    # Set motor powers\n",
    "    await motorset(y[0],y[1])"
   ]
  },
  {
   "cell_type": "code",
   "execution_count": null,
   "metadata": {},
   "outputs": [],
   "source": [
    "await stop_motor()"
   ]
  },
  {
   "cell_type": "code",
   "execution_count": null,
   "metadata": {},
   "outputs": [],
   "source": [
    "#MAIN CODE 1: \n",
    "\n",
    "#parameters\n",
    "path_step=0 #This is the index of where we are in the path.\n",
    "path_coord = np.array([[1,2], [2,3], [3,4]])\n",
    "b = np.array([3.2, 4.5])\n",
    "epsilon = 0.5\n",
    "local_obstacle=False\n",
    "threshold_obst=3500\n",
    "\n",
    "\n",
    "#to implement in a different way thanks to filtering : \n",
    "robot_position=1\n",
    "end_position=2\n",
    "\n",
    "async def main():\n",
    "    global local_obstacle\n",
    "    \n",
    "    while(robot_position!=end_position):\n",
    "        sens = await get_proximity_values()\n",
    "        if (sum(sens[i] > threshold_obst for i in range(0, 5)) > 0):\n",
    "            local_obstacle = True\n",
    "            start_time = time.time()\n",
    "\n",
    "        if(local_obstacle):\n",
    "            sens = await get_proximity_values()\n",
    "            #sens=list(node[\"prox.horizontal\"])\n",
    "            await local_navigation2()\n",
    "            local_obstacle=False\n",
    "        \n",
    "        #if(find_index_path_if_close(path_coord,b,epsilon) and time.time-start_time>2): \n",
    "            #path_step=find_index_path_if_close(path_coord, position_robot, epsilon)\n",
    "            #local_navigation=False\n",
    "\n",
    "        if not local_obstacle: \n",
    "            node.send_set_variables(motors(50, 50))\n",
    "            #Function input : absolute velocity wanted ; output wheel velocity\n",
    "            #u=speed along x axis\n",
    "            #v=speed along y axis\n",
    "            #apply compute wheel velocity to robot in the while loop\n",
    "            pass\n",
    "\n",
    "await main()"
   ]
  }
 ],
 "metadata": {
  "kernelspec": {
   "display_name": "Python 3",
   "language": "python",
   "name": "python3"
  },
  "language_info": {
   "codemirror_mode": {
    "name": "ipython",
    "version": 3
   },
   "file_extension": ".py",
   "mimetype": "text/x-python",
   "name": "python",
   "nbconvert_exporter": "python",
   "pygments_lexer": "ipython3",
   "version": "3.11.5"
  }
 },
 "nbformat": 4,
 "nbformat_minor": 2
}
