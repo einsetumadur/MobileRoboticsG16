{
 "cells": [
  {
   "cell_type": "code",
   "execution_count": null,
   "metadata": {},
   "outputs": [],
   "source": [
    "#Alternative : \n",
    "#import files\n",
    "#from local_navigation import prox\n",
    "#import class\n",
    "from thymioV2 import thymio_robot\n",
    "#import librairies\n",
    "import time\n",
    "import numpy as np\n",
    "import math "
   ]
  },
  {
   "cell_type": "code",
   "execution_count": null,
   "metadata": {},
   "outputs": [],
   "source": [
    "from tdmclient import ClientAsync\n",
    "client = ClientAsync()\n",
    "node = await client.wait_for_node() #_ = protected #__ = private = shouldn't access node outside of the class\n",
    "await node.lock()"
   ]
  },
  {
   "cell_type": "code",
   "execution_count": null,
   "metadata": {},
   "outputs": [],
   "source": [
    "#To unlock the Robot\n",
    "await node.unlock()"
   ]
  },
  {
   "cell_type": "code",
   "execution_count": null,
   "metadata": {},
   "outputs": [],
   "source": [
    "#Thymio control functions \n",
    "def motors(l_speed=500, r_speed=500):\n",
    "    return {\n",
    "        \"motor.left.target\": [l_speed],\n",
    "        \"motor.right.target\": [r_speed],\n",
    "    }\n",
    "\n",
    "async def forward(node, motor_speed):\n",
    "    await node.set_variables(motors(motor_speed,motor_speed))\n",
    "\n",
    "async def motorset(node,motor_speed_left,motor_speed_right):\n",
    "    await node.set_variables(motors(motor_speed_left,motor_speed_right))\n",
    "\n",
    "async def rotate(node,theta, motor_speed): #theta is in radians\n",
    "    direction_rot=(theta>=0)-(theta<0)\n",
    "    await node.set_variables(motors(motor_speed*direction_rot, -motor_speed*direction_rot))\n",
    "    # wait time to get theta 1.44 is the factor to correct\n",
    "    time=(theta)*100/motor_speed*1.44\n",
    "    await(client.sleep(time))\n",
    "    # stop the robot\n",
    "    await node.set_variables(motors(0, 0))\n",
    "\n",
    "async def stop_motor(node):\n",
    "    await node.set_variables(motors(0,0))\n",
    "\n",
    "async def get_proximity_values(node):\n",
    "    # Wait for the Thymio node\n",
    "    node = await client.wait_for_node()\n",
    "    # Wait for the proximity sensor variables\n",
    "    await node.wait_for_variables({\"prox.horizontal\"})\n",
    "    # Get the proximity values : v: Stands for \"variables\" and is used to access the cached variable values.\n",
    "    proximity_values = node.v.prox.horizontal\n",
    "    # Return the value of the front proximity sensor (index 2)\n",
    "    return proximity_values[0:5]\n",
    "\n",
    "# Run the asynchronous function and print the result\n",
    "proximity_values = await get_proximity_values(node)\n",
    "print(f\"Front Proximity Sensor Value: {proximity_values}\")\n",
    "#await rotate(np.pi,100)\n"
   ]
  },
  {
   "cell_type": "code",
   "execution_count": null,
   "metadata": {},
   "outputs": [],
   "source": [
    "#Navigation control\n",
    "#find_index if robot abs coord is close enough to a position of the A*paths\n",
    "def find_index_path_if_close(path_coord, position_robot, epsilon):\n",
    "    # Displacement vector\n",
    "    vect_disp = path_coord - position_robot\n",
    "\n",
    "    # Calculate the distance between the robot's position and the path\n",
    "    dist = np.sqrt(vect_disp[:, 0]**2 + vect_disp[:, 1]**2)\n",
    "    \n",
    "    # Find indices where the distance is less than epsilon\n",
    "    indices = np.where(dist < epsilon)[0]\n",
    "    \n",
    "    if indices.size == 0:\n",
    "        # No indices found\n",
    "        #print(\"No indices found where the distance is less than epsilon.\")\n",
    "        return None\n",
    "    else:\n",
    "        # Return the first index\n",
    "        #print(indices)\n",
    "        return indices[0]"
   ]
  },
  {
   "cell_type": "code",
   "execution_count": null,
   "metadata": {},
   "outputs": [],
   "source": [
    "await stop_motor()"
   ]
  },
  {
   "cell_type": "code",
   "execution_count": null,
   "metadata": {},
   "outputs": [],
   "source": [
    "#local navigation\n",
    "\n",
    "state=1\n",
    "async def local_navigation2():\n",
    "    proximity_values = await get_proximity_values()\n",
    "    global state\n",
    "\n",
    "    w_l = [40,  20, -20, -20, -40,  30, -10, 8, 0]\n",
    "    \n",
    "    w_r = [-40, -20, -20,  20,  40, -10, 30, 0, 8]\n",
    "\n",
    "    # Scale factors for sensors and constant factor\n",
    "    sensor_scale = 2000\n",
    "    \n",
    "    x = [0,0,0,0,0,0,0,0,0]\n",
    "    \n",
    "    if state != 0:\n",
    "        for i in range(5):\n",
    "            # Get and scale inputs\n",
    "            x[i] = proximity_values[i] // sensor_scale\n",
    "        \n",
    "        y = [100,100]    \n",
    "        \n",
    "        for i in range(len(x)):    \n",
    "            # Compute outputs of neurons and set motor powers\n",
    "            y[0] = y[0] + x[i] * w_l[i]\n",
    "            y[1] = y[1] + x[i] * w_r[i]\n",
    "    else: \n",
    "        # In case we would like to stop the robot\n",
    "        y = [0,0] \n",
    "    \n",
    "    # Set motor powers\n",
    "    await motorset(y[0],y[1])"
   ]
  },
  {
   "cell_type": "code",
   "execution_count": null,
   "metadata": {},
   "outputs": [],
   "source": [
    "await stop_motor()"
   ]
  },
  {
   "cell_type": "code",
   "execution_count": null,
   "metadata": {},
   "outputs": [],
   "source": [
    "#MAIN CODE 1: \n",
    "\n",
    "#parameters\n",
    "path_step=0 #This is the index of where we are in the path.\n",
    "path_coord = np.array([[1,2], [2,3], [3,4]])\n",
    "b = np.array([3.2, 4.5])\n",
    "epsilon = 0.5\n",
    "local_obstacle=False\n",
    "threshold_obst=3500\n",
    "\n",
    "\n",
    "#to implement in a different way thanks to filtering : \n",
    "robot_position=1\n",
    "end_position=2\n",
    "\n",
    "async def main():\n",
    "    global local_obstacle\n",
    "    \n",
    "    while(robot_position!=end_position):\n",
    "        sens = await get_proximity_values()\n",
    "        if (sum(sens[i] > threshold_obst for i in range(0, 5)) > 0):\n",
    "            local_obstacle = True\n",
    "            start_time = time.time()\n",
    "\n",
    "        if(local_obstacle):\n",
    "            sens = await get_proximity_values()\n",
    "            #sens=list(node[\"prox.horizontal\"])\n",
    "            await local_navigation2()\n",
    "            local_obstacle=False\n",
    "        \n",
    "        #if(find_index_path_if_close(path_coord,b,epsilon) and time.time-start_time>2): \n",
    "            #path_step=find_index_path_if_close(path_coord, position_robot, epsilon)\n",
    "            #local_navigation=False\n",
    "\n",
    "        if not local_obstacle: \n",
    "            node.send_set_variables(motors(50, 50))\n",
    "            #Function input : absolute velocity wanted ; output wheel velocity\n",
    "            #u=speed along x axis\n",
    "            #v=speed along y axis\n",
    "            #apply compute wheel velocity to robot in the while loop\n",
    "            pass\n",
    "\n",
    "await main()"
   ]
  }
 ],
 "metadata": {
  "kernelspec": {
   "display_name": "Python 3",
   "language": "python",
   "name": "python3"
  },
  "language_info": {
   "codemirror_mode": {
    "name": "ipython",
    "version": 3
   },
   "file_extension": ".py",
   "mimetype": "text/x-python",
   "name": "python",
   "nbconvert_exporter": "python",
   "pygments_lexer": "ipython3",
   "version": "3.8.18"
  }
 },
 "nbformat": 4,
 "nbformat_minor": 2
}
