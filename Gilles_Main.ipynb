{
 "cells": [
  {
   "cell_type": "markdown",
   "metadata": {},
   "source": [
    "# Gilles Main - Do not touch !\n",
    "## 1 - libraries setup\n",
    "import general and custom libraries\n"
   ]
  },
  {
   "cell_type": "code",
   "execution_count": 1,
   "metadata": {},
   "outputs": [],
   "source": [
    "# General Libraries\n",
    "import numpy as np\n",
    "import cv2\n",
    "import opencv_jupyter_ui as jcv2\n",
    "from tdmclient import ClientAsync\n",
    "\n",
    "# Custom libraries \n",
    "from src.Vision import vision as vs              # Gilles Regamey\n",
    "from src.Global_Nav import helpers_global as gn  # Julien Droulet\n",
    "from src.Local_Nav import local_navigation as ln # Tom Rathjen\n",
    "from src.Local_Nav import psymap as pm           # Gilles Regamey\n",
    "from src.Filtering import KalmanFilter as kf     # Aubin sabatier\n",
    "from src.Motion_Control import thymio as th      # ?"
   ]
  },
  {
   "cell_type": "markdown",
   "metadata": {},
   "source": [
    "### Setup global variables and Constants\n",
    "Map is a rectangle 1000x700 [mm]\n"
   ]
  },
  {
   "cell_type": "code",
   "execution_count": 2,
   "metadata": {},
   "outputs": [],
   "source": [
    "MAP_SHAPE_MM = (1000,700)\n",
    "MAP_SHAPE_CELL = (50,35)\n",
    "\n",
    "#testing Constants\n",
    "REFRAME = True \n",
    "VISUALIZE = True\n",
    "\n",
    "#camera var\n",
    "cap = cv2.VideoCapture(0)\n",
    "\n",
    "#robot var\n",
    "client = ClientAsync()\n",
    "node = await client.wait_for_node() \n",
    "handle = await node.lock()\n"
   ]
  },
  {
   "cell_type": "markdown",
   "metadata": {},
   "source": [
    "## Code for the Thymio"
   ]
  },
  {
   "cell_type": "code",
   "execution_count": 3,
   "metadata": {},
   "outputs": [],
   "source": [
    "#kalmann"
   ]
  },
  {
   "cell_type": "markdown",
   "metadata": {},
   "source": [
    "## Code to run locally"
   ]
  },
  {
   "cell_type": "code",
   "execution_count": 4,
   "metadata": {},
   "outputs": [
    {
     "name": "stdout",
     "output_type": "stream",
     "text": [
      "Computing warp matrix\n",
      "Finished Warp Matrix computation.\n",
      "Searching for destination...\n",
      "Found destination Point at [222 471] [mm] (11, 12) [cells]\n",
      "Searching for Robot...\n",
      "Robot found at [737 324] [mm], 1.844455647876987 [rad]\n"
     ]
    }
   ],
   "source": [
    "if REFRAME:\n",
    "    Tmap = vs.get_warp(cap,MAP_SHAPE_MM,20,10)\n",
    "\n",
    "ret,frame = cap.read()\n",
    "if ret:\n",
    "    if REFRAME:\n",
    "        frame = cv2.warpPerspective(frame,Tmap,MAP_SHAPE_MM)\n",
    "    fmap = vs.get_grid_fixed_map(frame,MAP_SHAPE_CELL)\n",
    "    obscont = vs.get_obstacles(frame)\n",
    "    print(\"Searching for destination...\")\n",
    "    while True:\n",
    "        ret,frame = cap.read()\n",
    "        if ret:\n",
    "            if REFRAME:\n",
    "                frame = cv2.warpPerspective(frame,Tmap,MAP_SHAPE_MM)\n",
    "            ret,destmm = vs.get_destination(frame)\n",
    "            if ret:\n",
    "                dest = gn.convert_to_idx([coord / 10.0 for coord in destmm],2)\n",
    "                dest[1]= 35-dest[1]\n",
    "                dest = tuple(dest)\n",
    "                break\n",
    "            else:\n",
    "                cv2.imshow()\n",
    "        else:\n",
    "            print(\"No camera !\")\n",
    "            break\n",
    "    print(\"Found destination Point at {} [mm] {} [cells]\".format(destmm,dest))\n",
    "    print(\"Searching for Robot...\")\n",
    "    while True:\n",
    "        ret,frame = cap.read()\n",
    "        if ret:\n",
    "            if REFRAME:\n",
    "                frame = cv2.warpPerspective(frame,Tmap,MAP_SHAPE_MM)\n",
    "            hls_frame = cv2.cvtColor(frame, cv2.COLOR_BGR2HLS_FULL) \n",
    "            ret,robpos,orient,pxpcm = vs.get_Robot_position_orientation(hls_frame)\n",
    "            if ret:\n",
    "                print(\"Robot found at {} [mm], {} [rad]\".format(robpos,orient))\n",
    "                break\n",
    "        else:\n",
    "            print(\"No camera !\")\n",
    "            break\n",
    "\n",
    "start = gn.convert_to_idx(robpos/10.0,2)\n",
    "start[1]= 35-start[1]\n",
    "start = tuple(start)\n",
    "path = gn.global_final(fmap,start,dest, \"8N\", False)\n"
   ]
  },
  {
   "cell_type": "code",
   "execution_count": 5,
   "metadata": {},
   "outputs": [
    {
     "name": "stdout",
     "output_type": "stream",
     "text": [
      "shape points 2/3\r"
     ]
    },
    {
     "data": {
      "application/vnd.jupyter.widget-view+json": {
       "model_id": "3abd94f334ad4359acfce97f799c3389",
       "version_major": 2,
       "version_minor": 0
      },
      "text/plain": [
       "HBox(children=(Button(button_style='danger', description='Stop', style=ButtonStyle()), HBox(children=(Label(va…"
      ]
     },
     "metadata": {},
     "output_type": "display_data"
    },
    {
     "data": {
      "application/vnd.jupyter.widget-view+json": {
       "model_id": "ddd750fd60f14665a5d62b1cd5b2250f",
       "version_major": 2,
       "version_minor": 0
      },
      "text/plain": [
       "HBox(children=(Button(button_style='danger', description='Stop', style=ButtonStyle()), HBox(children=(Label(va…"
      ]
     },
     "metadata": {},
     "output_type": "display_data"
    },
    {
     "data": {
      "application/vnd.jupyter.widget-view+json": {
       "model_id": "fe45027eaf5b481f84eab22d6d5b7b22",
       "version_major": 2,
       "version_minor": 0
      },
      "text/plain": [
       "VBox(children=(HTML(value='<center>Map</center>'), Canvas()), layout=Layout(border_bottom='1.5px solid', borde…"
      ]
     },
     "metadata": {},
     "output_type": "display_data"
    },
    {
     "name": "stdout",
     "output_type": "stream",
     "text": [
      "wrong pattern !    \r"
     ]
    }
   ],
   "source": [
    "\n",
    "while True:\n",
    "    ret,frame = cap.read()\n",
    "    if ret:\n",
    "        if REFRAME:\n",
    "            frame = cv2.warpPerspective(frame,Tmap,MAP_SHAPE_MM)\n",
    "        hls_frame = cv2.cvtColor(frame, cv2.COLOR_BGR2HLS_FULL) \n",
    "\n",
    "        ret,robpos,orient,pxpcm = vs.get_Robot_position_orientation(hls_frameq)\n",
    "\n",
    "        if VISUALIZE:\n",
    "            vizu = vs.visualizer(hls_frame)\n",
    "            omap =vs.grid_fixedmap_visualizer(fmap.transpose(),MAP_SHAPE_MM)\n",
    "            obsimg = cv2.merge([omap,omap,omap])\n",
    "            vizu = cv2.bitwise_or(vizu,obsimg)\n",
    "            vizu = pm.hallucinate_map([robpos[0],robpos[1],orient],obscont,vizu)\n",
    "            vizu = vs.draw_obstacles_poly(vizu,obscont,(255,255,0),2)\n",
    "            vizu = cv2.circle(vizu,dest,20,(50,25,100),4)\n",
    "            vizu = cv2.addWeighted(vizu,0.5,frame,0.5,0)\n",
    "            vizu = vs.paint_robot(vizu,(0,0,200),robpos,orient,pxpcm)\n",
    "            jcv2.imshow(\"Map\",vizu)\n",
    "        \n",
    "\n",
    "    else:\n",
    "        print(\"camera failure.\")\n",
    "        break"
   ]
  },
  {
   "cell_type": "markdown",
   "metadata": {},
   "source": [
    "## closing calls\n"
   ]
  },
  {
   "cell_type": "code",
   "execution_count": null,
   "metadata": {},
   "outputs": [],
   "source": [
    "#To unlock the Robot\n",
    "await node.unlock()\n",
    "jcv2.destroyAllWindows()"
   ]
  }
 ],
 "metadata": {
  "kernelspec": {
   "display_name": "Python 3",
   "language": "python",
   "name": "python3"
  },
  "language_info": {
   "codemirror_mode": {
    "name": "ipython",
    "version": 3
   },
   "file_extension": ".py",
   "mimetype": "text/x-python",
   "name": "python",
   "nbconvert_exporter": "python",
   "pygments_lexer": "ipython3",
   "version": "3.12.0"
  }
 },
 "nbformat": 4,
 "nbformat_minor": 2
}
