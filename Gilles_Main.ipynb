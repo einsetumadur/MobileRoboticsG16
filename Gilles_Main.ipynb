{
 "cells": [
  {
   "cell_type": "markdown",
   "metadata": {},
   "source": [
    "# Gilles Main - Do not touch !\n",
    "## 1 - libraries setup\n",
    "import general and custom libraries\n"
   ]
  },
  {
   "cell_type": "code",
   "execution_count": null,
   "metadata": {},
   "outputs": [],
   "source": [
    "# General Libraries\n",
    "import numpy as np\n",
    "import cv2\n",
    "import opencv_jupyter_ui as jcv2\n",
    "#import tdmclient.notebook\n",
    "#await tdmclient.notebook.start()\n",
    "\n",
    "from tdmclient import ClientAsync\n",
    "\n",
    "# Custom libraries \n",
    "from src.Vision import vision as vs              # Gilles Regamey\n",
    "from src.Global_Nav import helpers_global as gn  # Julien Droulet\n",
    "from src.Local_Nav import local_navigation as ln # Tom Rathjens\n",
    "from src.Local_Nav import psymap as pm           # Gilles Regamey\n",
    "from src.Filtering import KalmanFilter as kf     # Aubin sabatier\n",
    "from src.Motion_Control import thymio as th      # ?"
   ]
  },
  {
   "cell_type": "markdown",
   "metadata": {},
   "source": [
    "### Setup global variables and Constants\n",
    "Map is a rectangle 1000x700 [mm]\n"
   ]
  },
  {
   "cell_type": "code",
   "execution_count": null,
   "metadata": {},
   "outputs": [],
   "source": [
    "MAP_SHAPE_MM = (1000,700)\n",
    "MAP_SHAPE_CELL = (50,35)\n",
    "CELL_SIZE =20\n",
    "#testing Constants\n",
    "REFRAME = True\n",
    "VISUALIZE = True\n",
    "#camera var\n",
    "cap = cv2.VideoCapture(0)\n",
    "\n",
    "#robot var\n",
    "client = ClientAsync()\n",
    "node = await client.wait_for_node() \n",
    "handle = await node.lock()\n"
   ]
  },
  {
   "cell_type": "markdown",
   "metadata": {},
   "source": [
    "## Code for the Thymio"
   ]
  },
  {
   "cell_type": "markdown",
   "metadata": {},
   "source": [
    "## Code to run locally"
   ]
  },
  {
   "cell_type": "code",
   "execution_count": null,
   "metadata": {},
   "outputs": [],
   "source": [
    "if REFRAME:\n",
    "    Tmap = vs.get_warp(cap,MAP_SHAPE_MM,20,10)\n",
    "\n",
    "ret,frame = cap.read()\n",
    "if ret:\n",
    "    if REFRAME:\n",
    "        frame = cv2.warpPerspective(frame,Tmap,MAP_SHAPE_MM)\n",
    "    fmap = vs.get_grid_fixed_map(frame,MAP_SHAPE_CELL)\n",
    "    obscont = vs.get_obstacles(frame)\n",
    "    print(\"Searching for destination...\")\n",
    "    while True:\n",
    "        ret,frame = cap.read()\n",
    "        if ret:\n",
    "            if REFRAME:\n",
    "                frame = cv2.warpPerspective(frame,Tmap,MAP_SHAPE_MM)\n",
    "            ret,destmm = vs.get_destination(frame)\n",
    "            if ret:\n",
    "                dest = gn.convert_to_idx([coord / 10.0 for coord in destmm],2)\n",
    "                dest[1]= 35-dest[1]\n",
    "                dest = tuple(dest)\n",
    "                break\n",
    "            else:\n",
    "                cv2.imshow()\n",
    "        else:\n",
    "            print(\"No camera !\")\n",
    "            break\n",
    "    print(\"Found destination Point at {} [mm] {} [cells]\".format(destmm,dest))\n",
    "    print(\"Searching for Robot...\")\n",
    "    while True:\n",
    "        ret,frame = cap.read()\n",
    "        if ret:\n",
    "            if REFRAME:\n",
    "                frame = cv2.warpPerspective(frame,Tmap,MAP_SHAPE_MM)\n",
    "            hls_frame = cv2.cvtColor(frame, cv2.COLOR_BGR2HLS_FULL) \n",
    "            ret,robpos,orient,pxpcm = vs.get_Robot_position_orientation(hls_frame)\n",
    "            if ret:\n",
    "                print(\"Robot found at {} [mm], {} [rad]\".format(robpos,orient))\n",
    "                break\n",
    "        else:\n",
    "            print(\"No camera !\")\n",
    "            break\n",
    "\n",
    "\n"
   ]
  },
  {
   "cell_type": "code",
   "execution_count": null,
   "metadata": {},
   "outputs": [],
   "source": [
    "\n",
    "start = gn.convert_to_idx(robpos,20)\n",
    "start[1]= MAP_SHAPE_CELL[1]-start[1]\n",
    "start = tuple(start)\n",
    "path = gn.global_final(fmap,start,dest, \"8N\", VISUALIZE)"
   ]
  },
  {
   "cell_type": "code",
   "execution_count": null,
   "metadata": {},
   "outputs": [],
   "source": [
    "def show_path(frame,path,cell_size,epsilon,color=(50,255,30),thick=2):\n",
    "    path = np.array(path,dtype=np.int32)\n",
    "    trajectory = []\n",
    "    for ptcell in path:\n",
    "        ptcell[1] = MAP_SHAPE_CELL[1]-ptcell[1]\n",
    "        ptmm = ptcell*cell_size\n",
    "        ptmm += [cell_size//2,cell_size//2]\n",
    "        trajectory.append(ptmm)\n",
    "    for i in range(1,len(trajectory)):\n",
    "        frame = cv2.line(frame,trajectory[i-1],trajectory[i],color,thick)\n",
    "        frame = cv2.circle(frame,trajectory[i],epsilon,color,thick)\n",
    "\n",
    "    return frame"
   ]
  },
  {
   "cell_type": "code",
   "execution_count": null,
   "metadata": {},
   "outputs": [],
   "source": [
    "\n"
   ]
  },
  {
   "cell_type": "code",
   "execution_count": null,
   "metadata": {},
   "outputs": [],
   "source": [
    "\n"
   ]
  },
  {
   "cell_type": "code",
   "execution_count": null,
   "metadata": {},
   "outputs": [],
   "source": [
    "\n",
    "while True:\n",
    "    ret,frame = cap.read()\n",
    "    local_obstacle=True\n",
    "    if ret:\n",
    "        if REFRAME:\n",
    "            frame = cv2.warpPerspective(frame,Tmap,MAP_SHAPE_MM)\n",
    "        hls_frame = cv2.cvtColor(frame, cv2.COLOR_BGR2HLS_FULL) \n",
    "\n",
    "        gotrob,robpos,robori,pxpcm = vs.get_Robot_position_orientation(hls_frame)\n",
    "        capthall = pm.hallucinate_map([robpos[0],robpos[1],(-robori)],obscont)\n",
    "\n",
    "        sens = await th.get_proximity_values(client)\n",
    "        if (sum(sens[i] > 3500 for i in range(0, 5)) > 0):\n",
    "            local_obstacle = True\n",
    "\n",
    "        if(local_obstacle):\n",
    "            await ln.local_navigation(client,node,[robpos[0],robpos[1],(-robori)],obscont)\n",
    "            local_obstacle = False\n",
    "        else:\n",
    "            await th.motorset(node,0,0)\n",
    "        \n",
    "\n",
    "        if VISUALIZE:\n",
    "            vizu = vs.visualizer(hls_frame)\n",
    "            #omap =vs.grid_fixedmap_visualizer(fmap.transpose(),MAP_SHAPE_MM)\n",
    "            #obsimg = cv2.merge([omap,omap,omap])\n",
    "            #vizu = cv2.bitwise_or(vizu,obsimg)\n",
    "            vizu = vs.draw_obstacles_poly(vizu,obscont,(255,255,0),2)\n",
    "            vizu = cv2.circle(vizu,destmm,20,(50,25,100),4)\n",
    "            vizu = cv2.addWeighted(vizu,0.5,frame,0.5,0)\n",
    "            vizu = show_path(vizu,path,20,robpos)\n",
    "            if gotrob:\n",
    "                vizu = vs.paint_robot(vizu,(0,0,200),robpos,robori,pxpcm)\n",
    "                vizu = pm.hallucinate_map([robpos[0],robpos[1],(-robori)],obscont,vizu)\n",
    "            jcv2.imshow(\"Map\",vizu)\n",
    "            if jcv2.waitKey(1) & 0xFF == ord('q'):\n",
    "                break\n",
    "        else:\n",
    "            print(\"###################################################\",end='\\r')\n",
    "            print(\"pos: {},{:.2f} dest: {} fhal: {}\".format(robpos,robori,destmm,capthall),end='\\r')\n",
    "        \n",
    "\n",
    "    else:\n",
    "        print(\"camera failure.\")\n",
    "        break"
   ]
  },
  {
   "cell_type": "markdown",
   "metadata": {},
   "source": [
    "## closing calls\n"
   ]
  },
  {
   "cell_type": "code",
   "execution_count": null,
   "metadata": {},
   "outputs": [],
   "source": [
    "await th.motorset(node,0,0)\n",
    "#To unlock the Robot\n",
    "#await tdmclient.notebook.stop()\n",
    "await node.unlock()\n",
    "jcv2.destroyAllWindows()"
   ]
  }
 ],
 "metadata": {
  "kernelspec": {
   "display_name": "Python 3",
   "language": "python",
   "name": "python3"
  },
  "language_info": {
   "codemirror_mode": {
    "name": "ipython",
    "version": 3
   },
   "file_extension": ".py",
   "mimetype": "text/x-python",
   "name": "python",
   "nbconvert_exporter": "python",
   "pygments_lexer": "ipython3",
   "version": "3.12.0"
  }
 },
 "nbformat": 4,
 "nbformat_minor": 2
}
