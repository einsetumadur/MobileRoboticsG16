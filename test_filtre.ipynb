{
 "cells": [
  {
   "cell_type": "code",
   "execution_count": 29,
   "metadata": {},
   "outputs": [
    {
     "data": {
      "text/plain": [
       "Node ad6b0acc-2bf0-4a27-bb7a-64d9d8bda21d"
      ]
     },
     "execution_count": 29,
     "metadata": {},
     "output_type": "execute_result"
    }
   ],
   "source": [
    "from tdmclient import ClientAsync\n",
    "client = ClientAsync()\n",
    "node = await client.wait_for_node()\n",
    "await node.lock()"
   ]
  },
  {
   "cell_type": "code",
   "execution_count": 30,
   "metadata": {},
   "outputs": [],
   "source": [
    "import matplotlib.pyplot as plt\n",
    "from scipy.signal import find_peaks\n",
    "import numpy as np\n",
    "from tqdm import tqdm\n",
    "import time"
   ]
  },
  {
   "cell_type": "code",
   "execution_count": 31,
   "metadata": {},
   "outputs": [],
   "source": [
    "from threading import Timer\n",
    "\n",
    "class RepeatedTimer(object):\n",
    "    def __init__(self, interval, function, *args, **kwargs):\n",
    "        self._timer     = None\n",
    "        self.interval   = interval\n",
    "        self.function   = function\n",
    "        self.args       = args\n",
    "        self.kwargs     = kwargs\n",
    "        self.is_running = False\n",
    "        self.start()\n",
    "\n",
    "    def _run(self):\n",
    "        self.is_running = False\n",
    "        self.start()\n",
    "        self.function(*self.args, **self.kwargs)\n",
    "\n",
    "    def start(self):\n",
    "        if not self.is_running:\n",
    "            self._timer = Timer(self.interval, self._run)\n",
    "            self._timer.start()\n",
    "            self.is_running = True\n",
    "\n",
    "    def stop(self):\n",
    "        self._timer.cancel()\n",
    "        self.is_running = False"
   ]
  },
  {
   "cell_type": "code",
   "execution_count": 32,
   "metadata": {},
   "outputs": [
    {
     "name": "stdout",
     "output_type": "stream",
     "text": [
      "Front Proximity Sensor Value: [0, 0, 0, 0, 0]\n"
     ]
    }
   ],
   "source": [
    "#Thymio control\n",
    "def motors(l_speed=500, r_speed=500):\n",
    "    return {\n",
    "        \"motor.left.target\": [l_speed],\n",
    "        \"motor.right.target\": [r_speed],\n",
    "    }\n",
    "\n",
    "async def forward(motor_speed):\n",
    "    await node.set_variables(motors(motor_speed,motor_speed))\n",
    "\n",
    "async def rotate(theta, motor_speed): #theta is in radians\n",
    "    direction_rot=(theta>=0)-(theta<0)\n",
    "    await node.set_variables(motors(motor_speed*direction_rot, -motor_speed*direction_rot))\n",
    "    # wait time to get theta 1.44 is the factor to correct\n",
    "    time=(theta)*100/motor_speed*1.44\n",
    "    await(client.sleep(time))\n",
    "    # stop the robot\n",
    "    await node.set_variables(motors(0, 0))\n",
    "\n",
    "async def stop_motor():\n",
    "    await node.set_variables(motors(0,0))\n",
    "\n",
    "async def get_proximity_values():\n",
    "    # Wait for the Thymio node\n",
    "    node = await client.wait_for_node()\n",
    "    # Wait for the proximity sensor variables\n",
    "    await node.wait_for_variables({\"prox.horizontal\"})\n",
    "    # Get the proximity values : v: Stands for \"variables\" and is used to access the cached variable values.\n",
    "    proximity_values = node.v.prox.horizontal\n",
    "    # Return the value of the front proximity sensor (index 2)\n",
    "    return proximity_values[0:5]\n",
    "\n",
    "# Run the asynchronous function and print the result\n",
    "proximity_values = await get_proximity_values()\n",
    "print(f\"Front Proximity Sensor Value: {proximity_values}\")"
   ]
  },
  {
   "cell_type": "code",
   "execution_count": 33,
   "metadata": {},
   "outputs": [],
   "source": [
    "## Parameters for local navigation\n",
    "threshold_obst = 3500 \n",
    "threshold_loc = 2500\n",
    "local_motor_speed = 100\n",
    "threshold_obst_list = [3200, 3600, 3600, 3600, 3200]\n",
    "\n",
    "async def local_navigation():\n",
    "    threshold_obst = 1000\n",
    "    threshold_loc = 800\n",
    "    local_motor_speed = 100\n",
    "    threshold_obst_list = [3200, 3600, 3600, 3600, 3200]\n",
    "    sens = await get_proximity_values()\n",
    "\n",
    "    # Follow the obstacle by the left\n",
    "    if (sens[0] + sens[1]) > (sens[4] + sens[3]):\n",
    "        await bypass('right', sens, threshold_loc, local_motor_speed)\n",
    "\n",
    "    # Follow the obstacle by the right    \n",
    "    else:\n",
    "        await bypass('left', sens, threshold_loc, local_motor_speed)\n",
    "\n",
    "async def bypass(leftright, sens, threshold_loc, local_motor_speed):\n",
    "    if leftright == \"right\":\n",
    "        while sum(sens[i] > threshold_obst for i in range(0, 5)) > 0:\n",
    "            print(\"Turn right\")\n",
    "            await rotate(np.pi/6/2, local_motor_speed)\n",
    "            #await asyncio.sleep(0.2)\n",
    "            sens = await get_proximity_values()\n",
    "            print(sens)\n",
    "\n",
    "        while sens[0] > threshold_loc:\n",
    "            await forward(local_motor_speed)\n",
    "            #await asyncio.sleep(0.2)\n",
    "            #time.sleep(0.2)\n",
    "            sens = await get_proximity_values()\n",
    "        \n",
    "        \n",
    "\n",
    "    elif leftright == \"left\":\n",
    "        while sum(sens[i] > threshold_loc for i in range(0, 5)) > 0:\n",
    "            print(\"Turn left\")\n",
    "            await rotate(-np.pi/6, local_motor_speed)\n",
    "            #await asyncio.sleep(0.2)\n",
    "            sens = await get_proximity_values()\n",
    "\n",
    "        while sens[4] > threshold_loc:\n",
    "            await forward(local_motor_speed)\n",
    "            #await asyncio.sleep(0.2)\n",
    "            #time.sleep(0.2)\n",
    "            sens = await get_proximity_values()\n",
    "\n",
    "    if(leftright==\"right\" and sens[0] > threshold_loc):\n",
    "        await rotate(np.pi/2, 100)\n",
    "    \n",
    "\n",
    "    await forward(local_motor_speed)\n",
    "    #time.sleep(2)\n",
    "    await stop_motor()"
   ]
  },
  {
   "cell_type": "code",
   "execution_count": 34,
   "metadata": {},
   "outputs": [],
   "source": [
    "thymio_data = []\n",
    "#acquire_data = True\n",
    "Ts = 0.1\n",
    "\n",
    "def get_data():\n",
    "    thymio_data.append({\"sensor\":node[\"prox.horizontal\"],\n",
    "                        \"left_speed\":node[\"motor.left.speed\"],\n",
    "                        \"right_speed\":node[\"motor.right.speed\"]})\n",
    "\n",
    "async def get_speed():\n",
    "    await node.wait_for_variables() # wait for Thymio variables values\n",
    "    rt = RepeatedTimer(Ts, get_data) # it auto-starts, no need of rt.start()\n",
    "\n",
    "    try:\n",
    "        await client.sleep(Ts)\n",
    "    finally:\n",
    "        rt.stop() # better in a try/finally block to make sure the program ends!\n",
    "        node.send_set_variables(motors(0, 0))\n",
    "\n",
    "def pos_estimation(left_speed, right_speed, dt, pos0_x, pos0_y, theta0):\n",
    "    real_thymio_speed = 21.739 #mm/s\n",
    "    #speed estimation\n",
    "    speed_measured = (right_speed[-1] + left_speed[-1])/2\n",
    "    speed = (speed_measured * 50) / real_thymio_speed \n",
    "    angular_speed_measured = (right_speed[-1] - left_speed[-1])/2\n",
    "    angular_speed = (angular_speed_measured * 50) / real_thymio_speed\n",
    "\n",
    "    #position estimation\n",
    "    theta = theta0 + angular_speed * dt\n",
    "    pos_x = pos0_x + speed * np.cos(theta) * dt\n",
    "    pos_y = pos0_y + speed * np.sin(theta) * dt\n",
    "\n",
    "    return speed, pos_x, pos_y, theta"
   ]
  },
  {
   "cell_type": "code",
   "execution_count": 35,
   "metadata": {},
   "outputs": [
    {
     "name": "stdout",
     "output_type": "stream",
     "text": [
      "0.42 -1.15 -1.22\n",
      "0.41 -1.51 -1.58\n",
      "-0.48 -8.42 -1.7\n",
      "-12.04 -14.05 -2.69\n",
      "-22.66 -17.72 -2.81\n",
      "-33.77 -20.09 -2.93\n",
      "-43.57 -20.96 -3.05\n",
      "-53.74 -20.59 -3.18\n",
      "-63.77 -18.95 -3.3\n",
      "-73.69 -15.99 -3.43\n",
      "-83.02 -18.0 -2.93\n",
      "-90.19 -24.14 -2.43\n",
      "-76.47 -23.86 -6.26\n",
      "-68.33 -30.94 -7.0\n",
      "-57.15 -30.96 -6.28\n",
      "-61.91 -20.78 -4.27\n",
      "-53.12 -23.93 -0.34\n",
      "-43.46 -28.88 -0.47\n",
      "-34.92 -34.71 -0.6\n",
      "-31.05 -45.39 -1.22\n",
      "-37.18 -56.73 -2.07\n",
      "-36.6 -54.18 -4.94\n",
      "-35.6 -44.08 -4.81\n",
      "-32.9 -59.89 -1.4\n",
      "-26.75 -70.49 -1.04\n",
      "-23.7 -80.85 -1.28\n",
      "-31.48 -71.01 -4.04\n",
      "-41.84 -65.12 -3.66\n",
      "-53.33 -63.47 -3.28\n",
      "-64.36 -71.01 -2.54\n",
      "-58.75 -81.13 -1.07\n",
      "-48.83 -85.47 -0.41\n",
      "-45.58 -95.44 -1.26\n",
      "-48.35 -109.45 -1.77\n",
      "-56.68 -119.91 -2.24\n",
      "-57.18 -131.35 -1.61\n",
      "-45.67 -137.35 -0.48\n",
      "-35.4 -129.77 0.64\n",
      "-22.88 -129.43 0.03\n",
      "-11.96 -130.45 -0.09\n",
      "-16.14 -120.06 1.95\n",
      "-25.08 -114.26 2.57\n",
      "-12.48 -108.28 6.73\n",
      "-5.58 -98.76 7.23\n",
      "-4.29 -89.61 7.71\n",
      "6.64 -80.65 6.97\n",
      "20.61 -81.34 6.23\n",
      "31.42 -74.6 6.84\n",
      "36.61 -62.16 7.46\n",
      "33.89 -50.4 8.08\n",
      "45.83 -57.39 5.75\n",
      "32.58 -61.32 3.43\n",
      "22.5 -57.74 2.8\n",
      "11.96 -55.44 2.93\n",
      "Turn left\n"
     ]
    },
    {
     "ename": "CancelledError",
     "evalue": "",
     "output_type": "error",
     "traceback": [
      "\u001b[0;31m---------------------------------------------------------------------------\u001b[0m",
      "\u001b[0;31mCancelledError\u001b[0m                            Traceback (most recent call last)",
      "\u001b[1;32m/Users/aubinsabatier/Desktop/EPFL Master/MA1/Basics of mobile robotics/Projet/MobileRoboticsG16/test_filtre.ipynb Cell 7\u001b[0m line \u001b[0;36m4\n\u001b[1;32m     <a href='vscode-notebook-cell:/Users/aubinsabatier/Desktop/EPFL%20Master/MA1/Basics%20of%20mobile%20robotics/Projet/MobileRoboticsG16/test_filtre.ipynb#X11sZmlsZQ%3D%3D?line=45'>46</a>\u001b[0m             speed_history\u001b[39m.\u001b[39mappend(speed)\n\u001b[1;32m     <a href='vscode-notebook-cell:/Users/aubinsabatier/Desktop/EPFL%20Master/MA1/Basics%20of%20mobile%20robotics/Projet/MobileRoboticsG16/test_filtre.ipynb#X11sZmlsZQ%3D%3D?line=46'>47</a>\u001b[0m             \u001b[39mprint\u001b[39m(\u001b[39mround\u001b[39m(pos_x,\u001b[39m2\u001b[39m), \u001b[39mround\u001b[39m(pos_y,\u001b[39m2\u001b[39m), \u001b[39mround\u001b[39m(theta,\u001b[39m2\u001b[39m))\n\u001b[0;32m---> <a href='vscode-notebook-cell:/Users/aubinsabatier/Desktop/EPFL%20Master/MA1/Basics%20of%20mobile%20robotics/Projet/MobileRoboticsG16/test_filtre.ipynb#X11sZmlsZQ%3D%3D?line=48'>49</a>\u001b[0m \u001b[39mawait\u001b[39;00m main()\n\u001b[1;32m     <a href='vscode-notebook-cell:/Users/aubinsabatier/Desktop/EPFL%20Master/MA1/Basics%20of%20mobile%20robotics/Projet/MobileRoboticsG16/test_filtre.ipynb#X11sZmlsZQ%3D%3D?line=49'>50</a>\u001b[0m var_speed \u001b[39m=\u001b[39m np\u001b[39m.\u001b[39mvar(speed_history)\n\u001b[1;32m     <a href='vscode-notebook-cell:/Users/aubinsabatier/Desktop/EPFL%20Master/MA1/Basics%20of%20mobile%20robotics/Projet/MobileRoboticsG16/test_filtre.ipynb#X11sZmlsZQ%3D%3D?line=50'>51</a>\u001b[0m std_speed \u001b[39m=\u001b[39m np\u001b[39m.\u001b[39mstd(speed_history)\n",
      "\u001b[1;32m/Users/aubinsabatier/Desktop/EPFL Master/MA1/Basics of mobile robotics/Projet/MobileRoboticsG16/test_filtre.ipynb Cell 7\u001b[0m line \u001b[0;36m2\n\u001b[1;32m     <a href='vscode-notebook-cell:/Users/aubinsabatier/Desktop/EPFL%20Master/MA1/Basics%20of%20mobile%20robotics/Projet/MobileRoboticsG16/test_filtre.ipynb#X11sZmlsZQ%3D%3D?line=24'>25</a>\u001b[0m     local_obstacle \u001b[39m=\u001b[39m \u001b[39mTrue\u001b[39;00m\n\u001b[1;32m     <a href='vscode-notebook-cell:/Users/aubinsabatier/Desktop/EPFL%20Master/MA1/Basics%20of%20mobile%20robotics/Projet/MobileRoboticsG16/test_filtre.ipynb#X11sZmlsZQ%3D%3D?line=26'>27</a>\u001b[0m \u001b[39mif\u001b[39;00m(local_obstacle):\n\u001b[0;32m---> <a href='vscode-notebook-cell:/Users/aubinsabatier/Desktop/EPFL%20Master/MA1/Basics%20of%20mobile%20robotics/Projet/MobileRoboticsG16/test_filtre.ipynb#X11sZmlsZQ%3D%3D?line=27'>28</a>\u001b[0m     \u001b[39mawait\u001b[39;00m local_navigation()\n\u001b[1;32m     <a href='vscode-notebook-cell:/Users/aubinsabatier/Desktop/EPFL%20Master/MA1/Basics%20of%20mobile%20robotics/Projet/MobileRoboticsG16/test_filtre.ipynb#X11sZmlsZQ%3D%3D?line=28'>29</a>\u001b[0m     start_time \u001b[39m=\u001b[39m \u001b[39m0\u001b[39m          \n\u001b[1;32m     <a href='vscode-notebook-cell:/Users/aubinsabatier/Desktop/EPFL%20Master/MA1/Basics%20of%20mobile%20robotics/Projet/MobileRoboticsG16/test_filtre.ipynb#X11sZmlsZQ%3D%3D?line=30'>31</a>\u001b[0m \u001b[39m#if(find_index_path_if_close(path_coord,b,epsilon) and time.time-start_time>2): \u001b[39;00m\n\u001b[1;32m     <a href='vscode-notebook-cell:/Users/aubinsabatier/Desktop/EPFL%20Master/MA1/Basics%20of%20mobile%20robotics/Projet/MobileRoboticsG16/test_filtre.ipynb#X11sZmlsZQ%3D%3D?line=31'>32</a>\u001b[0m     \u001b[39m#path_step=find_index_path_if_close(path_coord, position_robot, epsilon)\u001b[39;00m\n\u001b[1;32m     <a href='vscode-notebook-cell:/Users/aubinsabatier/Desktop/EPFL%20Master/MA1/Basics%20of%20mobile%20robotics/Projet/MobileRoboticsG16/test_filtre.ipynb#X11sZmlsZQ%3D%3D?line=32'>33</a>\u001b[0m     \u001b[39m#local_navigation=False\u001b[39;00m\n",
      "\u001b[1;32m/Users/aubinsabatier/Desktop/EPFL Master/MA1/Basics of mobile robotics/Projet/MobileRoboticsG16/test_filtre.ipynb Cell 7\u001b[0m line \u001b[0;36m2\n\u001b[1;32m     <a href='vscode-notebook-cell:/Users/aubinsabatier/Desktop/EPFL%20Master/MA1/Basics%20of%20mobile%20robotics/Projet/MobileRoboticsG16/test_filtre.ipynb#X11sZmlsZQ%3D%3D?line=15'>16</a>\u001b[0m     \u001b[39mawait\u001b[39;00m bypass(\u001b[39m'\u001b[39m\u001b[39mright\u001b[39m\u001b[39m'\u001b[39m, sens, threshold_loc, local_motor_speed)\n\u001b[1;32m     <a href='vscode-notebook-cell:/Users/aubinsabatier/Desktop/EPFL%20Master/MA1/Basics%20of%20mobile%20robotics/Projet/MobileRoboticsG16/test_filtre.ipynb#X11sZmlsZQ%3D%3D?line=17'>18</a>\u001b[0m \u001b[39m# Follow the obstacle by the right    \u001b[39;00m\n\u001b[1;32m     <a href='vscode-notebook-cell:/Users/aubinsabatier/Desktop/EPFL%20Master/MA1/Basics%20of%20mobile%20robotics/Projet/MobileRoboticsG16/test_filtre.ipynb#X11sZmlsZQ%3D%3D?line=18'>19</a>\u001b[0m \u001b[39melse\u001b[39;00m:\n\u001b[0;32m---> <a href='vscode-notebook-cell:/Users/aubinsabatier/Desktop/EPFL%20Master/MA1/Basics%20of%20mobile%20robotics/Projet/MobileRoboticsG16/test_filtre.ipynb#X11sZmlsZQ%3D%3D?line=19'>20</a>\u001b[0m     \u001b[39mawait\u001b[39;00m bypass(\u001b[39m'\u001b[39m\u001b[39mleft\u001b[39m\u001b[39m'\u001b[39m, sens, threshold_loc, local_motor_speed)\n",
      "\u001b[1;32m/Users/aubinsabatier/Desktop/EPFL Master/MA1/Basics of mobile robotics/Projet/MobileRoboticsG16/test_filtre.ipynb Cell 7\u001b[0m line \u001b[0;36m4\n\u001b[1;32m     <a href='vscode-notebook-cell:/Users/aubinsabatier/Desktop/EPFL%20Master/MA1/Basics%20of%20mobile%20robotics/Projet/MobileRoboticsG16/test_filtre.ipynb#X11sZmlsZQ%3D%3D?line=39'>40</a>\u001b[0m \u001b[39mwhile\u001b[39;00m \u001b[39msum\u001b[39m(sens[i] \u001b[39m>\u001b[39m threshold_loc \u001b[39mfor\u001b[39;00m i \u001b[39min\u001b[39;00m \u001b[39mrange\u001b[39m(\u001b[39m0\u001b[39m, \u001b[39m5\u001b[39m)) \u001b[39m>\u001b[39m \u001b[39m0\u001b[39m:\n\u001b[1;32m     <a href='vscode-notebook-cell:/Users/aubinsabatier/Desktop/EPFL%20Master/MA1/Basics%20of%20mobile%20robotics/Projet/MobileRoboticsG16/test_filtre.ipynb#X11sZmlsZQ%3D%3D?line=40'>41</a>\u001b[0m     \u001b[39mprint\u001b[39m(\u001b[39m\"\u001b[39m\u001b[39mTurn left\u001b[39m\u001b[39m\"\u001b[39m)\n\u001b[0;32m---> <a href='vscode-notebook-cell:/Users/aubinsabatier/Desktop/EPFL%20Master/MA1/Basics%20of%20mobile%20robotics/Projet/MobileRoboticsG16/test_filtre.ipynb#X11sZmlsZQ%3D%3D?line=41'>42</a>\u001b[0m     \u001b[39mawait\u001b[39;00m rotate(\u001b[39m-\u001b[39mnp\u001b[39m.\u001b[39mpi\u001b[39m/\u001b[39m\u001b[39m6\u001b[39m, local_motor_speed)\n\u001b[1;32m     <a href='vscode-notebook-cell:/Users/aubinsabatier/Desktop/EPFL%20Master/MA1/Basics%20of%20mobile%20robotics/Projet/MobileRoboticsG16/test_filtre.ipynb#X11sZmlsZQ%3D%3D?line=42'>43</a>\u001b[0m     \u001b[39m#await asyncio.sleep(0.2)\u001b[39;00m\n\u001b[1;32m     <a href='vscode-notebook-cell:/Users/aubinsabatier/Desktop/EPFL%20Master/MA1/Basics%20of%20mobile%20robotics/Projet/MobileRoboticsG16/test_filtre.ipynb#X11sZmlsZQ%3D%3D?line=43'>44</a>\u001b[0m     sens \u001b[39m=\u001b[39m \u001b[39mawait\u001b[39;00m get_proximity_values()\n",
      "\u001b[1;32m/Users/aubinsabatier/Desktop/EPFL Master/MA1/Basics of mobile robotics/Projet/MobileRoboticsG16/test_filtre.ipynb Cell 7\u001b[0m line \u001b[0;36m1\n\u001b[1;32m     <a href='vscode-notebook-cell:/Users/aubinsabatier/Desktop/EPFL%20Master/MA1/Basics%20of%20mobile%20robotics/Projet/MobileRoboticsG16/test_filtre.ipynb#X11sZmlsZQ%3D%3D?line=13'>14</a>\u001b[0m \u001b[39m# wait time to get theta 1.44 is the factor to correct\u001b[39;00m\n\u001b[1;32m     <a href='vscode-notebook-cell:/Users/aubinsabatier/Desktop/EPFL%20Master/MA1/Basics%20of%20mobile%20robotics/Projet/MobileRoboticsG16/test_filtre.ipynb#X11sZmlsZQ%3D%3D?line=14'>15</a>\u001b[0m time\u001b[39m=\u001b[39m(theta)\u001b[39m*\u001b[39m\u001b[39m100\u001b[39m\u001b[39m/\u001b[39mmotor_speed\u001b[39m*\u001b[39m\u001b[39m1.44\u001b[39m\n\u001b[0;32m---> <a href='vscode-notebook-cell:/Users/aubinsabatier/Desktop/EPFL%20Master/MA1/Basics%20of%20mobile%20robotics/Projet/MobileRoboticsG16/test_filtre.ipynb#X11sZmlsZQ%3D%3D?line=15'>16</a>\u001b[0m \u001b[39mawait\u001b[39;00m(client\u001b[39m.\u001b[39msleep(time))\n\u001b[1;32m     <a href='vscode-notebook-cell:/Users/aubinsabatier/Desktop/EPFL%20Master/MA1/Basics%20of%20mobile%20robotics/Projet/MobileRoboticsG16/test_filtre.ipynb#X11sZmlsZQ%3D%3D?line=16'>17</a>\u001b[0m \u001b[39m# stop the robot\u001b[39;00m\n\u001b[1;32m     <a href='vscode-notebook-cell:/Users/aubinsabatier/Desktop/EPFL%20Master/MA1/Basics%20of%20mobile%20robotics/Projet/MobileRoboticsG16/test_filtre.ipynb#X11sZmlsZQ%3D%3D?line=17'>18</a>\u001b[0m \u001b[39mawait\u001b[39;00m node\u001b[39m.\u001b[39mset_variables(motors(\u001b[39m0\u001b[39m, \u001b[39m0\u001b[39m))\n",
      "File \u001b[0;32m~/anaconda3/envs/mobilerobotics/lib/python3.10/site-packages/tdmclient/clientasync.py:73\u001b[0m, in \u001b[0;36mClientAsync.sleep\u001b[0;34m(self, duration, wake)\u001b[0m\n\u001b[1;32m     71\u001b[0m \u001b[39mif\u001b[39;00m wake \u001b[39mis\u001b[39;00m \u001b[39mnot\u001b[39;00m \u001b[39mNone\u001b[39;00m \u001b[39mand\u001b[39;00m wake():\n\u001b[1;32m     72\u001b[0m     \u001b[39mbreak\u001b[39;00m\n\u001b[0;32m---> 73\u001b[0m \u001b[39myield\u001b[39;00m\n",
      "\u001b[0;31mCancelledError\u001b[0m: "
     ]
    }
   ],
   "source": [
    "#MAIN CODE : \n",
    "\n",
    "#parameters\n",
    "path_step = 0 #This is the index of where we are in the path.\n",
    "path_coord = np.array([[1,2], [2,3], [3,4]])\n",
    "b = np.array([3.2, 4.5])\n",
    "epsilon = 0.5\n",
    "local_obstacle = False\n",
    "threshold_obst = 3500 #threshold for obstacle detection\n",
    "pos_x, pos_y, theta = 0, 0, 0\n",
    "speed_history = []\n",
    "thymio_data.clear()\n",
    "\n",
    "#to implement in a different way thanks to filtering : \n",
    "robot_position = 1\n",
    "end_position = 2\n",
    "\n",
    "async def main():\n",
    "\n",
    "    global local_obstacle, pos_x, pos_y, theta, dt\n",
    "    while(robot_position != end_position):\n",
    "        start_time = time.time()\n",
    "        sens = await get_proximity_values()\n",
    "        if (sum(sens[i] > threshold_obst for i in range(0, 5)) > 0):\n",
    "            local_obstacle = True\n",
    "\n",
    "        if(local_obstacle):\n",
    "            await local_navigation()\n",
    "            start_time = 0          \n",
    "        \n",
    "        #if(find_index_path_if_close(path_coord,b,epsilon) and time.time-start_time>2): \n",
    "            #path_step=find_index_path_if_close(path_coord, position_robot, epsilon)\n",
    "            #local_navigation=False\n",
    "\n",
    "        if not local_obstacle: \n",
    "            node.send_set_variables(motors(50, 50))\n",
    "            await get_speed()\n",
    "            #if len(thymio_data) == 0: return pos0_x, pos0_y, theta0\n",
    "    \n",
    "            #current variables\n",
    "            left_speed = [x[\"left_speed\"] for x in thymio_data]\n",
    "            right_speed = [x[\"right_speed\"] for x in thymio_data]\n",
    "            dt = time.time() - start_time\n",
    "\n",
    "            speed, pos_x, pos_y, theta = pos_estimation(left_speed, right_speed, dt, pos_x, pos_y, theta)\n",
    "            speed_history.append(speed)\n",
    "            print(round(pos_x,2), round(pos_y,2), round(theta,2))\n",
    "\n",
    "await main()\n",
    "var_speed = np.var(speed_history)\n",
    "std_speed = np.std(speed_history)\n",
    "\n",
    "print(\"The speed variance in mm^2/s^2 is {}\".format(std_speed))"
   ]
  },
  {
   "cell_type": "code",
   "execution_count": 17,
   "metadata": {},
   "outputs": [
    {
     "data": {
      "text/plain": [
       "{'error_code': 2}"
      ]
     },
     "execution_count": 17,
     "metadata": {},
     "output_type": "execute_result"
    }
   ],
   "source": [
    "await node.set_variables(motors(0, 0))\n"
   ]
  },
  {
   "cell_type": "code",
   "execution_count": null,
   "metadata": {},
   "outputs": [],
   "source": [
    "var_speed = np.var(speed/thymio_speed_to_mms)\n",
    "std_speed = np.std(speed/thymio_speed_to_mms)\n",
    "\n",
    "print(\"The speed variance in mm^2/s^2 is {}\".format(std_speed))"
   ]
  },
  {
   "cell_type": "code",
   "execution_count": null,
   "metadata": {},
   "outputs": [],
   "source": [
    "q_nu = std_speed / 2 # variance on speed state\n",
    "r_nu = std_speed / 2 # variance on speed measurement "
   ]
  },
  {
   "cell_type": "code",
   "execution_count": 88,
   "metadata": {},
   "outputs": [
    {
     "name": "stdout",
     "output_type": "stream",
     "text": [
      "50.0 0.0\n",
      "92.56275425168309 23.252138622303846\n",
      "143.0627542516831 23.252138622303846\n",
      "170.61817185095822 66.16715884750657\n",
      "149.39468318705394 112.54132761561634\n",
      "129.00348819624395 157.09690153007475\n",
      "109.02844004198111 200.74317801770746\n",
      "89.05339188771828 244.38945450534018\n",
      "68.24605006036116 289.85432584662425\n"
     ]
    }
   ],
   "source": [
    "pos_x, pos_y, theta = 0, 0, 0\n",
    "thymio_data.clear()\n",
    "\n",
    "while True:\n",
    "    #await client.sleep(5)\n",
    "    node.send_set_variables(motors(50, 50))\n",
    "    await get_speed()\n",
    "    pos_x, pos_y, theta = pos_estimation(thymio_data, Ts, pos_x, pos_y, theta)\n",
    "    print(pos_x, pos_y, theta)\n",
    "    prox_sensor = [x[\"sensor\"][2] for x in thymio_data]   \n",
    "    if (len(prox_sensor)!=0) and (prox_sensor[-1]>threshold):\n",
    "        acquire_data=False\n",
    "        break"
   ]
  },
  {
   "cell_type": "code",
   "execution_count": null,
   "metadata": {},
   "outputs": [
    {
     "ename": "ValueError",
     "evalue": "Function <function _pre_run_cell at 0x7f8be4798d30> is not registered as a pre_run_cell callback",
     "output_type": "error",
     "traceback": [
      "\u001b[0;31m---------------------------------------------------------------------------\u001b[0m",
      "\u001b[0;31mValueError\u001b[0m                                Traceback (most recent call last)",
      "\u001b[1;32m/Users/aubinsabatier/Desktop/EPFL Master/MA1/Basics of mobile robotics/Projet/MobileRoboticsG16/test_filtre.ipynb Cell 8\u001b[0m line \u001b[0;36m1\n\u001b[0;32m----> <a href='vscode-notebook-cell:/Users/aubinsabatier/Desktop/EPFL%20Master/MA1/Basics%20of%20mobile%20robotics/Projet/MobileRoboticsG16/test_filtre.ipynb#W4sZmlsZQ%3D%3D?line=0'>1</a>\u001b[0m \u001b[39mawait\u001b[39;00m tdmclient\u001b[39m.\u001b[39mnotebook\u001b[39m.\u001b[39mstop()\n",
      "File \u001b[0;32m~/anaconda3/envs/mobilerobotics/lib/python3.10/site-packages/tdmclient/notebook/private.py:130\u001b[0m, in \u001b[0;36mstop\u001b[0;34m()\u001b[0m\n\u001b[1;32m    128\u001b[0m \u001b[39m# undo ipython configuration\u001b[39;00m\n\u001b[1;32m    129\u001b[0m ip \u001b[39m=\u001b[39m get_ipython()\n\u001b[0;32m--> 130\u001b[0m ip\u001b[39m.\u001b[39;49mevents\u001b[39m.\u001b[39;49munregister(\u001b[39m\"\u001b[39;49m\u001b[39mpre_run_cell\u001b[39;49m\u001b[39m\"\u001b[39;49m, _pre_run_cell)\n\u001b[1;32m    131\u001b[0m ip\u001b[39m.\u001b[39mevents\u001b[39m.\u001b[39munregister(\u001b[39m\"\u001b[39m\u001b[39mpost_run_cell\u001b[39m\u001b[39m\"\u001b[39m, _post_run_cell)\n\u001b[1;32m    133\u001b[0m \u001b[39m# disconnect node, tdm and zeroconf\u001b[39;00m\n",
      "File \u001b[0;32m~/anaconda3/envs/mobilerobotics/lib/python3.10/site-packages/IPython/core/events.py:72\u001b[0m, in \u001b[0;36mEventManager.unregister\u001b[0;34m(self, event, function)\u001b[0m\n\u001b[1;32m     69\u001b[0m \u001b[39mif\u001b[39;00m function \u001b[39min\u001b[39;00m \u001b[39mself\u001b[39m\u001b[39m.\u001b[39mcallbacks[event]:\n\u001b[1;32m     70\u001b[0m     \u001b[39mreturn\u001b[39;00m \u001b[39mself\u001b[39m\u001b[39m.\u001b[39mcallbacks[event]\u001b[39m.\u001b[39mremove(function)\n\u001b[0;32m---> 72\u001b[0m \u001b[39mraise\u001b[39;00m \u001b[39mValueError\u001b[39;00m(\u001b[39m'\u001b[39m\u001b[39mFunction \u001b[39m\u001b[39m{!r}\u001b[39;00m\u001b[39m is not registered as a \u001b[39m\u001b[39m{}\u001b[39;00m\u001b[39m callback\u001b[39m\u001b[39m'\u001b[39m\u001b[39m.\u001b[39mformat(function, event))\n",
      "\u001b[0;31mValueError\u001b[0m: Function <function _pre_run_cell at 0x7f8be4798d30> is not registered as a pre_run_cell callback"
     ]
    }
   ],
   "source": [
    "await tdmclient.notebook.stop()"
   ]
  },
  {
   "cell_type": "code",
   "execution_count": null,
   "metadata": {},
   "outputs": [],
   "source": []
  }
 ],
 "metadata": {
  "kernelspec": {
   "display_name": "mobilerobotics",
   "language": "python",
   "name": "python3"
  },
  "language_info": {
   "codemirror_mode": {
    "name": "ipython",
    "version": 3
   },
   "file_extension": ".py",
   "mimetype": "text/x-python",
   "name": "python",
   "nbconvert_exporter": "python",
   "pygments_lexer": "ipython3",
   "version": "3.10.13"
  }
 },
 "nbformat": 4,
 "nbformat_minor": 2
}
