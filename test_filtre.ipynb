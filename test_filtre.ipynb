{
 "cells": [
  {
   "cell_type": "code",
   "execution_count": 66,
   "metadata": {},
   "outputs": [
    {
     "data": {
      "text/plain": [
       "Node ad6b0acc-2bf0-4a27-bb7a-64d9d8bda21d"
      ]
     },
     "execution_count": 66,
     "metadata": {},
     "output_type": "execute_result"
    }
   ],
   "source": [
    "from tdmclient import ClientAsync\n",
    "client = ClientAsync()\n",
    "node = await client.wait_for_node()\n",
    "await node.lock()"
   ]
  },
  {
   "cell_type": "code",
   "execution_count": 67,
   "metadata": {},
   "outputs": [],
   "source": [
    "import matplotlib.pyplot as plt\n",
    "from scipy.signal import find_peaks\n",
    "import numpy as np\n",
    "from tqdm import tqdm"
   ]
  },
  {
   "cell_type": "code",
   "execution_count": 68,
   "metadata": {},
   "outputs": [],
   "source": [
    "from threading import Timer\n",
    "\n",
    "class RepeatedTimer(object):\n",
    "    def __init__(self, interval, function, *args, **kwargs):\n",
    "        self._timer     = None\n",
    "        self.interval   = interval\n",
    "        self.function   = function\n",
    "        self.args       = args\n",
    "        self.kwargs     = kwargs\n",
    "        self.is_running = False\n",
    "        self.start()\n",
    "\n",
    "    def _run(self):\n",
    "        self.is_running = False\n",
    "        self.start()\n",
    "        self.function(*self.args, **self.kwargs)\n",
    "\n",
    "    def start(self):\n",
    "        if not self.is_running:\n",
    "            self._timer = Timer(self.interval, self._run)\n",
    "            self._timer.start()\n",
    "            self.is_running = True\n",
    "\n",
    "    def stop(self):\n",
    "        self._timer.cancel()\n",
    "        self.is_running = False"
   ]
  },
  {
   "cell_type": "code",
   "execution_count": 76,
   "metadata": {},
   "outputs": [],
   "source": [
    "def motors(left, right):\n",
    "    return {\n",
    "        \"motor.left.target\": [left],\n",
    "        \"motor.right.target\": [right],\n",
    "    }\n",
    "\n",
    "def get_data():\n",
    "    thymio_data.append({\"sensor\":node[\"prox.horizontal\"],\n",
    "                        \"left_speed\":node[\"motor.left.speed\"],\n",
    "                        \"right_speed\":node[\"motor.right.speed\"]})\n",
    "\n",
    "async def get_speed():\n",
    "    if acquire_data:\n",
    "        await node.wait_for_variables() # wait for Thymio variables values\n",
    "        rt = RepeatedTimer(Ts, get_data) # it auto-starts, no need of rt.start()\n",
    "\n",
    "        try:\n",
    "            await client.sleep(Ts)\n",
    "        finally:\n",
    "            rt.stop() # better in a try/finally block to make sure the program ends!\n",
    "            node.send_set_variables(motors(0, 0))\n",
    "\n",
    "async def rotate(theta, motor_speed): #theta is in radians\n",
    "    direction_rot=(theta>=0)-(theta<0)\n",
    "    await node.set_variables(motors(motor_speed*direction_rot, -motor_speed*direction_rot))\n",
    "    # wait time to get theta 1.44 is the factor to correct\n",
    "    time=(theta)*100/motor_speed*1.44\n",
    "    await(client.sleep(time))\n",
    "    # stop the robot\n",
    "    await node.set_variables(motors(0, 0))\n",
    "\n",
    "def pos_estimation(thymio_data, dt, pos0_x, pos0_y, theta0):\n",
    "    #current variables\n",
    "    left_speed = [x[\"left_speed\"] for x in thymio_data]\n",
    "    right_speed = [x[\"right_speed\"] for x in thymio_data]\n",
    "\n",
    "    if len(left_speed) == 0:\n",
    "        return pos0_x, pos0_y, theta0\n",
    "\n",
    "    #speed estimation\n",
    "    speed = (right_speed[-1] + left_speed[-1])/2\n",
    "    angular_speed = (right_speed[-1] - left_speed[-1])/2\n",
    "    theta = theta0 + angular_speed*dt\n",
    "\n",
    "    #position estimation\n",
    "    pos_x = pos0_x + speed*np.cos(theta)*dt\n",
    "    pos_y = pos0_y + speed*np.sin(theta)*dt\n",
    "\n",
    "    return pos_x, pos_y, theta"
   ]
  },
  {
   "cell_type": "code",
   "execution_count": 81,
   "metadata": {},
   "outputs": [
    {
     "name": "stdout",
     "output_type": "stream",
     "text": [
      "12.481136160381958 42.19266808517809\n",
      "54.96269787955098 32.834948603358114\n",
      "82.24796432589204 75.32923333615689\n",
      "51.84636324030845 115.65283252364316\n",
      "4.880597025002004 125.56327165665739\n"
     ]
    }
   ],
   "source": [
    "Ts = 1\n",
    "thymio_data = []\n",
    "threshold=100\n",
    "acquire_data=True\n",
    "pos_x, pos_y, theta = 0, 0, 0\n",
    "thymio_data.clear()\n",
    "\n",
    "while True:\n",
    "    #await client.sleep(5)\n",
    "    node.send_set_variables(motors(50, 50))\n",
    "    await get_speed()\n",
    "    pos_x, pos_y, theta = pos_estimation(thymio_data, Ts, pos_x, pos_y, theta)\n",
    "    print(pos_x, pos_y)\n",
    "    prox_sensor = [x[\"sensor\"][2] for x in thymio_data]   \n",
    "    if (len(prox_sensor)!=0) and (prox_sensor[-1]>threshold):\n",
    "        acquire_data=False\n",
    "        break"
   ]
  },
  {
   "cell_type": "code",
   "execution_count": 73,
   "metadata": {},
   "outputs": [
    {
     "ename": "ValueError",
     "evalue": "Function <function _pre_run_cell at 0x7f8be4798d30> is not registered as a pre_run_cell callback",
     "output_type": "error",
     "traceback": [
      "\u001b[0;31m---------------------------------------------------------------------------\u001b[0m",
      "\u001b[0;31mValueError\u001b[0m                                Traceback (most recent call last)",
      "\u001b[1;32m/Users/aubinsabatier/Desktop/EPFL Master/MA1/Basics of mobile robotics/Projet/MobileRoboticsG16/test_filtre.ipynb Cell 8\u001b[0m line \u001b[0;36m1\n\u001b[0;32m----> <a href='vscode-notebook-cell:/Users/aubinsabatier/Desktop/EPFL%20Master/MA1/Basics%20of%20mobile%20robotics/Projet/MobileRoboticsG16/test_filtre.ipynb#W4sZmlsZQ%3D%3D?line=0'>1</a>\u001b[0m \u001b[39mawait\u001b[39;00m tdmclient\u001b[39m.\u001b[39mnotebook\u001b[39m.\u001b[39mstop()\n",
      "File \u001b[0;32m~/anaconda3/envs/mobilerobotics/lib/python3.10/site-packages/tdmclient/notebook/private.py:130\u001b[0m, in \u001b[0;36mstop\u001b[0;34m()\u001b[0m\n\u001b[1;32m    128\u001b[0m \u001b[39m# undo ipython configuration\u001b[39;00m\n\u001b[1;32m    129\u001b[0m ip \u001b[39m=\u001b[39m get_ipython()\n\u001b[0;32m--> 130\u001b[0m ip\u001b[39m.\u001b[39;49mevents\u001b[39m.\u001b[39;49munregister(\u001b[39m\"\u001b[39;49m\u001b[39mpre_run_cell\u001b[39;49m\u001b[39m\"\u001b[39;49m, _pre_run_cell)\n\u001b[1;32m    131\u001b[0m ip\u001b[39m.\u001b[39mevents\u001b[39m.\u001b[39munregister(\u001b[39m\"\u001b[39m\u001b[39mpost_run_cell\u001b[39m\u001b[39m\"\u001b[39m, _post_run_cell)\n\u001b[1;32m    133\u001b[0m \u001b[39m# disconnect node, tdm and zeroconf\u001b[39;00m\n",
      "File \u001b[0;32m~/anaconda3/envs/mobilerobotics/lib/python3.10/site-packages/IPython/core/events.py:72\u001b[0m, in \u001b[0;36mEventManager.unregister\u001b[0;34m(self, event, function)\u001b[0m\n\u001b[1;32m     69\u001b[0m \u001b[39mif\u001b[39;00m function \u001b[39min\u001b[39;00m \u001b[39mself\u001b[39m\u001b[39m.\u001b[39mcallbacks[event]:\n\u001b[1;32m     70\u001b[0m     \u001b[39mreturn\u001b[39;00m \u001b[39mself\u001b[39m\u001b[39m.\u001b[39mcallbacks[event]\u001b[39m.\u001b[39mremove(function)\n\u001b[0;32m---> 72\u001b[0m \u001b[39mraise\u001b[39;00m \u001b[39mValueError\u001b[39;00m(\u001b[39m'\u001b[39m\u001b[39mFunction \u001b[39m\u001b[39m{!r}\u001b[39;00m\u001b[39m is not registered as a \u001b[39m\u001b[39m{}\u001b[39;00m\u001b[39m callback\u001b[39m\u001b[39m'\u001b[39m\u001b[39m.\u001b[39mformat(function, event))\n",
      "\u001b[0;31mValueError\u001b[0m: Function <function _pre_run_cell at 0x7f8be4798d30> is not registered as a pre_run_cell callback"
     ]
    }
   ],
   "source": [
    "await tdmclient.notebook.stop()"
   ]
  },
  {
   "cell_type": "code",
   "execution_count": null,
   "metadata": {},
   "outputs": [],
   "source": []
  }
 ],
 "metadata": {
  "kernelspec": {
   "display_name": "mobilerobotics",
   "language": "python",
   "name": "python3"
  },
  "language_info": {
   "codemirror_mode": {
    "name": "ipython",
    "version": 3
   },
   "file_extension": ".py",
   "mimetype": "text/x-python",
   "name": "python",
   "nbconvert_exporter": "python",
   "pygments_lexer": "ipython3",
   "version": "3.10.13"
  }
 },
 "nbformat": 4,
 "nbformat_minor": 2
}
