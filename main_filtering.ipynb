{
 "cells": [
  {
   "cell_type": "code",
   "execution_count": 1,
   "metadata": {},
   "outputs": [
    {
     "data": {
      "text/plain": [
       "Node ad6b0acc-2bf0-4a27-bb7a-64d9d8bda21d"
      ]
     },
     "execution_count": 1,
     "metadata": {},
     "output_type": "execute_result"
    }
   ],
   "source": [
    "# General Libraries\n",
    "import numpy as np\n",
    "from tdmclient import ClientAsync\n",
    "import time\n",
    "import matplotlib.pyplot as plt\n",
    "\n",
    "# Custom libraries \n",
    "import filtering\n",
    "import local_navigation as ln\n",
    "\n",
    "client = ClientAsync()\n",
    "node = await client.wait_for_node()\n",
    "await node.lock()"
   ]
  },
  {
   "cell_type": "code",
   "execution_count": 2,
   "metadata": {},
   "outputs": [
    {
     "name": "stdout",
     "output_type": "stream",
     "text": [
      "distance [300.83800337] state_estimate angle [351.96348579]\r"
     ]
    }
   ],
   "source": [
    "#MAIN CODE : \n",
    "\n",
    "THRESHOLD_OBST = 3500 \n",
    "command_motor = [101, 100]\n",
    "command_motor_rotate = [-101, 100]\n",
    "speed_history = []\n",
    "angular_speed_history = []\n",
    "norm_distance = []\n",
    "angle = []\n",
    "angle_variance = []\n",
    "local_obstacle = False\n",
    "\n",
    "async def main():\n",
    "\n",
    "    global local_obstacle\n",
    "    start_time = time.time()\n",
    "    state_estimation = np.array([[0], [0], [0], [0], [0]])\n",
    "    P_estimation = np.diag([100, 100, 0.75, 10, 0.75])\n",
    "    bool_camera = False\n",
    "    camera_position = np.array([[0], [0], [0]]) # get_camera_position()\n",
    "\n",
    "    while(1):\n",
    "        node = await client.wait_for_node()\n",
    "        sens = await ln.get_proximity_values(node)\n",
    "\n",
    "        if (sum(sens[i] > THRESHOLD_OBST for i in range(0, 5)) > 0): local_obstacle = True\n",
    "\n",
    "        if(local_obstacle):\n",
    "            node.send_set_variables(ln.motors(0,0))\n",
    "            break\n",
    "\n",
    "        if not local_obstacle: \n",
    "            node.send_set_variables(ln.motors(command_motor[0], command_motor[1]))\n",
    "            #node.send_set_variables(ln.motors(command_motor_rotate[0], command_motor_rotate[1]))\n",
    "            state_estimation, P_estimation, speed, angular_speed, start_time = await filtering.get_position(state_estimation, P_estimation, start_time, bool_camera, camera_position, node)\n",
    "            angle_variance.append(P_estimation[2,2])\n",
    "            speed_history.append(speed)\n",
    "            angular_speed_history.append(angular_speed)\n",
    "            norm_distance.append(np.sqrt(state_estimation[0]**2 + state_estimation[1]**2))\n",
    "            print(\"distance\", norm_distance[-1], \"state_estimate angle\", state_estimation[2]*180/np.pi, end=\"\\r\")\n",
    "            angle.append((state_estimation[2]*180)/np.pi)\n",
    "\n",
    "        if (norm_distance[-1] > 300):\n",
    "            node.send_set_variables(ln.motors(0,0))\n",
    "            break\n",
    "        # if state_estimation[2] > 2*np.pi:\n",
    "        #     node.send_set_variables(ln.motors(0,0))\n",
    "        #     break\n",
    "\n",
    "await main()"
   ]
  },
  {
   "cell_type": "code",
   "execution_count": 19,
   "metadata": {},
   "outputs": [
    {
     "data": {
      "text/plain": [
       "[array([1000., 1000.])]"
      ]
     },
     "execution_count": 19,
     "metadata": {},
     "output_type": "execute_result"
    }
   ],
   "source": [
    "P_est = [1000 * np.ones(2)]\n",
    "P_est"
   ]
  },
  {
   "cell_type": "code",
   "execution_count": 10,
   "metadata": {},
   "outputs": [
    {
     "name": "stdout",
     "output_type": "stream",
     "text": [
      "[[1000.   1000.  ]\n",
      " [1000.   1000.  ]\n",
      " [1000.   1000.  ]\n",
      " [1000.04 1000.  ]\n",
      " [1000.   1000.04]] [[-9.80837146e-03  5.26350156e-46]\n",
      " [ 2.35211773e-02  5.26557602e-46]\n",
      " [ 1.72881306e-08  4.89956905e-05]\n",
      " [ 2.20997512e-01  1.93857762e-52]\n",
      " [ 1.93857762e-52  5.46410162e-02]]\n"
     ]
    }
   ],
   "source": [
    "import numpy as np\n",
    "\n",
    "predicted_covariance_estimation1 = np.array([\n",
    "    [1000.04, 1000.0, 4722.8474617, 1000.0, 1000.0],\n",
    "    [1000.0, 1000.04, 4722.8474617, 1000.0, 1000.0],\n",
    "    [1000.0, 1000.0, 4722.8874617, 1000.0, 1000.0],\n",
    "    [1000.0, 1000.0, 4722.8474617, 1000.04, 1000.0],\n",
    "    [1000.0, 1000.0, 4722.8474617, 1000.0, 1000.04]\n",
    "])\n",
    "\n",
    "predicted_covariance_estimation2 = np.array([\n",
    "    [3.18421011e+00,  9.78013338e-02,  1.22501153e-01, -9.80837146e-03, 5.26350156e-46],\n",
    "    [ 2.22398039e-02,  3.31844213e+00,  1.22549433e-01,  2.35211773e-02, 5.26557602e-46],\n",
    "    [ 4.69396229e-02,  1.21968166e-01,  3.24580978e+00,  1.72881306e-08, 4.89956905e-05],\n",
    "    [-9.80837146e-03,  2.35212051e-02,  4.51178726e-08,  2.20997512e-01, 1.93857762e-52],\n",
    "    [ 5.26350156e-46,  1.36767104e-45,  4.89956905e-05,  1.93857762e-52, 5.46410162e-02]\n",
    "    ])\n",
    "\n",
    "H = np.array([[0, 0, 0, 1, 0], [0, 0, 0, 0, 1]])\n",
    "\n",
    "result1 = np.dot(predicted_covariance_estimation1, H.T)\n",
    "result2 = np.dot(predicted_covariance_estimation2, H.T)\n",
    "print(result1, result2)\n"
   ]
  },
  {
   "cell_type": "code",
   "execution_count": 11,
   "metadata": {},
   "outputs": [
    {
     "name": "stdout",
     "output_type": "stream",
     "text": [
      "[[1001.04 1000.  ]\n",
      " [1000.   1000.06]] [[1.22099751e+00 1.93857762e-52]\n",
      " [1.93857762e-52 7.46410162e-02]]\n"
     ]
    }
   ],
   "source": [
    "\n",
    "R = np.array([[1, 0], [0, 0.02]]) # process noise covariance matrix\n",
    "S1 = np.dot(H, np.dot(predicted_covariance_estimation1, H.T)) + R\n",
    "S2 = np.dot(H, np.dot(predicted_covariance_estimation2, H.T)) + R\n",
    "\n",
    "print(S1, S2)"
   ]
  },
  {
   "cell_type": "code",
   "execution_count": 12,
   "metadata": {},
   "outputs": [
    {
     "name": "stdout",
     "output_type": "stream",
     "text": [
      "[[ 0.90909388 -0.90903934]\n",
      " [-0.90903934  0.90998474]] [[ 8.19002488e-01 -2.12711452e-51]\n",
      " [-2.12711452e-51  1.33974596e+01]]\n"
     ]
    }
   ],
   "source": [
    "print(np.linalg.inv(S1), np.linalg.inv(S2))"
   ]
  },
  {
   "cell_type": "code",
   "execution_count": 13,
   "metadata": {},
   "outputs": [
    {
     "name": "stdout",
     "output_type": "stream",
     "text": [
      "Le résultat de la multiplication est :\n",
      "[[ 0.          0.        ]\n",
      " [ 0.          0.        ]\n",
      " [ 0.          0.        ]\n",
      " [ 0.90909388 -0.90903934]\n",
      " [-0.90903934  0.90998474]] [[ 0.00000000e+00  0.00000000e+00]\n",
      " [ 0.00000000e+00  0.00000000e+00]\n",
      " [ 0.00000000e+00  0.00000000e+00]\n",
      " [ 8.19002488e-01 -2.12711452e-51]\n",
      " [-2.12711452e-51  1.33974596e+01]]\n"
     ]
    }
   ],
   "source": [
    "import numpy as np\n",
    "\n",
    "# Définir la matrice H et la matrice S\n",
    "S = np.array([\n",
    "    [1001.04, 1000.0],\n",
    "    [1000.0, 1000.06]\n",
    "])\n",
    "\n",
    "# Calculer le produit H * inverse(S)\n",
    "result1 = np.dot(H.T, np.linalg.inv(S1))\n",
    "result2 = np.dot(H.T, np.linalg.inv(S2))\n",
    "\n",
    "print(\"Le résultat de la multiplication est :\")\n",
    "print(result1, result2)"
   ]
  },
  {
   "cell_type": "code",
   "execution_count": 14,
   "metadata": {},
   "outputs": [
    {
     "name": "stdout",
     "output_type": "stream",
     "text": [
      "[[0.05454236 0.94540092]\n",
      " [0.05454236 0.94540092]\n",
      " [0.05454236 0.94540092]\n",
      " [0.09090612 0.90903934]\n",
      " [0.01818079 0.98180031]] [[-8.03308063e-03  7.05175498e-45]\n",
      " [ 1.92639027e-02  7.05453416e-45]\n",
      " [ 1.41590220e-08  6.56417785e-04]\n",
      " [ 1.80997512e-01  2.12711452e-51]\n",
      " [ 4.25422904e-53  7.32050808e-01]]\n"
     ]
    }
   ],
   "source": [
    "K1 = np.dot(predicted_covariance_estimation1, np.dot(H.T, np.linalg.inv(S1)))\n",
    "K2 = np.dot(predicted_covariance_estimation2, np.dot(H.T, np.linalg.inv(S2)))\n",
    "\n",
    "print(K1, K2)"
   ]
  },
  {
   "cell_type": "code",
   "execution_count": 17,
   "metadata": {},
   "outputs": [
    {
     "name": "stdout",
     "output_type": "stream",
     "text": [
      "np.dot(K1, i1) [[1.20822237]\n",
      " [1.20822237]\n",
      " [1.20822237]\n",
      " [1.97375228]\n",
      " [0.44274079]]\n",
      "np.dot(K2, i2) [[-1.14666555e-03]\n",
      " [ 2.74978611e-03]\n",
      " [ 2.02667868e-05]\n",
      " [ 2.58361170e-02]\n",
      " [ 2.25996895e-02]]\n"
     ]
    }
   ],
   "source": [
    "i1 = np.array([[21.112], [0.06]])\n",
    "i2 = np.array([[0.14274294], [0.03087175]])\n",
    "\n",
    "print(\"np.dot(K1, i1)\", np.dot(K1, i1))\n",
    "print(\"np.dot(K2, i2)\", np.dot(K2, i2))"
   ]
  },
  {
   "cell_type": "code",
   "execution_count": 3,
   "metadata": {},
   "outputs": [],
   "source": [
    "await node.set_variables(ln.motors(0, 0))"
   ]
  },
  {
   "cell_type": "code",
   "execution_count": 3,
   "metadata": {},
   "outputs": [
    {
     "name": "stdout",
     "output_type": "stream",
     "text": [
      "The speed variance in mm^2/s^2 is 3.787270859828695\n",
      "The angular speed variance in rad^2/s^2 is 0.08153320002680853\n",
      "208\n"
     ]
    },
    {
     "data": {
      "text/plain": [
       "<matplotlib.legend.Legend at 0x7f8639e04580>"
      ]
     },
     "execution_count": 3,
     "metadata": {},
     "output_type": "execute_result"
    },
    {
     "data": {
      "image/png": "[encoded data removed]",
      "text/plain": [
       "<Figure size 640x480 with 1 Axes>"
      ]
     },
     "metadata": {},
     "output_type": "display_data"
    }
   ],
   "source": [
    "std_speed = np.std(speed_history[10:])\n",
    "std_angular_speed = np.std(angular_speed_history[10:])\n",
    "print(\"The speed variance in mm^2/s^2 is {}\".format(std_speed))\n",
    "print(\"The angular speed variance in rad^2/s^2 is {}\".format(std_angular_speed))\n",
    "print(len(speed_history))\n",
    "\n",
    "# plt.plot(norm_distance[:], label=\"distance\")\n",
    "# plt.xlabel(\"Time step\")\n",
    "# plt.ylabel(\"distance (mm)\")\n",
    "# plt.legend()\n",
    "\n",
    "plt.plot(angle[:], label=\"angle\")\n",
    "plt.xlabel(\"Time step\")\n",
    "plt.ylabel(\"angle (deg)\")\n",
    "plt.legend()"
   ]
  },
  {
   "cell_type": "code",
   "execution_count": 5,
   "metadata": {},
   "outputs": [
    {
     "data": {
      "text/plain": [
       "<matplotlib.legend.Legend at 0x7fa0f0991120>"
      ]
     },
     "execution_count": 5,
     "metadata": {},
     "output_type": "execute_result"
    },
    {
     "data": {
      "image/png": "[encoded data removed]",
      "text/plain": [
       "<Figure size 640x480 with 1 Axes>"
      ]
     },
     "metadata": {},
     "output_type": "display_data"
    }
   ],
   "source": [
    "plt.plot(angular_speed_history[:], label=\"angular speed\")\n",
    "plt.xlabel(\"Time step\")\n",
    "plt.ylabel(\"angle (rad/s)\")\n",
    "plt.legend()"
   ]
  },
  {
   "cell_type": "code",
   "execution_count": null,
   "metadata": {},
   "outputs": [],
   "source": []
  }
 ],
 "metadata": {
  "kernelspec": {
   "display_name": "mobilerobotics",
   "language": "python",
   "name": "python3"
  },
  "language_info": {
   "codemirror_mode": {
    "name": "ipython",
    "version": 3
   },
   "file_extension": ".py",
   "mimetype": "text/x-python",
   "name": "python",
   "nbconvert_exporter": "python",
   "pygments_lexer": "ipython3",
   "version": "3.10.13"
  }
 },
 "nbformat": 4,
 "nbformat_minor": 2
}
