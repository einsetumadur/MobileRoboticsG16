{
 "cells": [
  {
   "cell_type": "code",
   "execution_count": 18,
   "metadata": {},
   "outputs": [
    {
     "data": {
      "text/plain": [
       "Node ad6b0acc-2bf0-4a27-bb7a-64d9d8bda21d"
      ]
     },
     "execution_count": 18,
     "metadata": {},
     "output_type": "execute_result"
    }
   ],
   "source": [
    "# General Libraries\n",
    "import numpy as np\n",
    "from tdmclient import ClientAsync\n",
    "import time\n",
    "import matplotlib.pyplot as plt\n",
    "\n",
    "# Custom libraries \n",
    "import filtering\n",
    "import local_navigation as ln\n",
    "\n",
    "client = ClientAsync()\n",
    "node = await client.wait_for_node()\n",
    "await node.lock()"
   ]
  },
  {
   "cell_type": "code",
   "execution_count": 29,
   "metadata": {},
   "outputs": [
    {
     "ename": "TypeError",
     "evalue": "get_position() takes 4 positional arguments but 6 were given",
     "output_type": "error",
     "traceback": [
      "\u001b[0;31m---------------------------------------------------------------------------\u001b[0m",
      "\u001b[0;31mTypeError\u001b[0m                                 Traceback (most recent call last)",
      "\u001b[1;32m/Users/aubinsabatier/Desktop/EPFL Master/MA1/Basics of mobile robotics/Projet/MobileRoboticsG16/main_filtering.ipynb Cell 2\u001b[0m line \u001b[0;36m3\n\u001b[1;32m     <a href='vscode-notebook-cell:/Users/aubinsabatier/Desktop/EPFL%20Master/MA1/Basics%20of%20mobile%20robotics/Projet/MobileRoboticsG16/main_filtering.ipynb#W1sZmlsZQ%3D%3D?line=30'>31</a>\u001b[0m             norm_distance\u001b[39m.\u001b[39mappend(np\u001b[39m.\u001b[39msqrt(state_estimation[\u001b[39m-\u001b[39m\u001b[39m1\u001b[39m][\u001b[39m0\u001b[39m]\u001b[39m*\u001b[39m\u001b[39m*\u001b[39m\u001b[39m2\u001b[39m \u001b[39m+\u001b[39m state_estimation[\u001b[39m-\u001b[39m\u001b[39m1\u001b[39m][\u001b[39m1\u001b[39m]\u001b[39m*\u001b[39m\u001b[39m*\u001b[39m\u001b[39m2\u001b[39m))\n\u001b[1;32m     <a href='vscode-notebook-cell:/Users/aubinsabatier/Desktop/EPFL%20Master/MA1/Basics%20of%20mobile%20robotics/Projet/MobileRoboticsG16/main_filtering.ipynb#W1sZmlsZQ%3D%3D?line=31'>32</a>\u001b[0m             \u001b[39mprint\u001b[39m(\u001b[39m\"\u001b[39m\u001b[39mdistance\u001b[39m\u001b[39m\"\u001b[39m, norm_distance[\u001b[39m-\u001b[39m\u001b[39m1\u001b[39m])\n\u001b[0;32m---> <a href='vscode-notebook-cell:/Users/aubinsabatier/Desktop/EPFL%20Master/MA1/Basics%20of%20mobile%20robotics/Projet/MobileRoboticsG16/main_filtering.ipynb#W1sZmlsZQ%3D%3D?line=33'>34</a>\u001b[0m \u001b[39mawait\u001b[39;00m main()\n",
      "\u001b[1;32m/Users/aubinsabatier/Desktop/EPFL Master/MA1/Basics of mobile robotics/Projet/MobileRoboticsG16/main_filtering.ipynb Cell 2\u001b[0m line \u001b[0;36m2\n\u001b[1;32m     <a href='vscode-notebook-cell:/Users/aubinsabatier/Desktop/EPFL%20Master/MA1/Basics%20of%20mobile%20robotics/Projet/MobileRoboticsG16/main_filtering.ipynb#W1sZmlsZQ%3D%3D?line=24'>25</a>\u001b[0m \u001b[39mif\u001b[39;00m \u001b[39mnot\u001b[39;00m local_obstacle: \n\u001b[1;32m     <a href='vscode-notebook-cell:/Users/aubinsabatier/Desktop/EPFL%20Master/MA1/Basics%20of%20mobile%20robotics/Projet/MobileRoboticsG16/main_filtering.ipynb#W1sZmlsZQ%3D%3D?line=25'>26</a>\u001b[0m     node\u001b[39m.\u001b[39msend_set_variables(ln\u001b[39m.\u001b[39mmotors(command_motor[\u001b[39m0\u001b[39m], command_motor[\u001b[39m1\u001b[39m]))\n\u001b[0;32m---> <a href='vscode-notebook-cell:/Users/aubinsabatier/Desktop/EPFL%20Master/MA1/Basics%20of%20mobile%20robotics/Projet/MobileRoboticsG16/main_filtering.ipynb#W1sZmlsZQ%3D%3D?line=26'>27</a>\u001b[0m     state_estimation, P_estimation, speed, angular_speed, start_time \u001b[39m=\u001b[39m \u001b[39mawait\u001b[39;00m filtering\u001b[39m.\u001b[39mget_position(client, node, thymio_data, state_estimation, P_estimation, start_time)\n\u001b[1;32m     <a href='vscode-notebook-cell:/Users/aubinsabatier/Desktop/EPFL%20Master/MA1/Basics%20of%20mobile%20robotics/Projet/MobileRoboticsG16/main_filtering.ipynb#W1sZmlsZQ%3D%3D?line=27'>28</a>\u001b[0m     speed_history\u001b[39m.\u001b[39mappend(speed)\n\u001b[1;32m     <a href='vscode-notebook-cell:/Users/aubinsabatier/Desktop/EPFL%20Master/MA1/Basics%20of%20mobile%20robotics/Projet/MobileRoboticsG16/main_filtering.ipynb#W1sZmlsZQ%3D%3D?line=28'>29</a>\u001b[0m     angular_speed_history\u001b[39m.\u001b[39mappend(angular_speed)\n",
      "\u001b[0;31mTypeError\u001b[0m: get_position() takes 4 positional arguments but 6 were given"
     ]
    }
   ],
   "source": [
    "#MAIN CODE : \n",
    "\n",
    "THRESHOLD_OBST = 3500 \n",
    "command_motor = [100, 100]\n",
    "thymio_data = []\n",
    "speed_history = []\n",
    "angular_speed_history = []\n",
    "camera_position_histoty = []\n",
    "norm_distance = []\n",
    "angle = []\n",
    "\n",
    "async def main():\n",
    "\n",
    "    local_obstacle = False\n",
    "    start_time = time.time()\n",
    "    node = await client.wait_for_node()\n",
    "    state_estimation = np.array([[0], [0], [0], [0], [0]])\n",
    "    P_estimation = 1000 * np.ones(5)\n",
    "\n",
    "    while(1):\n",
    "        sens = await ln.get_proximity_values(node)\n",
    "        if (sum(sens[i] > THRESHOLD_OBST for i in range(0, 5)) > 0): local_obstacle = True\n",
    "\n",
    "        if(local_obstacle): break\n",
    "\n",
    "        if not local_obstacle: \n",
    "            node.send_set_variables(ln.motors(command_motor[0], command_motor[1]))\n",
    "            state_estimation, P_estimation, speed, angular_speed, start_time = await filtering.get_position(client, node, thymio_data, state_estimation, P_estimation, start_time)\n",
    "            speed_history.append(speed)\n",
    "            angular_speed_history.append(angular_speed)\n",
    "            print(\"state_estimate angle\", state_estimation[-1][2]*180/np.pi)\n",
    "            norm_distance.append(np.sqrt(state_estimation[-1][0]**2 + state_estimation[-1][1]**2))\n",
    "            print(\"distance\", norm_distance[-1])\n",
    "            angle.append((state_estimation[-1][3]*180)/np.pi)\n",
    "            print(\"angle\", angle[-1])\n",
    "\n",
    "await main()"
   ]
  },
  {
   "cell_type": "code",
   "execution_count": 30,
   "metadata": {},
   "outputs": [],
   "source": [
    "await node.set_variables(ln.motors(0, 0))"
   ]
  },
  {
   "cell_type": "code",
   "execution_count": null,
   "metadata": {},
   "outputs": [],
   "source": [
    "std_speed = np.std(speed_history[30:])\n",
    "std_angular_speed = np.std(angular_speed_history[30:])\n",
    "print(\"The speed variance in mm^2/s^2 is {}\".format(std_speed))\n",
    "print(\"The angular speed variance in rad^2/s^2 is {}\".format(std_angular_speed))\n",
    "print(len(speed_history))\n",
    "\n",
    "plt.plot(norm_distance[:], label=\"distance\")\n",
    "plt.xlabel(\"Time step\")\n",
    "plt.ylabel(\"distance (mm)\")\n",
    "plt.legend()\n",
    "\n",
    "plt.plot(angle[:], label=\"angle\")\n",
    "plt.xlabel(\"Time step\")\n",
    "plt.ylabel(\"angle (deg)\")\n",
    "plt.legend()"
   ]
  }
 ],
 "metadata": {
  "kernelspec": {
   "display_name": "mobilerobotics",
   "language": "python",
   "name": "python3"
  },
  "language_info": {
   "codemirror_mode": {
    "name": "ipython",
    "version": 3
   },
   "file_extension": ".py",
   "mimetype": "text/x-python",
   "name": "python",
   "nbconvert_exporter": "python",
   "pygments_lexer": "ipython3",
   "version": "3.10.13"
  }
 },
 "nbformat": 4,
 "nbformat_minor": 2
}
