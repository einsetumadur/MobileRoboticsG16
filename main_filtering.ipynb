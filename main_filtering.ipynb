{
 "cells": [
  {
   "cell_type": "code",
   "execution_count": 1,
   "metadata": {},
   "outputs": [
    {
     "data": {
      "text/plain": [
       "Node 7648c768-a4cd-4427-9998-204136028638"
      ]
     },
     "execution_count": 1,
     "metadata": {},
     "output_type": "execute_result"
    }
   ],
   "source": [
    "# General Libraries\n",
    "import numpy as np\n",
    "from tdmclient import ClientAsync\n",
    "import time\n",
    "import matplotlib.pyplot as plt\n",
    "\n",
    "# Custom libraries \n",
    "import filtering\n",
    "import local_navigation as ln\n",
    "\n",
    "client = ClientAsync()\n",
    "node = await client.wait_for_node()\n",
    "await node.lock()"
   ]
  },
  {
   "cell_type": "code",
   "execution_count": 2,
   "metadata": {},
   "outputs": [
    {
     "name": "stdout",
     "output_type": "stream",
     "text": [
      "distance 300.12977607265955430102792143\r"
     ]
    }
   ],
   "source": [
    "#MAIN CODE : \n",
    "\n",
    "THRESHOLD_OBST = 3500 \n",
    "command_motor = [102, 100]\n",
    "speed_history = []\n",
    "angular_speed_history = []\n",
    "norm_distance = []\n",
    "angle = []\n",
    "local_obstacle = False\n",
    "\n",
    "async def main():\n",
    "\n",
    "    global local_obstacle\n",
    "    start_time = time.time()\n",
    "    state_estimation = np.array([[0], [0], [0], [0], [0]])\n",
    "    P_estimation = 1000 * np.ones(5)\n",
    "    bool_camera = False\n",
    "    camera_position = np.array([[0], [0], [0]]) # get_camera_position()\n",
    "\n",
    "    while(1):\n",
    "        node = await client.wait_for_node()\n",
    "        sens = await ln.get_proximity_values(node)\n",
    "\n",
    "        if (sum(sens[i] > THRESHOLD_OBST for i in range(0, 5)) > 0): local_obstacle = True\n",
    "\n",
    "        if(local_obstacle):\n",
    "            node.send_set_variables(ln.motors(0,0))\n",
    "            break\n",
    "\n",
    "        if not local_obstacle: \n",
    "            node.send_set_variables(ln.motors(command_motor[0], command_motor[1]))\n",
    "            state_estimation, P_estimation, speed, angular_speed, start_time = await filtering.get_position(state_estimation, P_estimation, start_time, bool_camera, camera_position, node)\n",
    "            speed_history.append(speed)\n",
    "            angular_speed_history.append(angular_speed)\n",
    "            print(\"state_estimate angle\", state_estimation[2][0]*180/np.pi, end=\"\\r\")\n",
    "            norm_distance.append(np.sqrt(state_estimation[0][0]**2 + state_estimation[1][0]**2))\n",
    "            print(\"distance\", norm_distance[-1], end=\"\\r\")\n",
    "            angle.append((state_estimation[2][0]*180)/np.pi)\n",
    "\n",
    "        if (norm_distance[-1] > 300):\n",
    "            node.send_set_variables(ln.motors(0,0))\n",
    "            break\n",
    "\n",
    "await main()"
   ]
  },
  {
   "cell_type": "code",
   "execution_count": 12,
   "metadata": {},
   "outputs": [],
   "source": [
    "await node.set_variables(ln.motors(0, 0))"
   ]
  },
  {
   "cell_type": "code",
   "execution_count": 3,
   "metadata": {},
   "outputs": [
    {
     "ename": "NameError",
     "evalue": "name 'speed_history' is not defined",
     "output_type": "error",
     "traceback": [
      "\u001b[0;31m---------------------------------------------------------------------------\u001b[0m",
      "\u001b[0;31mNameError\u001b[0m                                 Traceback (most recent call last)",
      "\u001b[1;32m/Users/aubinsabatier/Desktop/EPFL Master/MA1/Basics of mobile robotics/Projet/MobileRoboticsG16/main_filtering.ipynb Cell 4\u001b[0m line \u001b[0;36m1\n\u001b[0;32m----> <a href='vscode-notebook-cell:/Users/aubinsabatier/Desktop/EPFL%20Master/MA1/Basics%20of%20mobile%20robotics/Projet/MobileRoboticsG16/main_filtering.ipynb#W3sZmlsZQ%3D%3D?line=0'>1</a>\u001b[0m std_speed \u001b[39m=\u001b[39m np\u001b[39m.\u001b[39mstd(speed_history[\u001b[39m30\u001b[39m:])\n\u001b[1;32m      <a href='vscode-notebook-cell:/Users/aubinsabatier/Desktop/EPFL%20Master/MA1/Basics%20of%20mobile%20robotics/Projet/MobileRoboticsG16/main_filtering.ipynb#W3sZmlsZQ%3D%3D?line=1'>2</a>\u001b[0m std_angular_speed \u001b[39m=\u001b[39m np\u001b[39m.\u001b[39mstd(angular_speed_history[\u001b[39m30\u001b[39m:])\n\u001b[1;32m      <a href='vscode-notebook-cell:/Users/aubinsabatier/Desktop/EPFL%20Master/MA1/Basics%20of%20mobile%20robotics/Projet/MobileRoboticsG16/main_filtering.ipynb#W3sZmlsZQ%3D%3D?line=2'>3</a>\u001b[0m \u001b[39mprint\u001b[39m(\u001b[39m\"\u001b[39m\u001b[39mThe speed variance in mm^2/s^2 is \u001b[39m\u001b[39m{}\u001b[39;00m\u001b[39m\"\u001b[39m\u001b[39m.\u001b[39mformat(std_speed))\n",
      "\u001b[0;31mNameError\u001b[0m: name 'speed_history' is not defined"
     ]
    }
   ],
   "source": [
    "std_speed = np.std(speed_history[30:])\n",
    "std_angular_speed = np.std(angular_speed_history[30:])\n",
    "print(\"The speed variance in mm^2/s^2 is {}\".format(std_speed))\n",
    "print(\"The angular speed variance in rad^2/s^2 is {}\".format(std_angular_speed))\n",
    "print(len(speed_history))\n",
    "\n",
    "plt.plot(norm_distance[:], label=\"distance\")\n",
    "plt.xlabel(\"Time step\")\n",
    "plt.ylabel(\"distance (mm)\")\n",
    "plt.legend()\n",
    "\n",
    "plt.plot(angle[:], label=\"angle\")\n",
    "plt.xlabel(\"Time step\")\n",
    "plt.ylabel(\"angle (deg)\")\n",
    "plt.legend()"
   ]
  },
  {
   "cell_type": "code",
   "execution_count": null,
   "metadata": {},
   "outputs": [],
   "source": []
  }
 ],
 "metadata": {
  "kernelspec": {
   "display_name": "mobilerobotics",
   "language": "python",
   "name": "python3"
  },
  "language_info": {
   "codemirror_mode": {
    "name": "ipython",
    "version": 3
   },
   "file_extension": ".py",
   "mimetype": "text/x-python",
   "name": "python",
   "nbconvert_exporter": "python",
   "pygments_lexer": "ipython3",
   "version": "3.10.13"
  }
 },
 "nbformat": 4,
 "nbformat_minor": 2
}
