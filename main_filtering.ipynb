{
 "cells": [
  {
   "cell_type": "code",
   "execution_count": 2,
   "metadata": {},
   "outputs": [
    {
     "data": {
      "text/plain": [
       "Node 57eefc4f-0e49-4eba-b33e-341c5f84b956"
      ]
     },
     "execution_count": 2,
     "metadata": {},
     "output_type": "execute_result"
    }
   ],
   "source": [
    "# General Libraries\n",
    "import numpy as np\n",
    "from tdmclient import ClientAsync\n",
    "import time\n",
    "import matplotlib.pyplot as plt\n",
    "\n",
    "# Custom libraries \n",
    "from src.Filtering import filtering\n",
    "from src.Filtering import local_navigation as ln\n",
    "from src.Motion_Control import thymio as th\n",
    "\n",
    "client = ClientAsync()\n",
    "node = await client.wait_for_node()\n",
    "await node.lock()"
   ]
  },
  {
   "cell_type": "code",
   "execution_count": 3,
   "metadata": {},
   "outputs": [
    {
     "name": "stdout",
     "output_type": "stream",
     "text": [
      "[0. 0. 0.]\n",
      "[20. 20.  0.]\n",
      "[40. 40.  0.]\n",
      "[60. 60.  0.]\n",
      "[80. 80.  0.]\n",
      "[100. 100.   0.]\n",
      "[120. 120.   0.]\n",
      "[140. 140.   0.]\n",
      "[160. 160.   0.]\n",
      "[180. 180.   0.]\n"
     ]
    }
   ],
   "source": [
    "import numpy as np\n",
    "\n",
    "# Point final/goal\n",
    "goal = np.array([[200], [200], [0]])\n",
    "\n",
    "# Nombre de points intermédiaires à générer\n",
    "num_points = 10\n",
    "\n",
    "# Création d'une séquence de dix points intermédiaires\n",
    "intermediate_points = []\n",
    "for i in range(num_points + 1):\n",
    "    intermediate_x = i * goal[0][0] / num_points\n",
    "    intermediate_y = i * goal[1][0] / num_points\n",
    "    intermediate_theta = i * goal[2][0] / num_points\n",
    "\n",
    "    intermediate_points.append([intermediate_x, intermediate_y, intermediate_theta])\n",
    "\n",
    "# Conversion en tableau NumPy et transposition\n",
    "intermediate_points = np.array(intermediate_points).T\n",
    "\n",
    "# Transformation pour obtenir les composantes x, y, et l'angle en radians\n",
    "intermediate_points_with_angle = np.vstack((intermediate_points[:2], intermediate_points[2] % (2 * np.pi))).T\n",
    "\n",
    "# Affichage de chaque checkpoint\n",
    "for i in range(10):\n",
    "    print(intermediate_points_with_angle[i])"
   ]
  },
  {
   "cell_type": "code",
   "execution_count": 4,
   "metadata": {},
   "outputs": [
    {
     "name": "stdout",
     "output_type": "stream",
     "text": [
      "state_estimation_x [0.] state_estimation_y [0.] state_estimate angle [0.]\n",
      "state_estimation_x [0.] state_estimation_y [0.] state_estimate angle [0.]\n",
      "state_estimation_x [0.] state_estimation_y [0.] state_estimate angle [0.]\n",
      "state_estimation_x [0.] state_estimation_y [0.] state_estimate angle [0.]\n",
      "state_estimation_x [0.] state_estimation_y [0.] state_estimate angle [0.]\n",
      "state_estimation_x [0.94415321] state_estimation_y [0.] state_estimate angle [0.]\n",
      "state_estimation_x [3.68403488] state_estimation_y [0.] state_estimate angle [0.]\n",
      "state_estimation_x [3.81760783] state_estimation_y [0.] state_estimate angle [0.]\n",
      "state_estimation_x [3.8705699] state_estimation_y [0.] state_estimate angle [0.]\n",
      "state_estimation_x [7.31609194] state_estimation_y [0.] state_estimate angle [0.]\n",
      "state_estimation_x [10.87880599] state_estimation_y [0.] state_estimate angle [0.]\n",
      "state_estimation_x [10.95047527] state_estimation_y [0.] state_estimate angle [0.]\n",
      "state_estimation_x [10.99011053] state_estimation_y [0.] state_estimate angle [0.]\n",
      "state_estimation_x [14.68240127] state_estimation_y [0.] state_estimate angle [0.]\n",
      "state_estimation_x [18.38320759] state_estimation_y [0.] state_estimate angle [0.]\n",
      "state_estimation_x [18.42994957] state_estimation_y [0.] state_estimate angle [0.]\n",
      "state_estimation_x [22.18252132] state_estimation_y [-0.00019109] state_estimate angle [-0.01255957]\n",
      "state_estimation_x [25.99700249] state_estimation_y [-0.0011754] state_estimate angle [359.9545571]\n",
      "state_estimation_x [26.05137648] state_estimation_y [-0.00123949] state_estimate angle [359.95318532]\n",
      "state_estimation_x [30.03003203] state_estimation_y [-0.00450214] state_estimate angle [359.90958194]\n",
      "state_estimation_x [30.06180123] state_estimation_y [-0.00455382] state_estimate angle [359.90912342]\n",
      "state_estimation_x [33.9435171] state_estimation_y [-0.01079425] state_estimate angle [359.85887305]\n",
      "state_estimation_x [33.98029212] state_estimation_y [-0.0108983] state_estimate angle [359.85737438]\n",
      "state_estimation_x [37.84409807] state_estimation_y [-0.02052764] state_estimate angle [359.79338249]\n",
      "state_estimation_x [41.80895733] state_estimation_y [-0.03426896] state_estimate angle [359.74897335]\n",
      "state_estimation_x [41.86048666] state_estimation_y [-0.03441268] state_estimate angle [359.7520237]\n",
      "state_estimation_x [45.6802641] state_estimation_y [-0.05089965] state_estimate angle [359.74524484]\n",
      "state_estimation_x [49.59351376] state_estimation_y [-0.06826541] state_estimate angle [359.7427953]\n",
      "state_estimation_x [49.64367954] state_estimation_y [-0.0684855] state_estimate angle [359.74296822]\n",
      "state_estimation_x [53.52744307] state_estimation_y [-0.0863422] state_estimate angle [359.71684641]\n",
      "state_estimation_x [57.46919849] state_estimation_y [-0.10613816] state_estimate angle [359.64995159]\n",
      "state_estimation_x [57.53789837] state_estimation_y [-0.10660241] state_estimate angle [359.64693219]\n",
      "state_estimation_x [57.57179385] state_estimation_y [-0.1068179] state_estimate angle [359.64595858]\n",
      "state_estimation_x [61.46746874] state_estimation_y [-0.13089392] state_estimate angle [359.56020515]\n",
      "state_estimation_x [65.56545972] state_estimation_y [-0.16219409] state_estimate angle [359.47621987]\n",
      "state_estimation_x [65.62319414] state_estimation_y [-0.16270216] state_estimate angle [359.47616607]\n",
      "state_estimation_x [65.65157524] state_estimation_y [-0.16295869] state_estimate angle [359.4758195]\n",
      "state_estimation_x [69.60958665] state_estimation_y [-0.19916816] state_estimate angle [359.40762186]\n",
      "state_estimation_x [69.65055751] state_estimation_y [-0.19959157] state_estimate angle [359.40696445]\n",
      "state_estimation_x [73.4777209] state_estimation_y [-0.23920527] state_estimate angle [359.34173333]\n",
      "state_estimation_x [77.37431181] state_estimation_y [-0.28397435] state_estimate angle [359.27539638]\n",
      "state_estimation_x [81.36274153] state_estimation_y [-0.33415266] state_estimate angle [359.21561415]\n",
      "state_estimation_x [85.24780177] state_estimation_y [-0.38722392] state_estimate angle [359.16611814]\n",
      "state_estimation_x [89.11407587] state_estimation_y [-0.44344909] state_estimate angle [359.12007274]\n",
      "state_estimation_x [89.15323765] state_estimation_y [-0.4440435] state_estimate angle [359.11979392]\n",
      "state_estimation_x [93.13285033] state_estimation_y [-0.50504453] state_estimate angle [359.08074594]\n",
      "state_estimation_x [97.05236832] state_estimation_y [-0.56627632] state_estimate angle [359.1073097]\n",
      "state_estimation_x [97.09852296] state_estimation_y [-0.5667439] state_estimate angle [359.11686615]\n",
      "state_estimation_x [101.030952] state_estimation_y [-0.62723643] state_estimate angle [359.23691982]\n",
      "state_estimation_x [104.8690668] state_estimation_y [-0.67826033] state_estimate angle [359.36672972]\n",
      "state_estimation_x [104.91951799] state_estimation_y [-0.67879945] state_estimate angle [359.36902108]\n",
      "state_estimation_x [108.81098277] state_estimation_y [-0.72312069] state_estimate angle [359.41933292]\n",
      "state_estimation_x [108.86494491] state_estimation_y [-0.72389873] state_estimate angle [359.40616746]\n",
      "state_estimation_x [112.75264629] state_estimation_y [-0.76435187] state_estimate angle [359.28231754]\n",
      "state_estimation_x [112.7989358] state_estimation_y [-0.76495347] state_estimate angle [359.27898581]\n",
      "state_estimation_x [116.71825881] state_estimation_y [-0.81429764] state_estimate angle [359.12918138]\n",
      "state_estimation_x [120.69665718] state_estimation_y [-0.87344479] state_estimate angle [359.0277925]\n",
      "state_estimation_x [120.75737489] state_estimation_y [-0.87427218] state_estimate angle [359.03477062]\n",
      "state_estimation_x [120.78712525] state_estimation_y [-0.87474322] state_estimate angle [359.03578986]\n",
      "state_estimation_x [124.73926396] state_estimation_y [-0.94124229] state_estimate angle [359.02947871]\n",
      "state_estimation_x [128.79396034] state_estimation_y [-1.00990565] state_estimate angle [359.02725566]\n",
      "state_estimation_x [128.87853468] state_estimation_y [-1.01133779] state_estimate angle [359.0273963]\n",
      "state_estimation_x [132.9639188] state_estimation_y [-1.08101612] state_estimate angle [359.00739254]\n",
      "state_estimation_x [137.05430184] state_estimation_y [-1.15235641] state_estimate angle [358.94742957]\n",
      "state_estimation_x [137.10099015] state_estimation_y [-1.15328501] state_estimate angle [358.94405803]\n",
      "state_estimation_x [141.02082698] state_estimation_y [-1.22557006] state_estimate angle [358.86047623]\n",
      "state_estimation_x [144.99496234] state_estimation_y [-1.30464529] state_estimate angle [358.77251026]\n",
      "state_estimation_x [145.03839339] state_estimation_y [-1.30557971] state_estimate angle [358.77140355]\n",
      "state_estimation_x [145.0734627] state_estimation_y [-1.30633239] state_estimate angle [358.77059441]\n",
      "state_estimation_x [148.96668903] state_estimation_y [-1.38984332] state_estimate angle [358.68792532]\n",
      "state_estimation_x [152.89758227] state_estimation_y [-1.47981941] state_estimate angle [358.61438558]\n",
      "state_estimation_x [152.93711037] state_estimation_y [-1.48076924] state_estimate angle [358.61405845]\n",
      "state_estimation_x [152.96386213] state_estimation_y [-1.48141553] state_estimate angle [358.61364493]\n",
      "state_estimation_x [156.82389365] state_estimation_y [-1.57483209] state_estimate angle [358.54629874]\n",
      "state_estimation_x [160.79219294] state_estimation_y [-1.67568271] state_estimate angle [358.4705459]\n",
      "state_estimation_x [160.86306646] state_estimation_y [-1.67758867] state_estimate angle [358.46811068]\n",
      "state_estimation_x [165.18162661] state_estimation_y [-1.79309372] state_estimate angle [358.37372587]\n",
      "state_estimation_x [169.21152035] state_estimation_y [-1.90662015] state_estimate angle [358.31584884]\n",
      "state_estimation_x [169.25311303] state_estimation_y [-1.9077117] state_estimate angle [358.32014955]\n",
      "state_estimation_x [173.30143882] state_estimation_y [-2.0263709] state_estimate angle [358.310791]\n",
      "state_estimation_x [177.17584984] state_estimation_y [-2.14058324] state_estimate angle [358.30767097]\n",
      "state_estimation_x [177.2569239] state_estimation_y [-2.14297137] state_estimate angle [358.30788767]\n",
      "state_estimation_x [181.32843413] state_estimation_y [-2.26301517] state_estimate angle [358.32056382]\n",
      "state_estimation_x [185.19017431] state_estimation_y [-2.37607489] state_estimate angle [358.35342465]\n",
      "state_estimation_x [185.24170335] state_estimation_y [-2.37753058] state_estimate angle [358.35482548]\n",
      "state_estimation_x [189.16566899] state_estimation_y [-2.4914391] state_estimate angle [358.32720771]\n",
      "state_estimation_x [193.12218689] state_estimation_y [-2.60785236] state_estimate angle [358.19004548]\n",
      "state_estimation_x [193.18944271] state_estimation_y [-2.6101014] state_estimate angle [358.18271529]\n",
      "state_estimation_x [193.2241222] state_estimation_y [-2.61122013] state_estimate angle [358.1804298]\n",
      "state_estimation_x [197.23988187] state_estimation_y [-2.73859052] state_estimate angle [358.01313168]\n",
      "state_estimation_x [201.28916388] state_estimation_y [-2.87877309] state_estimate angle [357.89397829]\n",
      "state_estimation_x [201.33569048] state_estimation_y [-2.88044642] state_estimate angle [357.89470754]\n",
      "state_estimation_x [201.38876776] state_estimation_y [-2.88239181] state_estimate angle [357.893726]\n",
      "state_estimation_x [205.40877268] state_estimation_y [-3.03023538] state_estimate angle [357.80035515]\n",
      "state_estimation_x [209.38907517] state_estimation_y [-3.18310481] state_estimate angle [357.7092921]\n",
      "state_estimation_x [209.45516981] state_estimation_y [-3.1857437] state_estimate angle [357.70787604]\n",
      "state_estimation_x [213.50906341] state_estimation_y [-3.34800553] state_estimate angle [357.61611849]\n",
      "state_estimation_x [213.55258359] state_estimation_y [-3.34981675] state_estimate angle [357.61514527]\n",
      "state_estimation_x [217.40626976] state_estimation_y [-3.51031348] state_estimate angle [357.52806261]\n",
      "state_estimation_x [217.44764871] state_estimation_y [-3.51209975] state_estimate angle [357.52712912]\n",
      "state_estimation_x [221.5080992] state_estimation_y [-3.68699169] state_estimate angle [357.47335567]\n",
      "state_estimation_x [225.41304545] state_estimation_y [-3.85885867] state_estimate angle [357.48439079]\n",
      "state_estimation_x [225.4635586] state_estimation_y [-3.86101058] state_estimate angle [357.48731971]\n",
      "state_estimation_x [229.30993673] state_estimation_y [-4.02976454] state_estimate angle [357.52560091]\n",
      "state_estimation_x [233.16726768] state_estimation_y [-4.19642667] state_estimate angle [357.56735353]\n",
      "state_estimation_x [233.21208324] state_estimation_y [-4.19832671] state_estimate angle [357.56799076]\n",
      "state_estimation_x [237.24246521] state_estimation_y [-4.36949789] state_estimate angle [357.61359942]\n",
      "state_estimation_x [241.16107824] state_estimation_y [-4.53279839] state_estimate angle [357.65876506]\n",
      "state_estimation_x [241.19800835] state_estimation_y [-4.53430553] state_estimate angle [357.65922783]\n",
      "state_estimation_x [241.24047925] state_estimation_y [-4.53604121] state_estimate angle [357.65972656]\n",
      "state_estimation_x [245.00381081] state_estimation_y [-4.68984175] state_estimate angle [357.70350671]\n",
      "state_estimation_x [249.00695468] state_estimation_y [-4.85038554] state_estimate angle [357.74978374]\n",
      "state_estimation_x [252.94356513] state_estimation_y [-5.00507429] state_estimate angle [357.79490468]\n",
      "state_estimation_x [256.95113643] state_estimation_y [-5.16195273] state_estimate angle [357.77227476]\n",
      "state_estimation_x [257.12577712] state_estimation_y [-5.16914822] state_estimate angle [357.75884045]\n",
      "state_estimation_x [261.2036691] state_estimation_y [-5.32890767] state_estimate angle [357.64053807]\n",
      "state_estimation_x [265.17743605] state_estimation_y [-5.49274442] state_estimate angle [357.51352736]\n",
      "state_estimation_x [265.23564901] state_estimation_y [-5.49528725] state_estimate angle [357.51111543]\n",
      "state_estimation_x [269.15008681] state_estimation_y [-5.66556639] state_estimate angle [357.3738388]\n",
      "state_estimation_x [273.02846196] state_estimation_y [-5.84354914] state_estimate angle [357.2261151]\n",
      "state_estimation_x [276.99675531] state_estimation_y [-6.03586573] state_estimate angle [357.07083988]\n",
      "state_estimation_x [280.9444463] state_estimation_y [-6.23788253] state_estimate angle [356.91483802]\n",
      "state_estimation_x [281.00094693] state_estimation_y [-6.24093145] state_estimate angle [356.91251798]\n",
      "state_estimation_x [284.99256634] state_estimation_y [-6.45623649] state_estimate angle [356.75398965]\n",
      "state_estimation_x [288.98311919] state_estimation_y [-6.68028271] state_estimate angle [356.67377161]\n",
      "state_estimation_x [289.05013432] state_estimation_y [-6.68383453] state_estimate angle [356.68531713]\n",
      "state_estimation_x [293.00935498] state_estimation_y [-6.91296954] state_estimate angle [356.72984122]\n",
      "state_estimation_x [297.00255785] state_estimation_y [-7.14100713] state_estimate angle [356.79019092]\n",
      "state_estimation_x [297.1040345] state_estimation_y [-7.14667886] state_estimate angle [356.79248688]\n",
      "state_estimation_x [297.13286127] state_estimation_y [-7.14829148] state_estimate angle [356.79307101]\n",
      "state_estimation_x [301.0962358] state_estimation_y [-7.37077389] state_estimate angle [356.80824516]\n",
      "state_estimation_x [304.86587531] state_estimation_y [-7.58155259] state_estimate angle [356.72658207]\n",
      "state_estimation_x [304.9183533] state_estimation_y [-7.58464183] state_estimate angle [356.72132422]\n",
      "state_estimation_x [308.78563696] state_estimation_y [-7.80623427] state_estimate angle [356.59428683]\n",
      "state_estimation_x [312.64496681] state_estimation_y [-8.03594621] state_estimate angle [356.462224]\n",
      "state_estimation_x [312.6878376] state_estimation_y [-8.03860272] state_estimate angle [356.46052096]\n",
      "state_estimation_x [312.71482874] state_estimation_y [-8.04027314] state_estimate angle [356.45954825]\n",
      "state_estimation_x [316.6974775] state_estimation_y [-8.28619819] state_estimate angle [356.38668269]\n",
      "state_estimation_x [320.62844174] state_estimation_y [-8.53370667] state_estimate angle [356.43580924]\n",
      "state_estimation_x [320.68934716] state_estimation_y [-8.53739286] state_estimate angle [356.44160173]\n",
      "state_estimation_x [320.71820903] state_estimation_y [-8.53917169] state_estimate angle [356.44300461]\n",
      "state_estimation_x [324.80103306] state_estimation_y [-8.79295505] state_estimate angle [356.55284491]\n",
      "state_estimation_x [324.83981743] state_estimation_y [-8.79529003] state_estimate angle [356.55410518]\n",
      "state_estimation_x [324.86745269] state_estimation_y [-8.79695388] state_estimate angle [356.55489996]\n",
      "state_estimation_x [328.80075935] state_estimation_y [-9.03389957] state_estimate angle [356.63151868]\n",
      "state_estimation_x [328.89665837] state_estimation_y [-9.03957159] state_estimate angle [356.62709328]\n",
      "state_estimation_x [332.770872] state_estimation_y [-9.26795889] state_estimate angle [356.61903581]\n",
      "state_estimation_x [336.74357418] state_estimation_y [-9.5032722] state_estimate angle [356.57862076]\n",
      "state_estimation_x [336.81175377] state_estimation_y [-9.50744204] state_estimate angle [356.57375791]\n",
      "state_estimation_x [340.75709606] state_estimation_y [-9.74370419] state_estimate angle [356.4922445]\n",
      "state_estimation_x [344.75374163] state_estimation_y [-9.98873186] state_estimate angle [356.40460602]\n",
      "state_estimation_x [348.6695307] state_estimation_y [-10.23253321] state_estimate angle [356.38196051]\n",
      "state_estimation_x [348.69686145] state_estimation_y [-10.2339314] state_estimate angle [356.3918866]\n",
      "state_estimation_x [352.62176549] state_estimation_y [-10.48127733] state_estimate angle [356.46500466]\n",
      "state_estimation_x [352.69204089] state_estimation_y [-10.48559465] state_estimate angle [356.46766212]\n",
      "state_estimation_x [352.72819455] state_estimation_y [-10.48782277] state_estimate angle [356.46865915]\n",
      "state_estimation_x [356.67520907] state_estimation_y [-10.73172001] state_estimate angle [356.50696873]\n",
      "state_estimation_x [360.60777482] state_estimation_y [-10.97233728] state_estimate angle [356.44584611]\n",
      "state_estimation_x [364.48042265] state_estimation_y [-11.21320563] state_estimate angle [356.35451637]\n",
      "state_estimation_x [368.40561576] state_estimation_y [-11.46556186] state_estimate angle [356.19405748]\n",
      "state_estimation_x [368.46526694] state_estimation_y [-11.46985438] state_estimate angle [356.18211565]\n",
      "state_estimation_x [372.52537116] state_estimation_y [-11.74094189] state_estimate angle [355.93113731]\n"
     ]
    },
    {
     "name": "stderr",
     "output_type": "stream",
     "text": [
      "Exception in thread Exception in thread Thread-5:\n",
      "Traceback (most recent call last):\n",
      "  File \"/Users/aubinsabatier/anaconda3/envs/mobilerobotics/lib/python3.10/threading.py\", line 1016, in _bootstrap_inner\n",
      "Thread-4:\n",
      "Traceback (most recent call last):\n",
      "  File \"/Users/aubinsabatier/anaconda3/envs/mobilerobotics/lib/python3.10/threading.py\", line 1016, in _bootstrap_inner\n",
      "    self.run()\n",
      "  File \"/Users/aubinsabatier/anaconda3/envs/mobilerobotics/lib/python3.10/site-packages/tdmclient/tcp.py\", line 73, in run\n",
      "    self.run()\n",
      "  File \"/Users/aubinsabatier/anaconda3/envs/mobilerobotics/lib/python3.10/site-packages/tdmclient/tcp.py\", line 73, in run\n",
      "    packet = self.read_packet()\n",
      "  File \"/Users/aubinsabatier/anaconda3/envs/mobilerobotics/lib/python3.10/site-packages/tdmclient/tcp.py\", line 66, in read_packet\n",
      "    raise error\n",
      "  File \"/Users/aubinsabatier/anaconda3/envs/mobilerobotics/lib/python3.10/site-packages/tdmclient/tcp.py\", line 59, in read_packet\n",
      "    packet = self.read_packet()\n",
      "  File \"/Users/aubinsabatier/anaconda3/envs/mobilerobotics/lib/python3.10/site-packages/tdmclient/tcp.py\", line 66, in read_packet\n",
      "    raise error\n",
      "  File \"/Users/aubinsabatier/anaconda3/envs/mobilerobotics/lib/python3.10/site-packages/tdmclient/tcp.py\", line 59, in read_packet\n",
      "    packet_len = self.read_uint32()\n",
      "  File \"/Users/aubinsabatier/anaconda3/envs/mobilerobotics/lib/python3.10/site-packages/tdmclient/tcp.py\", line 46, in read_uint32\n",
      "    packet_len = self.read_uint32()\n",
      "  File \"/Users/aubinsabatier/anaconda3/envs/mobilerobotics/lib/python3.10/site-packages/tdmclient/tcp.py\", line 46, in read_uint32\n",
      "    b = self.io.read(4)\n",
      "  File \"/Users/aubinsabatier/anaconda3/envs/mobilerobotics/lib/python3.10/site-packages/tdmclient/tcp.py\", line 99, in read\n",
      "    b = self.io.read(4)\n",
      "  File \"/Users/aubinsabatier/anaconda3/envs/mobilerobotics/lib/python3.10/site-packages/tdmclient/tcp.py\", line 99, in read\n",
      "    return self.socket.recv(n)\n",
      "ConnectionResetError: [Errno 54] Connection reset by peer\n",
      "    return self.socket.recv(n)\n",
      "ConnectionResetError: [Errno 54] Connection reset by peer\n"
     ]
    }
   ],
   "source": [
    "#MAIN CODE : \n",
    "\n",
    "THRESHOLD_OBST = 3500 \n",
    "command_motor = [101, 100]\n",
    "command_motor_rotate = [-101, 100]\n",
    "speed_history = []\n",
    "angular_speed_history = []\n",
    "norm_distance = []\n",
    "angle = []\n",
    "state_x = []\n",
    "state_y = []\n",
    "goal = np.array([[20], [20], [0]])\n",
    "local_obstacle = False\n",
    "\n",
    "async def main():\n",
    "\n",
    "    global local_obstacle\n",
    "    bool_camera = False\n",
    "    camera_position = np.array([[0], [0], [0]]) # get_camera_position()\n",
    "\n",
    "    start_time = time.time()\n",
    "    state_estimation = np.array([[0], [0], [0], [0], [0]])\n",
    "    P_estimation = np.diag([100, 100, 0.75, 10, 0.75])\n",
    "    i=0\n",
    "\n",
    "    while(1):\n",
    "        \n",
    "        node = await client.wait_for_node()\n",
    "        sens = await ln.get_proximity_values(node)\n",
    "\n",
    "        if (sum(sens[i] > THRESHOLD_OBST for i in range(0, 5)) > 0): local_obstacle = True\n",
    "\n",
    "        if(local_obstacle):\n",
    "            node.send_set_variables(ln.motors(0,0))\n",
    "            break\n",
    "\n",
    "        if not local_obstacle: \n",
    "\n",
    "            # await th.move_to_goal2(client, state_estimation, intermediate_points_with_angle[i], 100)\n",
    "            # print(\"next checkpoint\")\n",
    "            # i += 1\n",
    "            # state_estimation, P_estimation, speed, angular_speed, start_time = await filtering.get_position(state_estimation, P_estimation, start_time, bool_camera, camera_position, node)\n",
    "            # if np.sqrt((state_estimation[0] - intermediate_points_with_angle[-1][0])**2 + (state_estimation[1] - intermediate_points[-1][1])**2) < 10:\n",
    "            #     node.send_set_variables(ln.motors(0,0))\n",
    "            #     break\n",
    "            if state_estimation[0] < 200 and state_estimation[2] < np.pi/2:\n",
    "                node.send_set_variables(ln.motors(command_motor[0], command_motor[1]))\n",
    "                #node.send_set_variables(ln.motors(command_motor_rotate[0], command_motor_rotate[1]))\n",
    "                state_estimation, P_estimation, speed, angular_speed, start_time = await filtering.get_position(state_estimation, P_estimation, start_time, bool_camera, camera_position, node)\n",
    "                speed_history.append(speed)\n",
    "                angular_speed_history.append(angular_speed)\n",
    "                norm_distance.append(np.sqrt(state_estimation[0]**2 + state_estimation[1]**2))\n",
    "                #print(\"distance\", norm_distance[-1], \"state_estimate angle\", state_estimation[2]*180/np.pi, end=\"\\r\")\n",
    "                angle.append((state_estimation[2]*180)/np.pi)\n",
    "\n",
    "            elif (state_estimation[0] > 200) and state_estimation[2] < np.pi/2:\n",
    "                node.send_set_variables(ln.motors(command_motor_rotate[0], command_motor_rotate[1]))\n",
    "                state_estimation, P_estimation, speed, angular_speed, start_time = await filtering.get_position(state_estimation, P_estimation, start_time, bool_camera, camera_position, node)\n",
    "                speed_history.append(speed)\n",
    "                angular_speed_history.append(angular_speed)\n",
    "                norm_distance.append(np.sqrt(state_estimation[0]**2 + state_estimation[1]**2))\n",
    "                #print(\"distance\", norm_distance[-1], \"state_estimate angle\", state_estimation[2]*180/np.pi, end=\"\\r\")\n",
    "                angle.append((state_estimation[2]*180)/np.pi)\n",
    "\n",
    "            elif state_estimation[2] > np.pi/2:\n",
    "                node.send_set_variables(ln.motors(command_motor[0], command_motor[1]))\n",
    "                #node.send_set_variables(ln.motors(command_motor_rotate[0], command_motor_rotate[1]))\n",
    "                state_estimation, P_estimation, speed, angular_speed, start_time = await filtering.get_position(state_estimation, P_estimation, start_time, bool_camera, camera_position, node)\n",
    "                speed_history.append(speed)\n",
    "                angular_speed_history.append(angular_speed)\n",
    "                norm_distance.append(np.sqrt(state_estimation[0]**2 + state_estimation[1]**2))\n",
    "                #print(\"distance\", norm_distance[-1], \"state_estimate angle\", state_estimation[2]*180/np.pi, end=\"\\r\")\n",
    "                angle.append((state_estimation[2]*180)/np.pi)\n",
    "\n",
    "            if state_estimation[1] > 200:\n",
    "                node.send_set_variables(ln.motors(0,0))\n",
    "                break\n",
    "\n",
    "            # node.send_set_variables(ln.motors(command_motor_rotate[0], command_motor_rotate[1]))\n",
    "            # state_estimation, P_estimation, speed, angular_speed, start_time = await filtering.get_position(state_estimation, P_estimation, start_time, bool_camera, camera_position, node)\n",
    "            # speed_history.append(speed)\n",
    "            # angular_speed_history.append(angular_speed)\n",
    "            # norm_distance.append(np.sqrt(state_estimation[0]**2 + state_estimation[1]**2))\n",
    "            # #print(\"distance\", norm_distance[-1], \"state_estimate angle\", state_estimation[2]*180/np.pi, end=\"\\r\")\n",
    "            # angle.append((state_estimation[2]*180)/np.pi)\n",
    "\n",
    "        print(\"state_estimation_x\", state_estimation[0], \"state_estimation_y\", state_estimation[1], \"state_estimate angle\", state_estimation[2]*180/np.pi)\n",
    "        state_x.append(state_estimation[0])\n",
    "        state_y.append(state_estimation[1])\n",
    "        # if (angle[-1] > 360):\n",
    "        #     node.send_set_variables(ln.motors(0,0))\n",
    "        #     break\n",
    "\n",
    "await main()"
   ]
  },
  {
   "cell_type": "code",
   "execution_count": 5,
   "metadata": {},
   "outputs": [
    {
     "data": {
      "text/plain": [
       "[array([1000., 1000.])]"
      ]
     },
     "execution_count": 5,
     "metadata": {},
     "output_type": "execute_result"
    }
   ],
   "source": [
    "P_est = [1000 * np.ones(2)]\n",
    "P_est"
   ]
  },
  {
   "cell_type": "code",
   "execution_count": 10,
   "metadata": {},
   "outputs": [
    {
     "name": "stdout",
     "output_type": "stream",
     "text": [
      "[[1000.   1000.  ]\n",
      " [1000.   1000.  ]\n",
      " [1000.   1000.  ]\n",
      " [1000.04 1000.  ]\n",
      " [1000.   1000.04]] [[-9.80837146e-03  5.26350156e-46]\n",
      " [ 2.35211773e-02  5.26557602e-46]\n",
      " [ 1.72881306e-08  4.89956905e-05]\n",
      " [ 2.20997512e-01  1.93857762e-52]\n",
      " [ 1.93857762e-52  5.46410162e-02]]\n"
     ]
    }
   ],
   "source": [
    "import numpy as np\n",
    "\n",
    "predicted_covariance_estimation1 = np.array([\n",
    "    [1000.04, 1000.0, 4722.8474617, 1000.0, 1000.0],\n",
    "    [1000.0, 1000.04, 4722.8474617, 1000.0, 1000.0],\n",
    "    [1000.0, 1000.0, 4722.8874617, 1000.0, 1000.0],\n",
    "    [1000.0, 1000.0, 4722.8474617, 1000.04, 1000.0],\n",
    "    [1000.0, 1000.0, 4722.8474617, 1000.0, 1000.04]\n",
    "])\n",
    "\n",
    "predicted_covariance_estimation2 = np.array([\n",
    "    [3.18421011e+00,  9.78013338e-02,  1.22501153e-01, -9.80837146e-03, 5.26350156e-46],\n",
    "    [ 2.22398039e-02,  3.31844213e+00,  1.22549433e-01,  2.35211773e-02, 5.26557602e-46],\n",
    "    [ 4.69396229e-02,  1.21968166e-01,  3.24580978e+00,  1.72881306e-08, 4.89956905e-05],\n",
    "    [-9.80837146e-03,  2.35212051e-02,  4.51178726e-08,  2.20997512e-01, 1.93857762e-52],\n",
    "    [ 5.26350156e-46,  1.36767104e-45,  4.89956905e-05,  1.93857762e-52, 5.46410162e-02]\n",
    "    ])\n",
    "\n",
    "H = np.array([[0, 0, 0, 1, 0], [0, 0, 0, 0, 1]])\n",
    "\n",
    "result1 = np.dot(predicted_covariance_estimation1, H.T)\n",
    "result2 = np.dot(predicted_covariance_estimation2, H.T)\n",
    "print(result1, result2)\n"
   ]
  },
  {
   "cell_type": "code",
   "execution_count": 11,
   "metadata": {},
   "outputs": [
    {
     "name": "stdout",
     "output_type": "stream",
     "text": [
      "[[1001.04 1000.  ]\n",
      " [1000.   1000.06]] [[1.22099751e+00 1.93857762e-52]\n",
      " [1.93857762e-52 7.46410162e-02]]\n"
     ]
    }
   ],
   "source": [
    "\n",
    "R = np.array([[1, 0], [0, 0.02]]) # process noise covariance matrix\n",
    "S1 = np.dot(H, np.dot(predicted_covariance_estimation1, H.T)) + R\n",
    "S2 = np.dot(H, np.dot(predicted_covariance_estimation2, H.T)) + R\n",
    "\n",
    "print(S1, S2)"
   ]
  },
  {
   "cell_type": "code",
   "execution_count": 12,
   "metadata": {},
   "outputs": [
    {
     "name": "stdout",
     "output_type": "stream",
     "text": [
      "[[ 0.90909388 -0.90903934]\n",
      " [-0.90903934  0.90998474]] [[ 8.19002488e-01 -2.12711452e-51]\n",
      " [-2.12711452e-51  1.33974596e+01]]\n"
     ]
    }
   ],
   "source": [
    "print(np.linalg.inv(S1), np.linalg.inv(S2))"
   ]
  },
  {
   "cell_type": "code",
   "execution_count": 13,
   "metadata": {},
   "outputs": [
    {
     "name": "stdout",
     "output_type": "stream",
     "text": [
      "Le résultat de la multiplication est :\n",
      "[[ 0.          0.        ]\n",
      " [ 0.          0.        ]\n",
      " [ 0.          0.        ]\n",
      " [ 0.90909388 -0.90903934]\n",
      " [-0.90903934  0.90998474]] [[ 0.00000000e+00  0.00000000e+00]\n",
      " [ 0.00000000e+00  0.00000000e+00]\n",
      " [ 0.00000000e+00  0.00000000e+00]\n",
      " [ 8.19002488e-01 -2.12711452e-51]\n",
      " [-2.12711452e-51  1.33974596e+01]]\n"
     ]
    }
   ],
   "source": [
    "import numpy as np\n",
    "\n",
    "# Définir la matrice H et la matrice S\n",
    "S = np.array([\n",
    "    [1001.04, 1000.0],\n",
    "    [1000.0, 1000.06]\n",
    "])\n",
    "\n",
    "# Calculer le produit H * inverse(S)\n",
    "result1 = np.dot(H.T, np.linalg.inv(S1))\n",
    "result2 = np.dot(H.T, np.linalg.inv(S2))\n",
    "\n",
    "print(\"Le résultat de la multiplication est :\")\n",
    "print(result1, result2)"
   ]
  },
  {
   "cell_type": "code",
   "execution_count": 14,
   "metadata": {},
   "outputs": [
    {
     "name": "stdout",
     "output_type": "stream",
     "text": [
      "[[0.05454236 0.94540092]\n",
      " [0.05454236 0.94540092]\n",
      " [0.05454236 0.94540092]\n",
      " [0.09090612 0.90903934]\n",
      " [0.01818079 0.98180031]] [[-8.03308063e-03  7.05175498e-45]\n",
      " [ 1.92639027e-02  7.05453416e-45]\n",
      " [ 1.41590220e-08  6.56417785e-04]\n",
      " [ 1.80997512e-01  2.12711452e-51]\n",
      " [ 4.25422904e-53  7.32050808e-01]]\n"
     ]
    }
   ],
   "source": [
    "K1 = np.dot(predicted_covariance_estimation1, np.dot(H.T, np.linalg.inv(S1)))\n",
    "K2 = np.dot(predicted_covariance_estimation2, np.dot(H.T, np.linalg.inv(S2)))\n",
    "\n",
    "print(K1, K2)"
   ]
  },
  {
   "cell_type": "code",
   "execution_count": 17,
   "metadata": {},
   "outputs": [
    {
     "name": "stdout",
     "output_type": "stream",
     "text": [
      "np.dot(K1, i1) [[1.20822237]\n",
      " [1.20822237]\n",
      " [1.20822237]\n",
      " [1.97375228]\n",
      " [0.44274079]]\n",
      "np.dot(K2, i2) [[-1.14666555e-03]\n",
      " [ 2.74978611e-03]\n",
      " [ 2.02667868e-05]\n",
      " [ 2.58361170e-02]\n",
      " [ 2.25996895e-02]]\n"
     ]
    }
   ],
   "source": [
    "i1 = np.array([[21.112], [0.06]])\n",
    "i2 = np.array([[0.14274294], [0.03087175]])\n",
    "\n",
    "print(\"np.dot(K1, i1)\", np.dot(K1, i1))\n",
    "print(\"np.dot(K2, i2)\", np.dot(K2, i2))"
   ]
  },
  {
   "cell_type": "code",
   "execution_count": 4,
   "metadata": {},
   "outputs": [],
   "source": [
    "await node.set_variables(ln.motors(0, 0))"
   ]
  },
  {
   "cell_type": "code",
   "execution_count": 3,
   "metadata": {},
   "outputs": [
    {
     "name": "stdout",
     "output_type": "stream",
     "text": [
      "The speed variance in mm^2/s^2 is 12.34474224531234\n",
      "The angular speed variance in rad^2/s^2 is 0.24399006752193028\n",
      "272\n"
     ]
    },
    {
     "data": {
      "text/plain": [
       "<matplotlib.legend.Legend at 0x7f97ebec1db0>"
      ]
     },
     "execution_count": 3,
     "metadata": {},
     "output_type": "execute_result"
    },
    {
     "data": {
      "image/png": "[encoded data removed]",
      "text/plain": [
       "<Figure size 640x480 with 1 Axes>"
      ]
     },
     "metadata": {},
     "output_type": "display_data"
    }
   ],
   "source": [
    "std_speed = np.std(speed_history[10:])\n",
    "std_angular_speed = np.std(angular_speed_history[10:])\n",
    "print(\"The speed variance in mm^2/s^2 is {}\".format(std_speed))\n",
    "print(\"The angular speed variance in rad^2/s^2 is {}\".format(std_angular_speed))\n",
    "print(len(speed_history))\n",
    "\n",
    "# plt.plot(norm_distance[:], label=\"distance\")\n",
    "# plt.xlabel(\"Time step\")\n",
    "# plt.ylabel(\"distance (mm)\")\n",
    "# plt.legend()\n",
    "\n",
    "# plt.plot(angle[:], label=\"angle\")\n",
    "# plt.xlabel(\"Time step\")\n",
    "# plt.ylabel(\"angle (deg)\")\n",
    "# plt.legend()\n",
    "\n",
    "plt.plot(state_x[:], label=\"state_x\")\n",
    "plt.xlabel(\"Time step\")\n",
    "plt.ylabel(\"state_x (mm)\")\n",
    "plt.legend()\n",
    "\n",
    "plt.plot(state_y[:], label=\"state_y\")\n",
    "plt.xlabel(\"Time step\")\n",
    "plt.ylabel(\"state_y (mm)\")\n",
    "plt.legend()"
   ]
  },
  {
   "cell_type": "code",
   "execution_count": 5,
   "metadata": {},
   "outputs": [
    {
     "data": {
      "text/plain": [
       "<matplotlib.legend.Legend at 0x7fa0f0991120>"
      ]
     },
     "execution_count": 5,
     "metadata": {},
     "output_type": "execute_result"
    },
    {
     "data": {
      "image/png": "[encoded data removed]",
      "text/plain": [
       "<Figure size 640x480 with 1 Axes>"
      ]
     },
     "metadata": {},
     "output_type": "display_data"
    }
   ],
   "source": [
    "plt.plot(angular_speed_history[:], label=\"angular speed\")\n",
    "plt.xlabel(\"Time step\")\n",
    "plt.ylabel(\"angle (rad/s)\")\n",
    "plt.legend()"
   ]
  },
  {
   "cell_type": "code",
   "execution_count": null,
   "metadata": {},
   "outputs": [],
   "source": []
  }
 ],
 "metadata": {
  "kernelspec": {
   "display_name": "mobilerobotics",
   "language": "python",
   "name": "python3"
  },
  "language_info": {
   "codemirror_mode": {
    "name": "ipython",
    "version": 3
   },
   "file_extension": ".py",
   "mimetype": "text/x-python",
   "name": "python",
   "nbconvert_exporter": "python",
   "pygments_lexer": "ipython3",
   "version": "3.10.13"
  }
 },
 "nbformat": 4,
 "nbformat_minor": 2
}
