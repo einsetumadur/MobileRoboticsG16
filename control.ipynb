{
 "cells": [
  {
   "cell_type": "code",
   "execution_count": 1,
   "metadata": {},
   "outputs": [],
   "source": [
    "#Alternative : \n",
    "#import files\n",
    "#from local_navigation import prox\n",
    "#import class\n",
    "#from thymioV2 import thymio_robot\n",
    "#import librairies\n",
    "import time\n",
    "import numpy as np\n",
    "import math \n"
   ]
  },
  {
   "cell_type": "code",
   "execution_count": 2,
   "metadata": {},
   "outputs": [
    {
     "data": {
      "text/plain": [
       "Node 95b5d775-2dea-417c-9b71-d572afe275af"
      ]
     },
     "execution_count": 2,
     "metadata": {},
     "output_type": "execute_result"
    }
   ],
   "source": [
    "from tdmclient import ClientAsync\n",
    "client = ClientAsync()\n",
    "node = await client.wait_for_node() #_ = protected #__ = private = shouldn't access node outside of the class\n",
    "await node.lock()"
   ]
  },
  {
   "cell_type": "code",
   "execution_count": 33,
   "metadata": {},
   "outputs": [
    {
     "name": "stdout",
     "output_type": "stream",
     "text": [
      "Front Proximity Sensor Value: [0, 0, 0, 0, 0]\n"
     ]
    }
   ],
   "source": [
    "#Thymio control\n",
    "def motors(l_speed=500, r_speed=500):\n",
    "    return {\n",
    "        \"motor.left.target\": [l_speed],\n",
    "        \"motor.right.target\": [r_speed],\n",
    "    }\n",
    "\n",
    "async def forward(motor_speed):\n",
    "    await node.set_variables(motors(motor_speed,motor_speed))\n",
    "\n",
    "async def motorset(motor_speed_left,motor_speed_right):\n",
    "    await node.set_variables(motors(motor_speed_left,motor_speed_right))\n",
    "\n",
    "async def rotate(theta, motor_speed): #theta is in radians\n",
    "    if not (theta < 0.001 ):\n",
    "        direction_rot=(theta>=0)-(theta<0)\n",
    "        await node.set_variables(motors(motor_speed*direction_rot, -motor_speed*direction_rot))\n",
    "        # wait time to get theta 1.44 is the factor to correct\n",
    "        time=(theta)*100/motor_speed*1.4\n",
    "        print(time)\n",
    "        await(client.sleep(time))\n",
    "    # stop the robot\n",
    "        await node.set_variables(motors(0, 0))\n",
    "\n",
    "async def stop_motor():\n",
    "    await node.set_variables(motors(0,0))\n",
    "\n",
    "\n",
    "async def get_proximity_values():\n",
    "    # Wait for the Thymio node\n",
    "    node = await client.wait_for_node()\n",
    "    # Wait for the proximity sensor variables\n",
    "    await node.wait_for_variables({\"prox.horizontal\"})\n",
    "    # Get the proximity values : v: Stands for \"variables\" and is used to access the cached variable values.\n",
    "    proximity_values = node.v.prox.horizontal\n",
    "    # Return the value of the front proximity sensor (index 2)\n",
    "    return proximity_values[0:5]\n",
    "\n",
    "async def move_forward(dist, speed): \n",
    "    \n",
    "    await node.set_variables(motors(speed, speed))\n",
    "    # wait time to get theta 1.44 is the factor to correct\n",
    "    speed2 = 3.5*speed\n",
    "    time= 100*dist/speed2\n",
    "    await(client.sleep(time))\n",
    "    # stop the robot\n",
    "    await node.set_variables(motors(0, 0))\n",
    "\n",
    "# Run the asynchronous function and print the result\n",
    "proximity_values = await get_proximity_values()\n",
    "print(f\"Front Proximity Sensor Value: {proximity_values}\")\n",
    "#await rotate(np.pi,100)\n"
   ]
  },
  {
   "cell_type": "code",
   "execution_count": 49,
   "metadata": {},
   "outputs": [],
   "source": [
    "await rotate(np.pi, 100)"
   ]
  },
  {
   "cell_type": "code",
   "execution_count": 24,
   "metadata": {},
   "outputs": [],
   "source": [
    "await move_forward(10, 100)"
   ]
  },
  {
   "cell_type": "code",
   "execution_count": 14,
   "metadata": {},
   "outputs": [
    {
     "data": {
      "text/plain": [
       "<generator object ClientAsyncNode.unlock at 0x000001B3F3CCBBC0>"
      ]
     },
     "execution_count": 14,
     "metadata": {},
     "output_type": "execute_result"
    }
   ],
   "source": [
    "node.unlock()"
   ]
  },
  {
   "cell_type": "code",
   "execution_count": 30,
   "metadata": {},
   "outputs": [],
   "source": [
    "\n"
   ]
  },
  {
   "cell_type": "code",
   "execution_count": 7,
   "metadata": {},
   "outputs": [],
   "source": [
    "def convert_to_idx(position, size_cell):\n",
    "    idx =[0,0]\n",
    "    idx[0] = int(np.floor(position[0]/size_cell))\n",
    "    idx[1] = int(np.floor(position[1]/size_cell))\n",
    "    return idx"
   ]
  },
  {
   "cell_type": "code",
   "execution_count": 37,
   "metadata": {},
   "outputs": [
    {
     "data": {
      "text/plain": [
       "[15, 30]"
      ]
     },
     "execution_count": 37,
     "metadata": {},
     "output_type": "execute_result"
    }
   ],
   "source": [
    "idx = convert_to_idx([30.45, 61.2],2)\n",
    "idx"
   ]
  },
  {
   "cell_type": "code",
   "execution_count": 38,
   "metadata": {},
   "outputs": [],
   "source": [
    "def test_if_goal(goal, position_robot):\n",
    "    # Displacement vec\n",
    "    if convert_to_idx(position_robot,2) == goal:\n",
    "        return True\n",
    "    else:\n",
    "        return False"
   ]
  },
  {
   "cell_type": "code",
   "execution_count": 4,
   "metadata": {},
   "outputs": [],
   "source": [
    "def compute_angle(x1,x2 ):\n",
    "    \"\"\"Calculer l'angle entre la direction actuelle et la direction vers l'arrivée.\"\"\"\n",
    "    angle_rad = math.atan2(x2[1] - x1[1], x2[0] - x1[0])\n",
    "    #angle_deg = math.degrees(angle_rad)\n",
    "    return angle_rad"
   ]
  },
  {
   "cell_type": "code",
   "execution_count": 43,
   "metadata": {},
   "outputs": [
    {
     "data": {
      "text/plain": [
       "0.7853981633974483"
      ]
     },
     "execution_count": 43,
     "metadata": {},
     "output_type": "execute_result"
    }
   ],
   "source": [
    "compute_angle([1,2],[4,5])"
   ]
  },
  {
   "cell_type": "code",
   "execution_count": 44,
   "metadata": {},
   "outputs": [
    {
     "data": {
      "text/plain": [
       "0.7853981633974483"
      ]
     },
     "execution_count": 44,
     "metadata": {},
     "output_type": "execute_result"
    }
   ],
   "source": [
    "np.pi/4"
   ]
  },
  {
   "cell_type": "code",
   "execution_count": 5,
   "metadata": {},
   "outputs": [],
   "source": [
    "async def move_to_goal (x_est, goal, speed): \n",
    "   \n",
    "    position_robot = [x_est[0],x_est[1]]\n",
    "    angle_robot = x_est[2]\n",
    "    pos_idx = convert_to_idx(position_robot,2)\n",
    "    angle_goal = compute_angle(pos_idx, goal)\n",
    "    print(angle_goal-angle_robot)\n",
    "\n",
    "    await rotate(angle_robot-angle_goal, speed)\n",
    "    await forward(100)\n",
    "    \n",
    "    \n",
    "\n",
    "        \n",
    "\n",
    "    "
   ]
  },
  {
   "cell_type": "code",
   "execution_count": 34,
   "metadata": {},
   "outputs": [
    {
     "name": "stdout",
     "output_type": "stream",
     "text": [
      "-1.5707963267948966\n",
      "2.199114857512855\n"
     ]
    }
   ],
   "source": [
    "await move_to_goal([2,4, 3*np.pi/4], [4,5], 100)"
   ]
  },
  {
   "cell_type": "code",
   "execution_count": 35,
   "metadata": {},
   "outputs": [],
   "source": [
    "await stop_motor()"
   ]
  }
 ],
 "metadata": {
  "kernelspec": {
   "display_name": "Python 3",
   "language": "python",
   "name": "python3"
  },
  "language_info": {
   "codemirror_mode": {
    "name": "ipython",
    "version": 3
   },
   "file_extension": ".py",
   "mimetype": "text/x-python",
   "name": "python",
   "nbconvert_exporter": "python",
   "pygments_lexer": "ipython3",
   "version": "3.11.5"
  }
 },
 "nbformat": 4,
 "nbformat_minor": 2
}
