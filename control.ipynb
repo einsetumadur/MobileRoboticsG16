{
 "cells": [
  {
   "cell_type": "code",
   "execution_count": 33,
   "metadata": {},
   "outputs": [],
   "source": [
    "#Alternative : \n",
    "#import files\n",
    "#from local_navigation import prox\n",
    "#import class\n",
    "#from thymioV2 import thymio_robot\n",
    "#import librairies\n",
    "import time\n",
    "import numpy as np\n",
    "import math \n"
   ]
  },
  {
   "cell_type": "code",
   "execution_count": 4,
   "metadata": {},
   "outputs": [
    {
     "data": {
      "text/plain": [
       "Node 95b5d775-2dea-417c-9b71-d572afe275af"
      ]
     },
     "execution_count": 4,
     "metadata": {},
     "output_type": "execute_result"
    }
   ],
   "source": [
    "from tdmclient import ClientAsync\n",
    "client = ClientAsync()\n",
    "node = await client.wait_for_node() #_ = protected #__ = private = shouldn't access node outside of the class\n",
    "await node.lock()"
   ]
  },
  {
   "cell_type": "code",
   "execution_count": 25,
   "metadata": {},
   "outputs": [
    {
     "name": "stdout",
     "output_type": "stream",
     "text": [
      "Front Proximity Sensor Value: [0, 0, 0, 0, 0]\n"
     ]
    }
   ],
   "source": [
    "#Thymio control\n",
    "def motors(l_speed=500, r_speed=500):\n",
    "    return {\n",
    "        \"motor.left.target\": [l_speed],\n",
    "        \"motor.right.target\": [r_speed],\n",
    "    }\n",
    "\n",
    "async def forward(motor_speed):\n",
    "    await node.set_variables(motors(motor_speed,motor_speed))\n",
    "\n",
    "async def motorset(motor_speed_left,motor_speed_right):\n",
    "    await node.set_variables(motors(motor_speed_left,motor_speed_right))\n",
    "\n",
    "async def rotate(theta, motor_speed): #theta is in radians\n",
    "    direction_rot=(theta>=0)-(theta<0)\n",
    "    await node.set_variables(motors(motor_speed*direction_rot, -motor_speed*direction_rot))\n",
    "    # wait time to get theta 1.44 is the factor to correct\n",
    "    time=(theta)*100/motor_speed*1.44\n",
    "    await(client.sleep(time))\n",
    "    # stop the robot\n",
    "    await node.set_variables(motors(0, 0))\n",
    "\n",
    "async def stop_motor():\n",
    "    await node.set_variables(motors(0,0))\n",
    "\n",
    "\n",
    "async def get_proximity_values():\n",
    "    # Wait for the Thymio node\n",
    "    node = await client.wait_for_node()\n",
    "    # Wait for the proximity sensor variables\n",
    "    await node.wait_for_variables({\"prox.horizontal\"})\n",
    "    # Get the proximity values : v: Stands for \"variables\" and is used to access the cached variable values.\n",
    "    proximity_values = node.v.prox.horizontal\n",
    "    # Return the value of the front proximity sensor (index 2)\n",
    "    return proximity_values[0:5]\n",
    "\n",
    "async def move_forward(dist, speed): \n",
    "    \n",
    "    await node.set_variables(motors(speed, speed))\n",
    "    # wait time to get theta 1.44 is the factor to correct\n",
    "    speed2 = 3.5*speed\n",
    "    time= 100*dist/speed2\n",
    "    await(client.sleep(time))\n",
    "    # stop the robot\n",
    "    await node.set_variables(motors(0, 0))\n",
    "\n",
    "# Run the asynchronous function and print the result\n",
    "proximity_values = await get_proximity_values()\n",
    "print(f\"Front Proximity Sensor Value: {proximity_values}\")\n",
    "#await rotate(np.pi,100)\n"
   ]
  },
  {
   "cell_type": "code",
   "execution_count": 17,
   "metadata": {},
   "outputs": [],
   "source": [
    "await rotate(np.pi, 100)"
   ]
  },
  {
   "cell_type": "code",
   "execution_count": 24,
   "metadata": {},
   "outputs": [],
   "source": [
    "await move_forward(10, 100)"
   ]
  },
  {
   "cell_type": "code",
   "execution_count": 14,
   "metadata": {},
   "outputs": [
    {
     "data": {
      "text/plain": [
       "<generator object ClientAsyncNode.unlock at 0x000001B3F3CCBBC0>"
      ]
     },
     "execution_count": 14,
     "metadata": {},
     "output_type": "execute_result"
    }
   ],
   "source": [
    "node.unlock()"
   ]
  },
  {
   "cell_type": "code",
   "execution_count": null,
   "metadata": {},
   "outputs": [],
   "source": [
    "def find_index_path_if_close(path_coord, position_robot, epsilon):\n",
    "    # Displacement vector\n",
    "    vect_disp = path_coord - position_robot\n",
    "\n",
    "    # Calculate the distance between the robot's position and the path\n",
    "    dist = np.sqrt(vect_disp[:, 0]**2 + vect_disp[:, 1]**2)\n",
    "    \n",
    "    # Find indices where the distance is less than epsilon\n",
    "    indices = np.where(dist < epsilon)[0]\n",
    "    \n",
    "    if indices.size == 0:\n",
    "        # No indices found\n",
    "        #print(\"No indices found where the distance is less than epsilon.\")\n",
    "        return None\n",
    "    else:\n",
    "        # Return the first index\n",
    "        #print(indices)\n",
    "        return indices[0]"
   ]
  },
  {
   "cell_type": "code",
   "execution_count": 30,
   "metadata": {},
   "outputs": [],
   "source": [
    "\n"
   ]
  },
  {
   "cell_type": "code",
   "execution_count": 35,
   "metadata": {},
   "outputs": [],
   "source": [
    "def convert_to_idx(position, size_cell):\n",
    "    idx =[0,0]\n",
    "    idx[0] = int(np.floor(position[0]/size_cell))\n",
    "    idx[1] = int(np.floor(position[1]/size_cell))\n",
    "    return idx"
   ]
  },
  {
   "cell_type": "code",
   "execution_count": 37,
   "metadata": {},
   "outputs": [
    {
     "data": {
      "text/plain": [
       "[15, 30]"
      ]
     },
     "execution_count": 37,
     "metadata": {},
     "output_type": "execute_result"
    }
   ],
   "source": [
    "idx = convert_to_idx([30.45, 61.2],2)\n",
    "idx"
   ]
  },
  {
   "cell_type": "code",
   "execution_count": null,
   "metadata": {},
   "outputs": [],
   "source": [
    "def test_if_goal(goal, position_robot):\n",
    "    # Displacement vec\n",
    "    if convert_to_idx(position_robot,2) == goal:\n",
    "        return True\n",
    "    else:\n",
    "        return False"
   ]
  },
  {
   "cell_type": "code",
   "execution_count": null,
   "metadata": {},
   "outputs": [],
   "source": [
    "async def move_to_goal (goal, speed, dt): \n",
    "    x_est = get_position(dt)\n",
    "    position_robot = [x_est[0],x_est[1]]\n",
    "    while not test_if_goal(goal, position_robot):\n",
    "\n",
    "        \n",
    "\n",
    "    "
   ]
  }
 ],
 "metadata": {
  "kernelspec": {
   "display_name": "Python 3",
   "language": "python",
   "name": "python3"
  },
  "language_info": {
   "codemirror_mode": {
    "name": "ipython",
    "version": 3
   },
   "file_extension": ".py",
   "mimetype": "text/x-python",
   "name": "python",
   "nbconvert_exporter": "python",
   "pygments_lexer": "ipython3",
   "version": "3.11.5"
  }
 },
 "nbformat": 4,
 "nbformat_minor": 2
}
