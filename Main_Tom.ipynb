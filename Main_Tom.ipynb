{
 "cells": [
  {
   "cell_type": "code",
   "execution_count": 1,
   "metadata": {},
   "outputs": [],
   "source": [
    "#Alternative : \n",
    "#import files\n",
    "#from local_navigation import prox\n",
    "#import class\n",
    "#from thymioV2 import thymio_robot\n",
    "#import librairies\n",
    "import time\n",
    "import numpy as np\n",
    "import math \n",
    "import cv2\n",
    "import matplotlib.pyplot as plt\n"
   ]
  },
  {
   "cell_type": "code",
   "execution_count": 2,
   "metadata": {},
   "outputs": [
    {
     "data": {
      "text/plain": [
       "Node 57eefc4f-0e49-4eba-b33e-341c5f84b956"
      ]
     },
     "execution_count": 2,
     "metadata": {},
     "output_type": "execute_result"
    }
   ],
   "source": [
    "from tdmclient import ClientAsync\n",
    "client = ClientAsync()\n",
    "node = await client.wait_for_node() #_ = protected #__ = private = shouldn't access node outside of the class\n",
    "await node.lock()"
   ]
  },
  {
   "cell_type": "code",
   "execution_count": null,
   "metadata": {},
   "outputs": [],
   "source": [
    "await th.stop_motor(node)"
   ]
  },
  {
   "cell_type": "code",
   "execution_count": 3,
   "metadata": {},
   "outputs": [],
   "source": [
    "from src.Motion_Control import thymio as th\n",
    "from src.Global_Nav import helpers_global as gb\n",
    "from src.Vision import vision as vs\n",
    "import filtering \n",
    "from src.Local_Nav import psymap as pm  \n",
    "from src.Local_Nav import local_navigation as ln        \n",
    "#from src.Vision import vision_test as vs2\n",
    "\n"
   ]
  },
  {
   "cell_type": "code",
   "execution_count": null,
   "metadata": {},
   "outputs": [],
   "source": [
    "MAP_SHAPE = (1000,700)\n",
    "REFRAME = True \n",
    "Ts =0.05"
   ]
  },
  {
   "cell_type": "code",
   "execution_count": null,
   "metadata": {},
   "outputs": [],
   "source": [
    "MAP_SHAPE = (1000,700)\n",
    "REFRAME = True \n",
    "cap = cv2.VideoCapture(1)#not 2\n",
    "\n"
   ]
  },
  {
   "cell_type": "code",
   "execution_count": null,
   "metadata": {},
   "outputs": [],
   "source": [
    "\n",
    "\n",
    "if REFRAME:\n",
    "    Tmap = vs.get_warp(cap,MAP_SHAPE,10,1)\n",
    "\n",
    "while True:\n",
    "    ret,frame = cap.read()\n",
    "    if ret:\n",
    "        # maps capture to map\n",
    "        if REFRAME:\n",
    "            \n",
    "            frame = cv2.warpPerspective(frame,Tmap,MAP_SHAPE)\n",
    "        # maps BGR to HLS color space for simplicity\n",
    "        HLS = cv2.cvtColor(frame, cv2.COLOR_BGR2HLS_FULL)\n",
    "        \n",
    "    \n",
    "        fmap = vs.get_grid_fixed_map(frame,(50,35),50, robrad=120)\n",
    "        \n",
    "        # find dest position\n",
    "        bool_dest, dest = vs.get_destination(frame)\n",
    "        \n",
    "        if bool_dest:\n",
    "            dest = dest/10.0\n",
    "            dest[1] = 70-dest[1]\n",
    "            dest = gb.convert_to_idx(dest,2)\n",
    "            #dest[1]= 35-dest[1]\n",
    "            dest = tuple(dest)\n",
    "        #dest = gb.convert_to_idx(vs.get_destination(frame)/10.0, 2)\n",
    "        # find robot\n",
    "            gotpos,robpos,orient, ppmx = vs.get_Robot_position_orientation(HLS,5)\n",
    "            if gotpos : \n",
    "                start=robpos\n",
    "                start[1]= 700 -start[1]\n",
    "                state_estimation_prev2 = np.array([[start[0]],[start[1]], [orient], [0],[0]])\n",
    "                start = start/10.0\n",
    "                print(state_estimation_prev2)\n",
    "                start = gb.convert_to_idx(start,2)\n",
    "                start = tuple(start)\n",
    "                path = gb.global_final(fmap,start,dest, \"8N\", True)\n",
    "                P_estimation_prev = 1000*np.ones(5)\n",
    "                break\n",
    "        "
   ]
  },
  {
   "cell_type": "code",
   "execution_count": null,
   "metadata": {},
   "outputs": [],
   "source": [
    " np.array([[0],[1], [4], [0],[0]])"
   ]
  },
  {
   "cell_type": "code",
   "execution_count": null,
   "metadata": {},
   "outputs": [],
   "source": [
    "def kidnapping(bottom_sensors):\n",
    "    if (bottom_sensors<1000):\n",
    "        print(\"Kidnapping detected\")\n",
    "        #recompute A*\n",
    "        \n"
   ]
  },
  {
   "cell_type": "code",
   "execution_count": null,
   "metadata": {},
   "outputs": [],
   "source": [
    "def next_checkpoint2(path, position, counter,local_obstacle):\n",
    "    if counter < len(path) - 1:\n",
    "        x1, y1 = path[counter]\n",
    "        x2, y2 = path[counter + 1]\n",
    "        x_est = x1 - position[0]\n",
    "        y_est = y1 - position[1]\n",
    "        dist = np.sqrt(x_est ** 2 + y_est ** 2)\n",
    "        if(local_obstacle and dist<8):\n",
    "            counter=counter+1\n",
    "            x1, y1 = path[counter]\n",
    "            x_est = x1 - position[0]\n",
    "            y_est = y1 - position[1]\n",
    "            dist = np.sqrt(x_est ** 2 + y_est ** 2) \n",
    "            if dist<10:  \n",
    "                counter = counter+1  \n",
    "                counter=counter+1\n",
    "                x1, y1 = path[counter]\n",
    "                x_est = x1 - position[0]\n",
    "                y_est = y1 - position[1]\n",
    "                dist = np.sqrt(x_est ** 2 + y_est ** 2) \n",
    "                if dist <12:\n",
    "                    counter = counter+1\n",
    "                    return np.array([path[counter][0], path[counter][1]]), counter\n",
    "                else : \n",
    "                    return np.array([path[counter][0], path[counter][1]]), counter\n",
    "            else : \n",
    "                return np.array([path[counter][0], path[counter][1]]), counter\n",
    "\n",
    "        if dist < 2:\n",
    "            counter = counter + 1\n",
    "            return np.array([path[counter][0], path[counter][1]]), counter\n",
    "\n",
    "    return np.array([path[counter][0], path[counter][1]]), counter"
   ]
  },
  {
   "cell_type": "code",
   "execution_count": null,
   "metadata": {},
   "outputs": [],
   "source": [
    "\n",
    "## Main boucld sans filtering\n",
    "Ts =0.01\n",
    "epsilon=np.pi/15 #np.pi/12\n",
    "local_obstacle = False\n",
    "counter=0## Main boucld sans filtering\n",
    "Ts =0.01\n",
    "epsilon=np.pi/10 #np.pi/12\n",
    "local_obstacle = False\n",
    "counter=0\n",
    "record= []\n",
    "angle =[]\n",
    "#check_point_prev =[0,0]\n",
    "check_point_prev=np.array([0,0])\n",
    "while True:\n",
    "    ret,frame = cap.read()\n",
    "    Tmap = vs.get_warp(cap,MAP_SHAPE,10,1)\n",
    "    if ret:\n",
    "        # maps capture to map\n",
    "        if REFRAME:\n",
    "            frame = cv2.warpPerspective(frame,Tmap,MAP_SHAPE)\n",
    "        # maps BGR to HLS color space for simplicity\n",
    "        HLS = cv2.cvtColor(frame, cv2.COLOR_BGR2HLS_FULL)\n",
    "\n",
    "        bool_pos ,center,orient, scale = vs.get_Robot_position_orientation(HLS, 5)\n",
    "        if bool_pos : \n",
    "            \n",
    "\n",
    "            center = center/20.0\n",
    "            center[1] = 35- center[1]\n",
    "            x_est_cam = [center[0], center[1], orient]\n",
    "\n",
    "            record.append(x_est_cam)\n",
    "           # print(x_est_cam)\n",
    "            #check_point = gb.next_checkpoint(path, center)\n",
    "            check_point, counter = gb.next_checkpoint2(path, center, counter)\n",
    "            \n",
    "            if check_point_prev != check_point:\n",
    "                print(f\"Le robot est en position de {center}, converti en index {gb.convert_to_idx(center,1)} et le prochain check point est {check_point}\")\n",
    "                #print(checkpoint)\n",
    "                check_point_prev = check_point\n",
    "                \n",
    "            if abs(center[0]-path[-1][0])<0.5 and abs(center[0]-path[-1][0])<0.5:\n",
    "                await th.stop_motor(node)\n",
    "                break\n",
    "            #angle_error=orient-th.compute_angle(gb.convert_to_idx(center,1), check_point)\n",
    "            angle_error=orient-th.compute_angle(gb.convert_to_idx(center,1), path[counter])\n",
    "            #print(f\"L'angle du robot est {orient} et l'angle vers le goal est {th.compute_angle(gb.convert_to_idx(center,1) , check_point)} et l'angle error est {angle_error}\")\n",
    "            angle.append(angle_error)\n",
    "            #local nav\n",
    "            #sensor values\n",
    "            obscont = vs.get_obstacles(frame)\n",
    "            capthall = pm.hallucinate_map([center[0],center[1],(-orient)],obscont)\n",
    "            sens = await th.get_proximity_values(client)\n",
    "            if (sum(sens[i] > 1500 for i in range(0, 5)) > 0):\n",
    "                local_obstacle = True\n",
    "\n",
    "            if(local_obstacle):\n",
    "                await ln.local_navigation2(client,node,[center[0],center[1],(-orient)],obscont)\n",
    "                if(not sum(sens[i] > 1500 for i in range(0, 5)) > 0):\n",
    "                    await th.motorset(node,100,100)\n",
    "                    await client.sleep(1.5)\n",
    "                    local_obstacle = False\n",
    "                \n",
    "            #motor control\n",
    "            if(not local_obstacle):\n",
    "                if(angle_error>epsilon):\n",
    "                    await th.motorset(node,70,-70)\n",
    "                elif (angle_error<-epsilon):\n",
    "                    await th.motorset(node,-70,70)\n",
    "                else:\n",
    "                    await th.motorset(node,120,120)\n",
    "            \n",
    "    await client.sleep(Ts)      \n",
    "\n",
    "\n",
    "\n",
    "\n",
    "\n",
    "\n",
    "        #else :\n",
    "           # x_est_cam = None\n",
    "    \n",
    "    #else :\n",
    "        #x_est_cam = None\n",
    "        #bool_pos = False\n",
    "        \n",
    "        \n",
    "    \n",
    "    #state_estimation, P_estimation, speed, angular_speed, start_time = await filter.get_position(state_estimation_prev, P_estimation_prev, start_time,bool_pos,x_est_cam, node )\n",
    "    #state_estimation_prev = state_estimation\n",
    "    #P_estimation_prev = P_estimation\n",
    "\n",
    "    #position = [state_estimation[0], state_estimation[1]]\n",
    "\n",
    "    \n",
    "\n",
    "\n",
    "    \n",
    "\n",
    "    \n",
    "\n",
    "   \n",
    "\n",
    "\n",
    "\n",
    "    "
   ]
  },
  {
   "cell_type": "code",
   "execution_count": null,
   "metadata": {},
   "outputs": [],
   "source": [
    "center= np.array([40.4, 18.2])\n",
    "center/2"
   ]
  },
  {
   "cell_type": "code",
   "execution_count": null,
   "metadata": {},
   "outputs": [],
   "source": [
    "from tdmclient import ClientAsync\n",
    "client = ClientAsync()\n",
    "node = await client.wait_for_node() #_ = protected #__ = private = shouldn't access node outside of the class\n",
    "await node.lock()"
   ]
  },
  {
   "cell_type": "code",
   "execution_count": 4,
   "metadata": {},
   "outputs": [
    {
     "name": "stdout",
     "output_type": "stream",
     "text": [
      "critical obsatcle avoidance mode\n",
      "aaaaaaa\n",
      "critical obsatcle avoidance mode\n",
      "aaaaaaa\n"
     ]
    },
    {
     "ename": "CancelledError",
     "evalue": "",
     "output_type": "error",
     "traceback": [
      "\u001b[1;31m---------------------------------------------------------------------------\u001b[0m",
      "\u001b[1;31mCancelledError\u001b[0m                            Traceback (most recent call last)",
      "\u001b[1;32md:\\TOM\\EPFL\\master\\MA1\\Basic of mobile Robotics\\Project\\Git\\MobileRoboticsG16\\Main_Tom.ipynb Cell 14\u001b[0m line \u001b[0;36m1\n\u001b[0;32m     <a href='vscode-notebook-cell:/d%3A/TOM/EPFL/master/MA1/Basic%20of%20mobile%20Robotics/Project/Git/MobileRoboticsG16/Main_Tom.ipynb#X56sZmlsZQ%3D%3D?line=14'>15</a>\u001b[0m         local_obstacle \u001b[39m=\u001b[39m \u001b[39mFalse\u001b[39;00m\n\u001b[0;32m     <a href='vscode-notebook-cell:/d%3A/TOM/EPFL/master/MA1/Basic%20of%20mobile%20Robotics/Project/Git/MobileRoboticsG16/Main_Tom.ipynb#X56sZmlsZQ%3D%3D?line=16'>17</a>\u001b[0m \u001b[39melse\u001b[39;00m:\n\u001b[1;32m---> <a href='vscode-notebook-cell:/d%3A/TOM/EPFL/master/MA1/Basic%20of%20mobile%20Robotics/Project/Git/MobileRoboticsG16/Main_Tom.ipynb#X56sZmlsZQ%3D%3D?line=17'>18</a>\u001b[0m     \u001b[39mawait\u001b[39;00m th\u001b[39m.\u001b[39mmotorset(node,\u001b[39m100\u001b[39m,\u001b[39m100\u001b[39m)\n",
      "File \u001b[1;32md:\\TOM\\EPFL\\master\\MA1\\Basic of mobile Robotics\\Project\\Git\\MobileRoboticsG16\\src\\Motion_Control\\thymio.py:30\u001b[0m, in \u001b[0;36mmotorset\u001b[1;34m(node, motor_speed_left, motor_speed_right)\u001b[0m\n\u001b[0;32m     29\u001b[0m \u001b[39masync\u001b[39;00m \u001b[39mdef\u001b[39;00m \u001b[39mmotorset\u001b[39m(node,motor_speed_left,motor_speed_right):\n\u001b[1;32m---> 30\u001b[0m     \u001b[39mawait\u001b[39;00m node\u001b[39m.\u001b[39mset_variables(motors(motor_speed_left,motor_speed_right))\n",
      "File \u001b[1;32md:\\Programmes\\Anaconda\\envs\\thymio_env\\lib\\site-packages\\tdmclient\\clientasyncnode.py:96\u001b[0m, in \u001b[0;36mClientAsyncNode.set_variables\u001b[1;34m(self, var_dict)\u001b[0m\n\u001b[0;32m     94\u001b[0m \u001b[39m@types\u001b[39m\u001b[39m.\u001b[39mcoroutine\n\u001b[0;32m     95\u001b[0m \u001b[39mdef\u001b[39;00m \u001b[39mset_variables\u001b[39m(\u001b[39mself\u001b[39m, var_dict):\n\u001b[1;32m---> 96\u001b[0m     result \u001b[39m=\u001b[39m \u001b[39myield from\u001b[39;00m \u001b[39mself\u001b[39m\u001b[39m.\u001b[39mthymio\u001b[39m.\u001b[39msend_msg_and_get_result(\n\u001b[0;32m     97\u001b[0m         \u001b[39mlambda\u001b[39;00m notify:\n\u001b[0;32m     98\u001b[0m             \u001b[39mself\u001b[39m\u001b[39m.\u001b[39msend_set_variables(var_dict, request_id_notify\u001b[39m=\u001b[39mnotify)\n\u001b[0;32m     99\u001b[0m     )\n\u001b[0;32m    100\u001b[0m     \u001b[39mreturn\u001b[39;00m result\n",
      "File \u001b[1;32md:\\Programmes\\Anaconda\\envs\\thymio_env\\lib\\site-packages\\tdmclient\\clientasync.py:175\u001b[0m, in \u001b[0;36mClientAsync.send_msg_and_get_result\u001b[1;34m(self, send_fun)\u001b[0m\n\u001b[0;32m    173\u001b[0m send_fun(notify)\n\u001b[0;32m    174\u001b[0m \u001b[39mwhile\u001b[39;00m \u001b[39mnot\u001b[39;00m done:\n\u001b[1;32m--> 175\u001b[0m     \u001b[39myield\u001b[39;00m\n\u001b[0;32m    176\u001b[0m     sleep(\u001b[39mself\u001b[39m\u001b[39m.\u001b[39mDEFAULT_SLEEP)\n\u001b[0;32m    177\u001b[0m     \u001b[39mself\u001b[39m\u001b[39m.\u001b[39mprocess_waiting_messages()\n",
      "\u001b[1;31mCancelledError\u001b[0m: "
     ]
    }
   ],
   "source": [
    "#test local avoidance : \n",
    "await th.motorset(node,100,100)\n",
    "local_obstacle=False\n",
    "from src.Local_Nav import local_navigation as ln \n",
    "while(True):\n",
    "    sens = await th.get_proximity_values(client)\n",
    "    if(sum(sens[i] > 1500 for i in range(0, 5)) > 0):\n",
    "        local_obstacle = True\n",
    "\n",
    "    if(local_obstacle):\n",
    "        await ln.local_navigation2(client,node)\n",
    "        if(not sum(sens[i] > 1500 for i in range(0, 5)) > 0):\n",
    "            await th.motorset(node,100,100)\n",
    "            await client.sleep(1.5)\n",
    "            local_obstacle = False\n",
    "\n",
    "    else:\n",
    "        await th.motorset(node,100,100)\n",
    "                "
   ]
  },
  {
   "cell_type": "code",
   "execution_count": 5,
   "metadata": {},
   "outputs": [],
   "source": [
    "await th.stop_motor(node)"
   ]
  },
  {
   "cell_type": "code",
   "execution_count": null,
   "metadata": {},
   "outputs": [],
   "source": [
    "if(None):\n",
    "    print(1)\n"
   ]
  },
  {
   "cell_type": "code",
   "execution_count": null,
   "metadata": {},
   "outputs": [],
   "source": [
    "np.array([0,0])"
   ]
  },
  {
   "cell_type": "code",
   "execution_count": null,
   "metadata": {},
   "outputs": [],
   "source": [
    "gb.next_checkpoint(path,[8,17])"
   ]
  },
  {
   "cell_type": "code",
   "execution_count": null,
   "metadata": {},
   "outputs": [],
   "source": [
    "path[-1][0]"
   ]
  },
  {
   "cell_type": "code",
   "execution_count": null,
   "metadata": {},
   "outputs": [],
   "source": [
    "await th.stop_motor(node)"
   ]
  },
  {
   "cell_type": "code",
   "execution_count": null,
   "metadata": {},
   "outputs": [],
   "source": [
    "import matplotlib.pyplot as plt"
   ]
  },
  {
   "cell_type": "code",
   "execution_count": null,
   "metadata": {},
   "outputs": [],
   "source": [
    "import matplotlib.pyplot as plt\n",
    "\n",
    "# Votre liste de coordonnées x, y, angle pour chaque instant\n",
    "# Extraction des coordonnées x et y de chaque instant t\n",
    "#record_div = [[x/2, y/2, angle] for x, y, angle in record]\n",
    "x_values = [coord[0] for coord in record]\n",
    "y_values = [coord[1] for coord in record]\n",
    "x_path =   [coord[0] for coord in path]\n",
    "y_path =  [coord[1] for coord in path]\n",
    "\n",
    "# Tracer le graphique x en fonction de y\n",
    "plt.plot(x_values, y_values, marker='.', linestyle='-')\n",
    "plt.plot(x_path, y_path, marker ='o', color = 'red')\n",
    "plt.title('Graphique de x en fonction de y')\n",
    "plt.xlabel('x')\n",
    "plt.ylabel('y')\n",
    "plt.grid(True)\n",
    "plt.show()\n"
   ]
  },
  {
   "cell_type": "code",
   "execution_count": null,
   "metadata": {},
   "outputs": [],
   "source": [
    "x_values/2"
   ]
  },
  {
   "cell_type": "code",
   "execution_count": null,
   "metadata": {},
   "outputs": [],
   "source": [
    "center = [12.5, 44.5]\n",
    "gb.next_checkpoint(path, gb.convert_to_idx(center,2))\n"
   ]
  },
  {
   "cell_type": "code",
   "execution_count": null,
   "metadata": {},
   "outputs": [],
   "source": [
    "gb.convert_to_idx(center,2)"
   ]
  },
  {
   "cell_type": "code",
   "execution_count": null,
   "metadata": {},
   "outputs": [],
   "source": [
    "Ts =0.05\n",
    "epsilon=np.pi/8\n",
    "\n",
    "start_time = time.time()\n",
    "record= []\n",
    "angle =[]\n",
    "check_point_prev =[0,0]\n",
    "norm_distance=[]\n",
    "state_estimation_prev= state_estimation_prev2\n",
    "\n",
    "while True:\n",
    "    ret,frame = cap.read()\n",
    "    Tmap = vs.get_warp(cap,MAP_SHAPE,10,1)\n",
    "    if ret:\n",
    "        # maps capture to map\n",
    "        if REFRAME:\n",
    "            frame = cv2.warpPerspective(frame,Tmap,MAP_SHAPE)\n",
    "        # maps BGR to HLS color space for simplicity\n",
    "        HLS = cv2.cvtColor(frame, cv2.COLOR_BGR2HLS_FULL)\n",
    "\n",
    "        bool_pos ,center,orient, scale = vs.get_Robot_position_orientation(HLS, 5)\n",
    "        if bool_pos : \n",
    "            #center = center/20.0\n",
    "            center[1] = 700- center[1]\n",
    "            x_est_cam = np.array([center[0], center[1], orient])\n",
    "            print(x_est_cam)\n",
    "        else :\n",
    "            x_est_cam = None\n",
    "    \n",
    "    else :\n",
    "        x_est_cam = None\n",
    "        bool_pos = False\n",
    "        \n",
    "\n",
    " \n",
    "    state_estimation, P_estimation, speed, angular_speed, start_time = await filtering.get_position(state_estimation_prev, P_estimation_prev, start_time,bool_pos,x_est_cam, node )\n",
    "    state_estimation_prev = state_estimation\n",
    "    P_estimation_prev = P_estimation\n",
    "\n",
    "    position = np.array([state_estimation[0].item(), state_estimation[1].item()])\n",
    "    theta = state_estimation[2]\n",
    "\n",
    "    await th.motorset(node,120,120)\n",
    "    print(position, theta)\n",
    "\n",
    "    norm_distance.append(np.sqrt((state_estimation[0]-state_estimation_prev2[0])**2 + (state_estimation[1]-state_estimation_prev2[1])**2))\n",
    "            #print(\"distance\", norm_distance[-1], \"state_estimate angle\", state_estimation[2]*180/np.pi, end=\"\\r\")\n",
    "            \n",
    "    if (norm_distance[-1] > 300):\n",
    "        await th.stop_motor(node)\n",
    "        break\n",
    "    \"\"\"\"\"\n",
    "    position = position / 20.0\n",
    "    check_point = gb.next_checkpoint(path, position)\n",
    "    #if check_point_prev != check_point:\n",
    "    print(f\"Le robot est en position de {position }, converti en index {gb.convert_to_idx(position,1)} et le prochain check point est {check_point}\")\n",
    "            \n",
    "    check_point_prev = check_point\n",
    "                \n",
    "    if abs(position[0]-path[-1][0])<0.5 and abs(position[0]-path[-1][0])<0.5:\n",
    "        await th.stop_motor(node)\n",
    "        break\n",
    "    angle_error=theta-th.compute_angle(gb.convert_to_idx(position,1) , check_point)\n",
    "    #print(f\"L'angle du robot est {orient} et l'angle vers le goal est {th.compute_angle(gb.convert_to_idx(center,1) , check_point)} et l'angle error est {angle_error}\")\n",
    "    angle.append(angle_error)\n",
    "\n",
    "    \n",
    "    if(angle_error>epsilon):\n",
    "        await th.motorset(node,70,-70)\n",
    "    elif (angle_error<-epsilon):\n",
    "        await th.motorset(node,-70,70)\n",
    "    else:\n",
    "        await th.motorset(node,120,120)\n",
    "     \"\"\"   \n",
    "    \n",
    "    await client.sleep(Ts)  \n",
    "           \n",
    "\n",
    "\n",
    "\n",
    "    "
   ]
  },
  {
   "cell_type": "code",
   "execution_count": null,
   "metadata": {},
   "outputs": [],
   "source": [
    "await th.stop_motor(node)"
   ]
  },
  {
   "cell_type": "code",
   "execution_count": null,
   "metadata": {},
   "outputs": [],
   "source": [
    "#test\n",
    "import asyncio\n",
    "from src.Motion_Control import thymio as th\n",
    "async def test(node,client):\n",
    "    current_time_seconds = time.time()\n",
    "    await th.rotate(client,-np.pi/2,100)\n",
    "    print(time.time())\n",
    "    print(\"1\")\n",
    "    await client.sleep(2)\n",
    "    print(time.time())\n",
    "    await th.rotate(client,np.pi/2,100)\n",
    "    \n",
    "    print(\"2\")\n",
    "\n",
    "await test(node,client)"
   ]
  },
  {
   "cell_type": "code",
   "execution_count": null,
   "metadata": {},
   "outputs": [],
   "source": [
    "position_camera = np.array([[3],[ 4], [5]])\n",
    "position_camera"
   ]
  },
  {
   "cell_type": "code",
   "execution_count": null,
   "metadata": {},
   "outputs": [],
   "source": [
    "np.array([position_camera[0:2], [3], [10]])"
   ]
  },
  {
   "cell_type": "code",
   "execution_count": null,
   "metadata": {},
   "outputs": [],
   "source": [
    "def kalman_all(speed_l,speed_r,x_detected,x_est_prev,P_est_prev,detection,speed_conv_factor,speed_thymio_to_rad_s,Ts):\n",
    "   lin_speed = (speed_l+speed_r)/2\n",
    "   ang_speed = speed_r-speed_l\n",
    "   alpha = x_est_prev[3][0]\n",
    "   A = np.array([[1,0,Ts*np.cos(alpha),0,0],\n",
    "                [0,1,Ts*np.sin(alpha),0,0],\n",
    "                [0,0,1,0,0],\n",
    "                [0,0,0,1,Ts],\n",
    "                [0,0,0,0,1]])\n",
    "\n",
    "   Q = np.eye(5)*qp\n",
    "\n",
    "   x_est_a_priori = np.dot(A, x_est_prev)#+inc_alpha;\n",
    "   x_est_a_priori[3]=x_est_a_priori[3]%(2*math.pi)\n",
    "\n",
    "   P_est_a_priori = np.dot(A, np.dot(P_est_prev, A.T));\n",
    "   P_est_a_priori = P_est_a_priori + Q if type(Q) != type(None) else P_est_a_priori\n",
    "\n",
    "   if (detection):\n",
    "       # transition detected\n",
    "       pos_last_cam = x_detected;\n",
    "       y = np.array([[pos_last_cam[0]],[pos_last_cam[1]],[lin_speed*speed_conv_factor],[pos_last_cam[2]],[ang_speed*speed_thymio_to_rad_s]])\n",
    "       H = np.eye(5)\n",
    "       #R = np.array([[rp, 0],[0, r_nu]])\n",
    "       R= np.eye(5)*rp #We don't have precise values yet\n",
    "   else:\n",
    "       # no transition, use only the speed\n",
    "       y = np.array([[lin_speed*speed_conv_factor],[ang_speed*speed_thymio_to_rad_s]])\n",
    "       H = np.array([[0., 0., 1., 0.,0.],[0., 0., 0., 0.,1.]])\n",
    "       R = np.eye(2)*rp\n",
    "\n",
    "   # innovation / measurement residual\n",
    "   i = y - np.dot(H, x_est_a_priori);\n",
    "\n",
    "   #print(\"P_est_a_priori\",np.dot(P_est_a_priori, H.T))\n",
    "\n",
    "   # measurement prediction covariance\n",
    "   S = np.dot(H, np.dot(P_est_a_priori, H.T)) + R;\n",
    "\n",
    "   # Kalman gain (tells how much the predictions should be corrected based on the measurements)\n",
    "   K = np.dot(P_est_a_priori, np.dot(H.T, np.linalg.inv(S)));\n",
    "\n",
    "   # a posteriori estimate\n",
    "   x_est = x_est_a_priori + np.dot(K,i);\n",
    "   P_est = P_est_a_priori - np.dot(K,np.dot(H, P_est_a_priori));\n",
    "\n",
    "   return x_est, P_est,lin_speed,ang_speed"
   ]
  },
  {
   "cell_type": "code",
   "execution_count": null,
   "metadata": {},
   "outputs": [],
   "source": [
    "qp = 0.04 # variance on position state\n",
    "rp = 0.25 # variance on position measurement "
   ]
  },
  {
   "cell_type": "code",
   "execution_count": null,
   "metadata": {},
   "outputs": [],
   "source": [
    "\n",
    "\n",
    "Ts= 0.1\n",
    "iter = 0\n",
    "x_est_prev =[[0],[0],[0],[0],[0]]\n",
    "P_est_prev = np.eye(5)*0.1\n",
    "\n",
    "dis_init = np.array([0,0])\n",
    "x_store = np.array([[0,0]])\n",
    "\n",
    "while True :\n",
    "    print(x_est_prev)\n",
    "    await th.forward(node,100)\n",
    "    iter = iter+1\n",
    "    await node.wait_for_variables()\n",
    "    l_speed = node[\"motor.left.speed\"]\n",
    "    r_speed = node[\"motor.right.speed\"]\n",
    "    x_est, P_est,lin_speed,ang_speed = kalman_all(l_speed, r_speed, [0,0], x_est_prev, P_est_prev, False , 0.72 , 0.5, Ts)\n",
    "    P_est_prev= P_est\n",
    "    \n",
    "    x_est_prev = x_est\n",
    "    dis = np.array([x_est[0][0],x_est[1][0]])\n",
    "    x_store = np.append(x_store, dis)\n",
    "    await client.sleep(Ts)\n",
    "    if np.linalg.norm(dis-dis_init)>=100:\n",
    "        await th.stop_motor(node)\n",
    "        break\n"
   ]
  },
  {
   "cell_type": "code",
   "execution_count": null,
   "metadata": {},
   "outputs": [],
   "source": [
    "await th.stop_motor(node)"
   ]
  },
  {
   "cell_type": "code",
   "execution_count": null,
   "metadata": {},
   "outputs": [],
   "source": []
  },
  {
   "cell_type": "code",
   "execution_count": null,
   "metadata": {},
   "outputs": [],
   "source": [
    "x_est[0][0]"
   ]
  },
  {
   "cell_type": "code",
   "execution_count": null,
   "metadata": {},
   "outputs": [],
   "source": [
    "#To unlock the Robot\n",
    "await node.unlock()"
   ]
  },
  {
   "cell_type": "code",
   "execution_count": null,
   "metadata": {},
   "outputs": [],
   "source": [
    "#Thymio control functions \n",
    "def motors(l_speed=500, r_speed=500):\n",
    "    return {\n",
    "        \"motor.left.target\": [l_speed],\n",
    "        \"motor.right.target\": [r_speed],\n",
    "    }\n",
    "\n",
    "async def forward(node, motor_speed):\n",
    "    await node.set_variables(motors(motor_speed,motor_speed))\n",
    "\n",
    "async def motorset(node,motor_speed_left,motor_speed_right):\n",
    "    await node.set_variables(motors(motor_speed_left,motor_speed_right))\n",
    "\n",
    "async def rotate(node,theta, motor_speed): #theta is in radians\n",
    "    direction_rot=(theta>=0)-(theta<0)\n",
    "    await node.set_variables(motors(motor_speed*direction_rot, -motor_speed*direction_rot))\n",
    "    # wait time to get theta 1.44 is the factor to correct\n",
    "    time=(theta)*100/motor_speed*1.44\n",
    "    await(client.sleep(time))\n",
    "    # stop the robot\n",
    "    await node.set_variables(motors(0, 0))\n",
    "\n",
    "async def stop_motor(node):\n",
    "    await node.set_variables(motors(0,0))\n",
    "\n",
    "async def get_proximity_values(node):\n",
    "    # Wait for the Thymio node\n",
    "    node = await client.wait_for_node()\n",
    "    # Wait for the proximity sensor variables\n",
    "    await node.wait_for_variables({\"prox.horizontal\"})\n",
    "    # Get the proximity values : v: Stands for \"variables\" and is used to access the cached variable values.\n",
    "    proximity_values = node.v.prox.horizontal\n",
    "    # Return the value of the front proximity sensor (index 2)\n",
    "    return proximity_values[0:5]\n",
    "\n",
    "# Run the asynchronous function and print the result\n",
    "proximity_values = await get_proximity_values(node)\n",
    "print(f\"Front Proximity Sensor Value: {proximity_values}\")\n",
    "#await rotate(np.pi,100)\n"
   ]
  },
  {
   "cell_type": "code",
   "execution_count": null,
   "metadata": {},
   "outputs": [],
   "source": [
    "#Navigation control\n",
    "#find_index if robot abs coord is close enough to a position of the A*paths\n",
    "def find_index_path_if_close(path_coord, position_robot, epsilon):\n",
    "    # Displacement vector\n",
    "    vect_disp = path_coord - position_robot\n",
    "\n",
    "    # Calculate the distance between the robot's position and the path\n",
    "    dist = np.sqrt(vect_disp[:, 0]**2 + vect_disp[:, 1]**2)\n",
    "    \n",
    "    # Find indices where the distance is less than epsilon\n",
    "    indices = np.where(dist < epsilon)[0]\n",
    "    \n",
    "    if indices.size == 0:\n",
    "        # No indices found\n",
    "        #print(\"No indices found where the distance is less than epsilon.\")\n",
    "        return None\n",
    "    else:\n",
    "        # Return the first index\n",
    "        #print(indices)\n",
    "        return indices[0]"
   ]
  },
  {
   "cell_type": "code",
   "execution_count": null,
   "metadata": {},
   "outputs": [],
   "source": [
    "await stop_motor()"
   ]
  },
  {
   "cell_type": "code",
   "execution_count": null,
   "metadata": {},
   "outputs": [],
   "source": [
    "#local navigation\n",
    "\n",
    "state=1\n",
    "async def local_navigation2():\n",
    "    proximity_values = await get_proximity_values()\n",
    "    global state\n",
    "\n",
    "    w_l = [40,  20, -20, -20, -40,  30, -10, 8, 0]\n",
    "    \n",
    "    w_r = [-40, -20, -20,  20,  40, -10, 30, 0, 8]\n",
    "\n",
    "    # Scale factors for sensors and constant factor\n",
    "    sensor_scale = 2000\n",
    "    \n",
    "    x = [0,0,0,0,0,0,0,0,0]\n",
    "    \n",
    "    if state != 0:\n",
    "        for i in range(5):\n",
    "            # Get and scale inputs\n",
    "            x[i] = proximity_values[i] // sensor_scale\n",
    "        \n",
    "        y = [100,100]    \n",
    "        \n",
    "        for i in range(len(x)):    \n",
    "            # Compute outputs of neurons and set motor powers\n",
    "            y[0] = y[0] + x[i] * w_l[i]\n",
    "            y[1] = y[1] + x[i] * w_r[i]\n",
    "    else: \n",
    "        # In case we would like to stop the robot\n",
    "        y = [0,0] \n",
    "    \n",
    "    # Set motor powers\n",
    "    await motorset(y[0],y[1])"
   ]
  },
  {
   "cell_type": "code",
   "execution_count": null,
   "metadata": {},
   "outputs": [],
   "source": [
    "await stop_motor()"
   ]
  },
  {
   "cell_type": "code",
   "execution_count": null,
   "metadata": {},
   "outputs": [],
   "source": [
    "#MAIN CODE 1: \n",
    "\n",
    "#parameters\n",
    "path_step=0 #This is the index of where we are in the path.\n",
    "path_coord = np.array([[1,2], [2,3], [3,4]])\n",
    "b = np.array([3.2, 4.5])\n",
    "epsilon = 0.5\n",
    "local_obstacle=False\n",
    "threshold_obst=3500\n",
    "\n",
    "\n",
    "#to implement in a different way thanks to filtering : \n",
    "robot_position=1\n",
    "end_position=2\n",
    "\n",
    "async def main():\n",
    "    global local_obstacle\n",
    "    \n",
    "    while(robot_position!=end_position):\n",
    "        sens = await get_proximity_values()\n",
    "        if (sum(sens[i] > threshold_obst for i in range(0, 5)) > 0):\n",
    "            local_obstacle = True\n",
    "            start_time = time.time()\n",
    "\n",
    "        if(local_obstacle):\n",
    "            sens = await get_proximity_values()\n",
    "            #sens=list(node[\"prox.horizontal\"])\n",
    "            await local_navigation2()\n",
    "            local_obstacle=False\n",
    "        \n",
    "        #if(find_index_path_if_close(path_coord,b,epsilon) and time.time-start_time>2): \n",
    "            #path_step=find_index_path_if_close(path_coord, position_robot, epsilon)\n",
    "            #local_navigation=False\n",
    "\n",
    "        if not local_obstacle: \n",
    "            node.send_set_variables(motors(50, 50))\n",
    "            #Function input : absolute velocity wanted ; output wheel velocity\n",
    "            #u=speed along x axis\n",
    "            #v=speed along y axis\n",
    "            #apply compute wheel velocity to robot in the while loop\n",
    "            pass\n",
    "\n",
    "await main()"
   ]
  }
 ],
 "metadata": {
  "kernelspec": {
   "display_name": "Python 3",
   "language": "python",
   "name": "python3"
  },
  "language_info": {
   "codemirror_mode": {
    "name": "ipython",
    "version": 3
   },
   "file_extension": ".py",
   "mimetype": "text/x-python",
   "name": "python",
   "nbconvert_exporter": "python",
   "pygments_lexer": "ipython3",
   "version": "3.10.13"
  }
 },
 "nbformat": 4,
 "nbformat_minor": 2
}
