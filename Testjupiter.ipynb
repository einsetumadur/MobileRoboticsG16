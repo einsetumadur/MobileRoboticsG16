{
 "cells": [
  {
   "cell_type": "code",
   "execution_count": 4,
   "metadata": {},
   "outputs": [
    {
     "ename": "CancelledError",
     "evalue": "",
     "output_type": "error",
     "traceback": [
      "\u001b[1;31m---------------------------------------------------------------------------\u001b[0m",
      "\u001b[1;31mCancelledError\u001b[0m                            Traceback (most recent call last)",
      "\u001b[1;32md:\\TOM\\EPFL\\master\\MA1\\Basic of mobile Robotics\\Project\\Git\\MobileRoboticsG16\\Testjupiter.ipynb Cell 1\u001b[0m line \u001b[0;36m2\n\u001b[0;32m      <a href='vscode-notebook-cell:/d%3A/TOM/EPFL/master/MA1/Basic%20of%20mobile%20Robotics/Project/Git/MobileRoboticsG16/Testjupiter.ipynb#W0sZmlsZQ%3D%3D?line=0'>1</a>\u001b[0m \u001b[39mimport\u001b[39;00m \u001b[39mtdmclient\u001b[39;00m\u001b[39m.\u001b[39;00m\u001b[39mnotebook\u001b[39;00m\n\u001b[1;32m----> <a href='vscode-notebook-cell:/d%3A/TOM/EPFL/master/MA1/Basic%20of%20mobile%20Robotics/Project/Git/MobileRoboticsG16/Testjupiter.ipynb#W0sZmlsZQ%3D%3D?line=1'>2</a>\u001b[0m \u001b[39mawait\u001b[39;00m tdmclient\u001b[39m.\u001b[39mnotebook\u001b[39m.\u001b[39mstart()\n\u001b[0;32m      <a href='vscode-notebook-cell:/d%3A/TOM/EPFL/master/MA1/Basic%20of%20mobile%20Robotics/Project/Git/MobileRoboticsG16/Testjupiter.ipynb#W0sZmlsZQ%3D%3D?line=2'>3</a>\u001b[0m \u001b[39m#import local_navigation as ln\u001b[39;00m\n\u001b[0;32m      <a href='vscode-notebook-cell:/d%3A/TOM/EPFL/master/MA1/Basic%20of%20mobile%20Robotics/Project/Git/MobileRoboticsG16/Testjupiter.ipynb#W0sZmlsZQ%3D%3D?line=3'>4</a>\u001b[0m \u001b[39mfrom\u001b[39;00m \u001b[39mlocal_navigation\u001b[39;00m \u001b[39mimport\u001b[39;00m prox\n",
      "File \u001b[1;32md:\\Programmes\\Anaconda\\envs\\thymio_env\\lib\\site-packages\\tdmclient\\notebook\\private.py:111\u001b[0m, in \u001b[0;36mstart\u001b[1;34m(zeroconf, zeroconf_all, tdm_ws, tdm_addr, tdm_port, password, debug, **kwargs)\u001b[0m\n\u001b[0;32m     94\u001b[0m \u001b[39m\u001b[39m\u001b[39m\"\"\"Start the connection with the Thymio and variable synchronization.\u001b[39;00m\n\u001b[0;32m     95\u001b[0m \n\u001b[0;32m     96\u001b[0m \u001b[39mArguments:\u001b[39;00m\n\u001b[1;32m   (...)\u001b[0m\n\u001b[0;32m    104\u001b[0m \u001b[39m    zeroconf_all - True to use zeroconf with all interfaces instead of default (default: false)\u001b[39;00m\n\u001b[0;32m    105\u001b[0m \u001b[39m\"\"\"\u001b[39;00m\n\u001b[0;32m    107\u001b[0m client \u001b[39m=\u001b[39m ClientAsync(zeroconf\u001b[39m=\u001b[39mzeroconf, zeroconf_all\u001b[39m=\u001b[39mzeroconf_all,\n\u001b[0;32m    108\u001b[0m                      tdm_addr\u001b[39m=\u001b[39mtdm_addr, tdm_port\u001b[39m=\u001b[39mtdm_port, tdm_ws\u001b[39m=\u001b[39mtdm_ws,\n\u001b[0;32m    109\u001b[0m                      password\u001b[39m=\u001b[39mpassword,\n\u001b[0;32m    110\u001b[0m                      debug\u001b[39m=\u001b[39mdebug)\n\u001b[1;32m--> 111\u001b[0m node \u001b[39m=\u001b[39m \u001b[39mawait\u001b[39;00m client\u001b[39m.\u001b[39mwait_for_node(\u001b[39m*\u001b[39m\u001b[39m*\u001b[39mkwargs)\n\u001b[0;32m    112\u001b[0m \u001b[39mawait\u001b[39;00m node\u001b[39m.\u001b[39mlock()\n\u001b[0;32m    114\u001b[0m \u001b[39mglobal\u001b[39;00m _interactive_console\n",
      "File \u001b[1;32md:\\Programmes\\Anaconda\\envs\\thymio_env\\lib\\site-packages\\tdmclient\\clientasync.py:106\u001b[0m, in \u001b[0;36mClientAsync.wait_for_node\u001b[1;34m(self, timeout, **kwargs)\u001b[0m\n\u001b[0;32m    104\u001b[0m     sleep(\u001b[39mself\u001b[39m\u001b[39m.\u001b[39mDEFAULT_SLEEP)\n\u001b[0;32m    105\u001b[0m     time \u001b[39m+\u001b[39m\u001b[39m=\u001b[39m \u001b[39mself\u001b[39m\u001b[39m.\u001b[39mDEFAULT_SLEEP\n\u001b[1;32m--> 106\u001b[0m \u001b[39myield\u001b[39;00m\n",
      "\u001b[1;31mCancelledError\u001b[0m: "
     ]
    }
   ],
   "source": [
    "\n",
    "#import tdmclient.notebook\n",
    "#await tdmclient.notebook.start()\n",
    "#import local_navigation as ln\n",
    "from local_navigation import prox\n",
    "import test\n",
    "import time\n",
    "#import test as t \n",
    "import math \n",
    "import numpy as np"
   ]
  },
  {
   "cell_type": "code",
   "execution_count": null,
   "metadata": {},
   "outputs": [],
   "source": [
    "!python -m tdmclient gui"
   ]
  },
  {
   "cell_type": "code",
   "execution_count": null,
   "metadata": {},
   "outputs": [],
   "source": [
    "await tdmclient.notebook.stop()"
   ]
  },
  {
   "cell_type": "code",
   "execution_count": null,
   "metadata": {},
   "outputs": [],
   "source": [
    "%%run_python  \n",
    "#ATTENTION %%run_python doit être en début de cell !!!\n",
    "#Making the robot move, for tests : \n",
    "\n",
    "BASICSPEED=100\n",
    "GAIN= 10\n",
    "\n",
    "@onevent\n",
    "def prox():\n",
    "    global prox_ground_delta, motor_left_target, motor_right_target, BASICSPEED, GAIN\n",
    "    diff = prox_ground_delta[1] - prox_ground_delta[0]\n",
    "    motor_left_target = BASICSPEED - diff*GAIN\n",
    "    motor_right_target = BASICSPEED + diff*GAIN"
   ]
  },
  {
   "cell_type": "code",
   "execution_count": null,
   "metadata": {},
   "outputs": [],
   "source": [
    "%%run_python \n",
    "#to manually stop motion\n",
    "\n",
    "motor_left_target=0\n",
    "motor_right_target=0"
   ]
  },
  {
   "cell_type": "code",
   "execution_count": null,
   "metadata": {},
   "outputs": [],
   "source": [
    "%%run_python\n",
    "#function 1 : marche pas super bien, il faudrait changer les gains psk le robot essaie desquiver mais fonce qd mm dans l'obstacle\n",
    "\n",
    "speed0 = 100       # nominal speed\n",
    "speedGain = 2      # gain used with ground gradient\n",
    "obstThrL = 10      # low obstacle threshold to switch state 1->0\n",
    "obstThrH = 20      # high obstacle threshold to switch state 0->1\n",
    "obstSpeedGain = 5  # /100 (actual gain: 5/100=0.05)\n",
    "\n",
    "state = 1          # 0=gradient, 1=obstacle avoidance\n",
    "obst = [0,0]       # measurements from left and right prox sensors\n",
    "\n",
    "timer_period[0] = 10   # 10ms sampling time\n",
    "\n",
    "\n",
    "@onevent \n",
    "def timer0():\n",
    "    global prox_ground_delta, prox_horizontal, motor_left_target, motor_right_target, state, obst, obstThrH, obstThrL, obstSpeedGain, speed0, speedGain \n",
    "    # acquisition from ground sensor for going toward the goal\n",
    "    diffDelta = prox_ground_delta[1] - prox_ground_delta[0]\n",
    "\n",
    "    # acquisition from the proximity sensors to detect obstacles\n",
    "    obst = [prox_horizontal[0], prox_horizontal[4]]\n",
    "    \n",
    "    # tdmclient does not support yet multiple and/or in if statements:\n",
    "    if state == 0: \n",
    "        # switch from goal tracking to obst avoidance if obstacle detected\n",
    "        if (obst[0] > obstThrH):\n",
    "            state = 1\n",
    "        elif (obst[1] > obstThrH):\n",
    "            state = 1\n",
    "    elif state == 1:\n",
    "        if obst[0] < obstThrL:\n",
    "            if obst[1] < obstThrL : \n",
    "                # switch from obst avoidance to goal tracking if obstacle got unseen\n",
    "                state = 0\n",
    "    if  state == 0 :\n",
    "        # goal tracking: turn toward the goal\n",
    "        leds_top = [0,0,0]\n",
    "        motor_left_target = speed0 - speedGain * diffDelta\n",
    "        motor_right_target = speed0 + speedGain * diffDelta\n",
    "    else:\n",
    "        leds_top = [30,30,30]\n",
    "        # obstacle avoidance: accelerate wheel near obstacle\n",
    "        motor_left_target = speed0 + obstSpeedGain * (obst[0] // 100)\n",
    "        motor_right_target = speed0 + obstSpeedGain * (obst[1] // 100)\n"
   ]
  },
  {
   "cell_type": "code",
   "execution_count": null,
   "metadata": {},
   "outputs": [],
   "source": []
  },
  {
   "cell_type": "code",
   "execution_count": null,
   "metadata": {},
   "outputs": [],
   "source": [
    "%%run_python\n",
    "#function2 : created by me : turn left if goal (path) is more to the left and turns right if goal is more to the right. If Error : calls global navigation again\n",
    "\n",
    " #state : 0 = no obstacle\n",
    " #state : 1 = obstacle\n",
    "\n",
    " #Parameters : \n",
    "state=0\n",
    "loc_speed=100\n",
    "threshold=100\n",
    "thresholdB=100\n",
    "\n",
    "def rotation(angle):\n",
    "    \n",
    "\n",
    "\n",
    "@onevent\n",
    "def prox():\n",
    "    global prox_horizontal, motor_left_target, motor_right_target, loc_speed, state, threshold, thresholdB\n",
    "    print(prox_horizontal[0])\n",
    "    #state definition\n",
    "    if prox_horizontal[0]>threshold:#obstacle on the left side\n",
    "        state=1\n",
    "        print(state)\n",
    "    if prox_horizontal[4]>threshold:#obstacle on the left side\n",
    "        state=2\n",
    "        print(state)\n",
    "\n",
    "    #will delete this later when we have global navigation\n",
    "    if state==0: \n",
    "        motor_left_target=100\n",
    "        motor_right_target=100\n",
    "        \n",
    "    #robot reaction : \n",
    "    if state == 1:\n",
    "            motor_left_target = loc_speed\n",
    "            motor_right_target = -loc_speed\n",
    "            if prox_horizontal[0]<threshold:\n",
    "                motor_left_target = +loc_speed\n",
    "                motor_right_target = +loc_speed\n",
    "                if prox_horizontal[0]>thresholdB:\n",
    "                    motor_left_target = -loc_speed\n",
    "                    motor_right_target = +loc_speed\n",
    "                    if prox_horizontal[0]<thresholdB:\n",
    "                        state = 0\n",
    "\n",
    "\n",
    "    if state == 2:\n",
    "            motor_left_target = -loc_speed\n",
    "            motor_right_target = loc_speed\n",
    "            if prox_horizontal[4] < threshold :\n",
    "                motor_left_target = -loc_speed\n",
    "                motor_right_target = +loc_speed\n",
    "                if prox_horizontal[4]>thresholdB:\n",
    "                    state = 0"
   ]
  },
  {
   "cell_type": "code",
   "execution_count": null,
   "metadata": {},
   "outputs": [],
   "source": [
    "\n",
    "speed0 = 100       # nominal speed\n",
    "speedGain = 2      # gain used with ground gradient\n",
    "obstThrL = 10      # low obstacle threshold to switch state 1->0\n",
    "obstThrH = 20      # high obstacle threshold to switch state 0->1\n",
    "obstSpeedGain = 5  # /100 (actual gain: 5/100=0.05)\n",
    "\n",
    "state = 1          # 0=gradient, 1=obstacle avoidance\n",
    "obst = [0,0]       # measurements from left and right prox sensors\n",
    "\n",
    "timer_period[0] = 10   # 10ms sampling time\n",
    "\n"
   ]
  },
  {
   "cell_type": "code",
   "execution_count": null,
   "metadata": {},
   "outputs": [],
   "source": [
    "\n",
    "#This is a test : \n",
    "@tdmclient.notebook.sync_var\n",
    "test.f(30) "
   ]
  },
  {
   "cell_type": "code",
   "execution_count": null,
   "metadata": {},
   "outputs": [],
   "source": [
    "#this is test nb 2\n",
    "@tdmclient.notebook.sync_var\n",
    "def f(temp_limit=30):\n",
    "    global temperature, leds_top \n",
    "    if temperature > temp_limit*10:\n",
    "        leds_top = [32,0,0]\n",
    "    else:\n",
    "        leds_top= [0,10,32]\n",
    "        \n",
    "f(30) "
   ]
  },
  {
   "cell_type": "code",
   "execution_count": null,
   "metadata": {},
   "outputs": [],
   "source": [
    "%%python \n",
    "import math \n",
    "a=math.pi \n",
    "print(a)"
   ]
  },
  {
   "cell_type": "code",
   "execution_count": null,
   "metadata": {},
   "outputs": [],
   "source": []
  },
  {
   "cell_type": "code",
   "execution_count": null,
   "metadata": {},
   "outputs": [],
   "source": [
    "#try maybe await or async\n",
    "tdmclient.notebook.sync_var\n",
    "def turn(theta): #in rad\n",
    "    global motor_left_target, motor_right_target\n",
    "    motor_left_target = 100\n",
    "    motor_right_target = -100\n",
    "    #speed*abs(theta)/theta\n",
    "    time.sleep(2)\n",
    "    #print (theta/speed)\n",
    "    motor_left_target = 0\n",
    "    motor_right_target = 0\n",
    "\n",
    "turn(-3.14/2)\n",
    "\n",
    "\n"
   ]
  },
  {
   "cell_type": "code",
   "execution_count": null,
   "metadata": {},
   "outputs": [],
   "source": [
    "motor_left_target = 0\n",
    "motor_right_target = 0"
   ]
  },
  {
   "cell_type": "code",
   "execution_count": null,
   "metadata": {},
   "outputs": [],
   "source": [
    "#try maybe await or async\n",
    "tdmclient.notebook.sync_var\n",
    "def turn(theta): #in rad\n",
    "    global motor_left_target, motor_right_target\n",
    "    speed=100\n",
    "    motor_left_target = 100\n",
    "    motor_right_target = -100\n",
    "    #speed*abs(theta)/theta\n",
    "    time.sleep(2)\n",
    "    print (theta/speed)\n",
    "    motor_left_target = 0\n",
    "    motor_right_target = 0\n",
    "\n",
    "turn(-3.14/2)\n",
    "#motor_left_target = 0\n",
    "#motor_right_target = 10"
   ]
  },
  {
   "cell_type": "code",
   "execution_count": null,
   "metadata": {},
   "outputs": [],
   "source": [
    "%%run_python\n",
    "#parameters\n",
    "ONETURN = 8873\n",
    "SAMPLING = 5\n",
    "\n",
    "state = 0\n",
    "time = 0\n",
    "\n",
    "timer_period[0] = SAMPLING # 5 ms resolution\n",
    "\n",
    "def rotate():\n",
    "    global state, time, motor_left_target, motor_right_target\n",
    "    state = TURN\n",
    "    time = 0\n",
    "\n",
    "@onevent \n",
    "def timer0():\n",
    "    global state, FORWARD, TURN, ONETURN, SAMPLING, time, motor_left_target, motor_right_target\n",
    "    time = time + 1\n",
    "    if state == FORWARD:\n",
    "        if time > ONETURN*3//SAMPLING//2:\n",
    "            time = 0\n",
    "            state = TURN\n",
    "            motor_left_target = 100\n",
    "            motor_right_target = -100\n",
    "        if state == TURN:\n",
    "            if time > ONETURN*3//SAMPLING//2:\n",
    "                time = 0\n",
    "                state = FORWARD\n",
    "                motor_left_target = 0\n",
    "                motor_right_target = 0\n",
    "\n",
    "rotate() "
   ]
  },
  {
   "cell_type": "code",
   "execution_count": 5,
   "metadata": {},
   "outputs": [
    {
     "data": {
      "text/plain": [
       "Node 57eefc4f-0e49-4eba-b33e-341c5f84b956"
      ]
     },
     "execution_count": 5,
     "metadata": {},
     "output_type": "execute_result"
    }
   ],
   "source": [
    "#Try in async : \n",
    "#node` is an object which contains some properties related to the robot and let you communicate with it\n",
    "from tdmclient import ClientAsync\n",
    "client = ClientAsync()\n",
    "node = await client.wait_for_node()\n",
    "await node.lock()"
   ]
  },
  {
   "cell_type": "code",
   "execution_count": null,
   "metadata": {},
   "outputs": [],
   "source": [
    "await node.wait_for_variables()#fonction qui obtient tt les variable et les stoquent dans node.var. ça le fait une fois ! si on veut \n",
    "#l'actualliser souvent faut le mettre dans dans une boucle/mettre un timer\n",
    "#node.var  "
   ]
  },
  {
   "cell_type": "code",
   "execution_count": 6,
   "metadata": {},
   "outputs": [
    {
     "ename": "NameError",
     "evalue": "name 'np' is not defined",
     "output_type": "error",
     "traceback": [
      "\u001b[1;31m---------------------------------------------------------------------------\u001b[0m",
      "\u001b[1;31mNameError\u001b[0m                                 Traceback (most recent call last)",
      "\u001b[1;32md:\\TOM\\EPFL\\master\\MA1\\Basic of mobile Robotics\\Project\\Git\\MobileRoboticsG16\\Testjupiter.ipynb Cell 20\u001b[0m line \u001b[0;36m1\n\u001b[0;32m     <a href='vscode-notebook-cell:/d%3A/TOM/EPFL/master/MA1/Basic%20of%20mobile%20Robotics/Project/Git/MobileRoboticsG16/Testjupiter.ipynb#X25sZmlsZQ%3D%3D?line=13'>14</a>\u001b[0m     \u001b[39m# stop the robot\u001b[39;00m\n\u001b[0;32m     <a href='vscode-notebook-cell:/d%3A/TOM/EPFL/master/MA1/Basic%20of%20mobile%20Robotics/Project/Git/MobileRoboticsG16/Testjupiter.ipynb#X25sZmlsZQ%3D%3D?line=14'>15</a>\u001b[0m     \u001b[39mawait\u001b[39;00m node\u001b[39m.\u001b[39mset_variables(motors(\u001b[39m0\u001b[39m, \u001b[39m0\u001b[39m))\n\u001b[1;32m---> <a href='vscode-notebook-cell:/d%3A/TOM/EPFL/master/MA1/Basic%20of%20mobile%20Robotics/Project/Git/MobileRoboticsG16/Testjupiter.ipynb#X25sZmlsZQ%3D%3D?line=16'>17</a>\u001b[0m \u001b[39mawait\u001b[39;00m rotate(\u001b[39m2\u001b[39m\u001b[39m*\u001b[39mnp\u001b[39m.\u001b[39mpi,\u001b[39m100\u001b[39m)\n",
      "\u001b[1;31mNameError\u001b[0m: name 'np' is not defined"
     ]
    }
   ],
   "source": [
    "#Thymio control\n",
    "def motors(l_speed=500, r_speed=500):\n",
    "    return {\n",
    "        \"motor.left.target\": [l_speed],\n",
    "        \"motor.right.target\": [r_speed],\n",
    "    }\n",
    "\n",
    "async def rotate(theta, motor_speed): #theta is in radians\n",
    "    direction_rot=(theta>=0)-(theta<0)\n",
    "    await node.set_variables(motors(motor_speed*direction_rot, -motor_speed*direction_rot))\n",
    "    # wait time to get theta 1.44 is the factor to correct\n",
    "    time=(theta)*100/motor_speed*1.44\n",
    "    await(client.sleep(time))\n",
    "    # stop the robot\n",
    "    await node.set_variables(motors(0, 0))\n",
    "\n",
    "await rotate(2*np.pi,100)\n",
    " "
   ]
  },
  {
   "cell_type": "code",
   "execution_count": null,
   "metadata": {},
   "outputs": [],
   "source": [
    "await node.set_variables(motors(0, 0))"
   ]
  },
  {
   "cell_type": "code",
   "execution_count": null,
   "metadata": {},
   "outputs": [],
   "source": [
    "#Now unlock the robot: in aseba\n",
    "await(node.unlock())"
   ]
  }
 ],
 "metadata": {
  "kernelspec": {
   "display_name": "Python 3",
   "language": "python",
   "name": "python3"
  },
  "language_info": {
   "codemirror_mode": {
    "name": "ipython",
    "version": 3
   },
   "file_extension": ".py",
   "mimetype": "text/x-python",
   "name": "python",
   "nbconvert_exporter": "python",
   "pygments_lexer": "ipython3",
   "version": "3.8.18"
  }
 },
 "nbformat": 4,
 "nbformat_minor": 2
}
